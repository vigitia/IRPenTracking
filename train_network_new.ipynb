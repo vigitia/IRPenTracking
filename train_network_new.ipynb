{
 "cells": [
  {
   "cell_type": "markdown",
   "id": "0dd9f5f5-07f0-4ed2-9576-35193b761582",
   "metadata": {},
   "source": [
    "# TipTrack CNN Training"
   ]
  },
  {
   "cell_type": "code",
   "execution_count": null,
   "id": "4ee560ba-f876-4d26-9c89-49a62e042970",
   "metadata": {},
   "outputs": [],
   "source": [
    "from keras.models import Sequential\n",
    "from keras.metrics import categorical_crossentropy\n",
    "from keras.callbacks import ReduceLROnPlateau\n",
    "from keras.layers import Dense, Dropout, Flatten, Conv2D, MaxPooling2D, RandomFlip, RandomRotation\n",
    "# from tensorflow.keras.layers import RandomFlip, RandomRotation, RandomBrightness\n",
    "\n",
    "from prepare_dataset import PrepareDataset"
   ]
  },
  {
   "cell_type": "code",
   "execution_count": null,
   "id": "bc373a28-fe90-4d21-88d6-df3d3f9a50eb",
   "metadata": {},
   "outputs": [],
   "source": [
    "IMG_SIZE = 48\n",
    "\n",
    "TARGET_FOLDER = 'training_images/2023-02-22'\n",
    "\n",
    "MODEL_NAME = 'model_2023_003'"
   ]
  },
  {
   "cell_type": "code",
   "execution_count": null,
   "id": "8a3f8a25-e684-4c95-9a61-f87934ad8ed7",
   "metadata": {},
   "outputs": [],
   "source": [
    "prepare_dataset = PrepareDataset()\n",
    "\n",
    "train_X, train_label, test_X, test_label = prepare_dataset.get_dataset(TARGET_FOLDER, IMG_SIZE)"
   ]
  },
  {
   "cell_type": "markdown",
   "id": "89989190-af7d-4571-a2c0-9341ce3232ae",
   "metadata": {},
   "source": [
    "## Init Keras Model"
   ]
  },
  {
   "cell_type": "code",
   "execution_count": null,
   "id": "d14fd49c-536a-4b51-88e8-3cd2357085a7",
   "metadata": {},
   "outputs": [],
   "source": [
    "# batch 64\n",
    "# epoch 1\n",
    "# conv linear\n",
    "\n",
    "batch_size = 128\n",
    "epochs = 1\n",
    "num_classes = 2\n",
    "activation = 'relu'\n",
    "activation_conv = 'linear'  # LeakyReLU\n",
    "layer_count = 5\n",
    "num_neurons = 128\n",
    "\n",
    "# Define model structure\n",
    "model = Sequential()\n",
    "\n",
    "# model.add(data_augmentation_new)\n",
    "model.add(\n",
    "    Conv2D(64, kernel_size=(3, 1), activation=activation_conv, input_shape=(IMG_SIZE, IMG_SIZE, 1), padding='same'))\n",
    "model.add(Conv2D(64, (1, 3), activation=activation_conv, padding='same'))\n",
    "model.add(MaxPooling2D(pool_size=(2, 2), padding='same'))\n",
    "\n",
    "model.add(Conv2D(32, (3, 1), activation=activation_conv, padding='same'))\n",
    "model.add(Conv2D(32, (1, 3), activation=activation_conv, padding='same'))\n",
    "model.add(MaxPooling2D(pool_size=(2, 2), padding='same'))\n",
    "# model.add(Dropout(0.2))\n",
    "model.add(Conv2D(32, (3, 3), activation=activation_conv, padding='same'))\n",
    "model.add(MaxPooling2D(pool_size=(2, 2), padding='same'))\n",
    "model.add(Dropout(0.2))\n",
    "# model.add(Conv2D(128, (3, 3), activation='linear',padding='same'))\n",
    "# model.add(MaxPooling2D(pool_size=(2, 2),padding='same'))\n",
    "model.add(Flatten())\n",
    "\n",
    "# trial and error: linear performs much better than ReLU and sigmoid\n",
    "for i in range(layer_count - 1):\n",
    "    model.add(Dense(num_neurons, activation=activation))\n",
    "model.add(Dropout(0.2))\n",
    "\n",
    "model.add(Dense(num_neurons, activation=activation))\n",
    "# model.add(Dense(64, activation=activation))\n",
    "# model.add(Dense(64, activation=activation))\n",
    "# model.add(Dense(128, activation='linear'))\n",
    "# model.add(Dense(128, activation='linear'))\n",
    "\n",
    "# classifier\n",
    "model.add(Dense(num_classes, activation='softmax'))\n",
    "\n",
    "model.compile(loss=categorical_crossentropy, optimizer=\"adam\", metrics=['accuracy'])\n",
    "\n",
    "reduce_lr = ReduceLROnPlateau(monitor='val_loss', factor=0.2, patience=1, min_lr=0.0001)"
   ]
  },
  {
   "cell_type": "markdown",
   "id": "f2902888-99f8-4ce9-940a-4149e18dc58a",
   "metadata": {},
   "source": [
    "## Train Model"
   ]
  },
  {
   "cell_type": "code",
   "execution_count": null,
   "id": "50cc511c-b2ac-41c8-a170-9f60ea151ab2",
   "metadata": {},
   "outputs": [],
   "source": [
    "history = model.fit(\n",
    "    train_X,\n",
    "    train_label,\n",
    "    batch_size=batch_size,\n",
    "    epochs=epochs,\n",
    "    verbose=1,\n",
    "    validation_data=(test_X, test_label),\n",
    "    callbacks=[reduce_lr]\n",
    ")\n",
    "\n",
    "# TODO: Create a plot from these values\n",
    "loss = print(history.history['loss'])\n",
    "val_loss = print(history.history['val_loss'])\n",
    "accuracy = print(history.history['accuracy'])\n",
    "val_accuracy = print(history.history['val_accuracy'])"
   ]
  },
  {
   "cell_type": "markdown",
   "id": "9d1233ca-e0e7-48e3-81ec-ec84c26af333",
   "metadata": {},
   "source": [
    "## Save Model"
   ]
  },
  {
   "cell_type": "code",
   "execution_count": null,
   "id": "40feae9e-ef74-49c9-b7a0-4ea217b1a045",
   "metadata": {},
   "outputs": [],
   "source": [
    "if MODEL_NAME in next(os.walk('.'))[1]:\n",
    "    print('Warning: There already exists a model called \"{}\"'.format(MODEL_NAME))\n",
    "    print('Make sure you want to overwrite it before it gets saved!')\n",
    "else:\n",
    "    model.save(MODEL_NAME)\n",
    "\n",
    "model.summary()"
   ]
  }
 ],
 "metadata": {
  "kernelspec": {
   "display_name": "Python 3 (ipykernel)",
   "language": "python",
   "name": "python3"
  },
  "language_info": {
   "codemirror_mode": {
    "name": "ipython",
    "version": 3
   },
   "file_extension": ".py",
   "mimetype": "text/x-python",
   "name": "python",
   "nbconvert_exporter": "python",
   "pygments_lexer": "ipython3",
   "version": "3.8.10"
  }
 },
 "nbformat": 4,
 "nbformat_minor": 5
}
