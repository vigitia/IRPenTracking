{
 "cells": [
  {
   "cell_type": "code",
   "execution_count": 1,
   "id": "upset-norway",
   "metadata": {},
   "outputs": [
    {
     "name": "stderr",
     "output_type": "stream",
     "text": [
      "2022-06-29 12:11:07.483348: W tensorflow/stream_executor/platform/default/dso_loader.cc:64] Could not load dynamic library 'libcudart.so.11.0'; dlerror: libcudart.so.11.0: cannot open shared object file: No such file or directory; LD_LIBRARY_PATH: /home/vigitia/.local/lib/python3.8/site-packages/cv2/../../lib64:/opt/ros/foxy/lib/x86_64-linux-gnu:/opt/ros/foxy/lib:/home/vigitia/ros2_galactic/ros2-linux/opt/yaml_cpp_vendor/lib:/home/vigitia/ros2_galactic/ros2-linux/opt/rviz_ogre_vendor/lib:/home/vigitia/ros2_galactic/ros2-linux/lib\n",
      "2022-06-29 12:11:07.483371: I tensorflow/stream_executor/cuda/cudart_stub.cc:29] Ignore above cudart dlerror if you do not have a GPU set up on your machine.\n"
     ]
    }
   ],
   "source": [
    "from matplotlib import pyplot as plt\n",
    "import cv2\n",
    "import numpy as np\n",
    "import os\n",
    "from tqdm import tqdm_notebook as tqdm\n",
    "import random\n",
    "import time\n",
    "\n",
    "import tensorflow as tf\n",
    "from tensorflow.keras.utils import to_categorical\n",
    "\n",
    "from sklearn.model_selection import train_test_split\n",
    "\n",
    "from tensorflow import keras\n",
    "\n",
    "from tensorflow.python.keras.models import Sequential,Input,Model\n",
    "from tensorflow.keras.layers import Dense, Dropout, Flatten\n",
    "from tensorflow.keras.layers import Conv2D, MaxPooling2D\n",
    "\n",
    "from tensorflow.keras.layers import BatchNormalization\n",
    "from tensorflow.keras.layers import LeakyReLU"
   ]
  },
  {
   "cell_type": "code",
   "execution_count": 2,
   "id": "environmental-robertson",
   "metadata": {},
   "outputs": [
    {
     "name": "stdout",
     "output_type": "stream",
     "text": [
      "test\n"
     ]
    }
   ],
   "source": [
    "print('test')"
   ]
  },
  {
   "cell_type": "code",
   "execution_count": 30,
   "id": "applicable-small",
   "metadata": {},
   "outputs": [],
   "source": [
    "PATH_DRAW = '../out/draw_many/'\n",
    "PATH_HOVER = '../out/hover_many/'\n",
    "PATH_HOVER_CLOSE = '../out/close/'\n",
    "PATH_HOVER_FAR = '../out/hover_high/'\n",
    "\n",
    "PATH_TEST_DRAW = '../out/draw/'\n",
    "PATH_TEST_HOVER = '../out/hover/'\n",
    "\n",
    "PATH_DRAW_NEW = '../out/draw_new_2'\n",
    "PATH_HOVER_NEW = '../out/hover_new_2'\n",
    "\n",
    "PATH_DIRECT = '../out/direct'\n",
    "\n",
    "PATH_DRAW_SUNLIGHT = '../out/draw_sunlight'\n",
    "PATH_HOVER_SUNLIGHT = '../out/hover_sunlight'\n",
    "\n",
    "PATH_DRAW_SUPERBRIGHT = '../out/superbright_draw_2'\n",
    "PATH_HOVER_SUPERBRIGHT = '../out/superbright_hover_2'\n",
    "\n",
    "PATH_DRAW_FINAL_1 = '../out/draw_new_final'\n",
    "PATH_DRAW_FINAL_2 = '../out/draw_new_final_2'\n",
    "PATH_HOVER_FINAL_1 = '../out/hover_new_final'\n",
    "PATH_HOVER_FINAL_2 = '../out/hover_new_final_2'\n",
    "\n",
    "PATH_DRAW_LAB = '../out/draw_new_lab'\n",
    "PATH_HOVER_LAB = '../out/hover_new_lab'\n",
    "\n",
    "PATH_DRAW_STEREO = '../out2/2022-06-24/draw'\n",
    "PATH_HOVER_STEREO = '../out2/2022-06-24/hover'\n",
    "\n",
    "#DRAW_PATHS = ['../out2/2022-06-24/draw/', '../out2/2022-06-28/draw/']\n",
    "#HOVER_PATHS = ['../out2/2022-06-24/hover/', '../out2/2022-06-28/hover/']\n",
    "\n",
    "DRAW_PATHS = ['../out2/2022-06-29/draw1', '../out2/2022-06-29/draw2', '../additional_training_images/draw']\n",
    "HOVER_PATHS = ['../out2/2022-06-29/hover1', '../out2/2022-06-29/hover2', '../additional_training_images/hover']\n",
    "\n",
    "#REINFORCEMENT_DRAW_PATHS = []\n",
    "#REINFORCEMENT_HOVER_PATHS = []\n",
    "\n",
    "#for exposure in [2500, 2000, 1500, 1000]:\n",
    "#    gain = int(exposure / 10)\n",
    "#    DRAW_PATHS.append(f'../out/draw_{exposure}_{gain}')\n",
    "#    HOVER_PATHS.append(f'../out/hover_{exposure}_{gain}')\n",
    "        \n",
    "\n",
    "IMG_SIZE = 48"
   ]
  },
  {
   "cell_type": "code",
   "execution_count": 4,
   "id": "friendly-marriage",
   "metadata": {},
   "outputs": [],
   "source": [
    "def crop_image(img, size = 16):\n",
    "    margin = int(size / 2)\n",
    "    _, brightest, _, (max_x, max_y) = cv2.minMaxLoc(img)\n",
    "    img_cropped = img[max_y - margin : max_y + margin, max_x - margin : max_x + margin]\n",
    "    return img_cropped, (max_x, max_y)"
   ]
  },
  {
   "cell_type": "code",
   "execution_count": 5,
   "id": "4cec93d1-8a62-4f7d-95b6-d8046e710104",
   "metadata": {},
   "outputs": [],
   "source": [
    "def crop_image_2(img, size = 16):\n",
    "    margin = int(size / 2)\n",
    "    brightest = int(np.max(img))\n",
    "    _, thresh = cv2.threshold(img, brightest - 1, 255, cv2.THRESH_BINARY)\n",
    "    contours = cv2.findContours(thresh, cv2.RETR_EXTERNAL, cv2.CHAIN_APPROX_SIMPLE)\n",
    "    \n",
    "    #print(contours)\n",
    "    \n",
    "    contours = contours[0] if len(contours) == 2 else contours[1]\n",
    "    \n",
    "    x_values = []\n",
    "    y_values = []\n",
    "    for cnt in contours:\n",
    "        for point in cnt:\n",
    "            point = point[0]\n",
    "            #print(point)\n",
    "            x_values.append(point[0])\n",
    "            y_values.append(point[1])\n",
    "    \n",
    "    #print('x', np.max(x_values), np.min(x_values))\n",
    "    #print('y', np.max(y_values), np.min(y_values))\n",
    "    d_x = np.max(x_values) - np.min(x_values)\n",
    "    d_y = np.max(y_values) - np.min(y_values)\n",
    "    center_x = int(np.min(x_values) + d_x / 2)\n",
    "    center_y = int(np.min(y_values) + d_y / 2)\n",
    "    #print(center_x, center_y)\n",
    "    \n",
    "    left = np.max([0, center_x - margin])\n",
    "    top = np.max([0, center_y - margin])\n",
    "    \n",
    "    #print(left, top)\n",
    "    \n",
    "    if left + size >= img.shape[1]:\n",
    "        #left -= (left + size - img.shape[1] - 1)\n",
    "        left = img.shape[1] - size - 1\n",
    "    if top + size >= img.shape[0]:\n",
    "        #top -= (top + size - img.shape[0] - 1)\n",
    "        top = img.shape[0] - size - 1\n",
    "    \n",
    "    #_, brightest, _, (max_x, max_y) = cv2.minMaxLoc(img)\n",
    "    img_cropped = img[top : top + size, left : left + size]\n",
    "    return img_cropped, (left + margin, top + margin)"
   ]
  },
  {
   "cell_type": "code",
   "execution_count": 19,
   "id": "65e16b1a-2a7c-45a5-9187-7884dc2fa012",
   "metadata": {},
   "outputs": [
    {
     "ename": "FileNotFoundError",
     "evalue": "[Errno 2] No such file or directory: '../out/hover_new_lab'",
     "output_type": "error",
     "traceback": [
      "\u001b[0;31m---------------------------------------------------------------------------\u001b[0m",
      "\u001b[0;31mFileNotFoundError\u001b[0m                         Traceback (most recent call last)",
      "Input \u001b[0;32mIn [19]\u001b[0m, in \u001b[0;36m<cell line: 30>\u001b[0;34m()\u001b[0m\n\u001b[1;32m     27\u001b[0m     img_cropped \u001b[38;5;241m=\u001b[39m img[y:y\u001b[38;5;241m+\u001b[39mh, x:x\u001b[38;5;241m+\u001b[39mw]\n\u001b[1;32m     28\u001b[0m     \u001b[38;5;28;01mreturn\u001b[39;00m img_cropped, (left \u001b[38;5;241m+\u001b[39m margin, top \u001b[38;5;241m+\u001b[39m margin)\n\u001b[0;32m---> 30\u001b[0m fname \u001b[38;5;241m=\u001b[39m random\u001b[38;5;241m.\u001b[39msample(\u001b[43mos\u001b[49m\u001b[38;5;241;43m.\u001b[39;49m\u001b[43mlistdir\u001b[49m\u001b[43m(\u001b[49m\u001b[43mPATH_HOVER_LAB\u001b[49m\u001b[43m)\u001b[49m, \u001b[38;5;241m1\u001b[39m)[\u001b[38;5;241m0\u001b[39m]\n\u001b[1;32m     31\u001b[0m \u001b[38;5;28mprint\u001b[39m(fname)\n\u001b[1;32m     32\u001b[0m img \u001b[38;5;241m=\u001b[39m cv2\u001b[38;5;241m.\u001b[39mimread(PATH_HOVER_LAB \u001b[38;5;241m+\u001b[39m \u001b[38;5;124m'\u001b[39m\u001b[38;5;124m/\u001b[39m\u001b[38;5;124m'\u001b[39m \u001b[38;5;241m+\u001b[39m fname, cv2\u001b[38;5;241m.\u001b[39mIMREAD_GRAYSCALE)\n",
      "\u001b[0;31mFileNotFoundError\u001b[0m: [Errno 2] No such file or directory: '../out/hover_new_lab'"
     ]
    }
   ],
   "source": [
    "def crop_to_nonblack(img, size = 16):\n",
    "    margin = int(size / 2)\n",
    "    (image_height, image_width) = img.shape\n",
    "    step_w = int(image_width / 10)\n",
    "    step_h = int(image_height / 10)\n",
    "\n",
    "    samples = []\n",
    "    for x in range(2 * step_w, (image_width - 2 * step_w), step_w):\n",
    "        for y in range(2 * step_h, (image_height - 2 * step_h), step_h):\n",
    "            samples.append(img[y, x])\n",
    "    _, thresh = cv2.threshold(img, np.median(samples) * 2, 255, cv2.THRESH_BINARY)\n",
    "    #contours = cv2.findContours(thresh, cv2.RETR_EXTERNAL, cv2.CHAIN_APPROX_SIMPLE)\n",
    "    #contours = contours[0] if len(contours) == 2 else contours[1]\n",
    "    (x, y, w, h) = cv2.boundingRect(thresh)\n",
    "    #result = img[y:y+h, x:x+w]\n",
    "    center_x = int(x + w / 2)\n",
    "    center_y = int(y + h / 2)\n",
    "    left = np.max([0, center_x - margin])\n",
    "    top = np.max([0, center_y - margin])\n",
    "    if left + size >= img.shape[1]:\n",
    "        #left -= (left + size - img.shape[1] - 1)\n",
    "        left = img.shape[1] - size - 1\n",
    "    if top + size >= img.shape[0]:\n",
    "        #top -= (top + size - img.shape[0] - 1)\n",
    "        top = img.shape[0] - size - 1\n",
    "    #img_cropped = img[top : top + size, left : left + size]\n",
    "    img_cropped = img[y:y+h, x:x+w]\n",
    "    return img_cropped, (left + margin, top + margin)\n",
    "    \n",
    "fname = random.sample(os.listdir(PATH_HOVER_LAB), 1)[0]\n",
    "print(fname)\n",
    "img = cv2.imread(PATH_HOVER_LAB + '/' + fname, cv2.IMREAD_GRAYSCALE)\n",
    "img_cropped, _ = crop_to_nonblack(img, IMG_SIZE)\n",
    "fig, axes = plt.subplots(1, 2, figsize=(20, 10))\n",
    "axes[0].imshow(img, 'gray')\n",
    "axes[1].imshow(img_cropped, 'gray')"
   ]
  },
  {
   "cell_type": "code",
   "execution_count": null,
   "id": "60210954-79a0-40f0-984e-e155cf79ff1e",
   "metadata": {},
   "outputs": [],
   "source": []
  },
  {
   "cell_type": "code",
   "execution_count": 6,
   "id": "lightweight-romantic",
   "metadata": {},
   "outputs": [],
   "source": [
    "def read_images(path):\n",
    "    files = os.listdir(path)\n",
    "    files = [file for file in files if file[-4:] == \".png\"]\n",
    "    \n",
    "    images = []\n",
    "    coords = []\n",
    "    \n",
    "    size = IMG_SIZE\n",
    "    \n",
    "    for file in tqdm(files):\n",
    "        try:\n",
    "            # image = cv2.imread(os.path.join(path, file), cv2.IMREAD_GRAYSCALE)\n",
    "            image_bgr = cv2.imread(os.path.join(path, file))\n",
    "            image_g = image_bgr[:,:,1]\n",
    "            image_b = image_bgr[:,:,0]\n",
    "            \n",
    "            extracted_images = [image_g, image_b]\n",
    "            \n",
    "            #image = cv2.resize(image, (36,36), cv2.INTER_AREA)\n",
    "            #image = cv2.cvtColor(image, cv2.COLOR_BGR2GRAY)\n",
    "            #image = data_augmentation(image)\n",
    "            \n",
    "            #image, (max_x, max_y) = crop_image(image, size)\n",
    "            for image in extracted_images:\n",
    "                image, (max_x, max_y) = crop_image_2(image, size)\n",
    "                #print(np.max(image))\n",
    "                if image.shape == (size, size) and np.max(image) > 15:\n",
    "                    images.append(image)\n",
    "                    coords.append((max_x, max_y))\n",
    "            \n",
    "        except OSError:\n",
    "            pass\n",
    "    \n",
    "    return images, coords"
   ]
  },
  {
   "cell_type": "code",
   "execution_count": 32,
   "id": "elect-table",
   "metadata": {},
   "outputs": [],
   "source": [
    "def data_augmentation(images):\n",
    "    result = []\n",
    "    for img in images:\n",
    "        result.append(img)\n",
    "        result.append(cv2.flip(img, flipCode=0))\n",
    "        for i in range(3):  # TODO: CHECK IF 4 is needed here\n",
    "            tmp = cv2.rotate(img, i)\n",
    "            for b in range(9, 12):\n",
    "                tmp2 = np.clip(tmp * (b / 10), 0, 255)\n",
    "                result.append(tmp2)\n",
    "                result.append(cv2.flip(tmp2, flipCode=0))\n",
    "    return result"
   ]
  },
  {
   "cell_type": "code",
   "execution_count": 22,
   "id": "brave-founder",
   "metadata": {},
   "outputs": [
    {
     "name": "stdout",
     "output_type": "stream",
     "text": [
      "draw_144_2500_32.png\n",
      "(480, 848)\n",
      "10 99\n"
     ]
    },
    {
     "data": {
      "text/plain": [
       "<matplotlib.image.AxesImage at 0x7fb9d7474fa0>"
      ]
     },
     "execution_count": 22,
     "metadata": {},
     "output_type": "execute_result"
    },
    {
     "data": {
      "image/png": "[encoded data removed]",
      "text/plain": [
       "<Figure size 720x360 with 3 Axes>"
      ]
     },
     "metadata": {
      "needs_background": "light"
     },
     "output_type": "display_data"
    }
   ],
   "source": [
    "fname = random.sample(os.listdir(PATH_DRAW_STEREO), 1)[0]\n",
    "print(fname)\n",
    "img = cv2.imread(PATH_DRAW_STEREO + '/' + fname, cv2.IMREAD_GRAYSCALE)\n",
    "print(img.shape)\n",
    "#img = cv2.imread(PATH_DRAW + '0024.png', cv2.IMREAD_GRAYSCALE)\n",
    "#print(img.shape)\n",
    "img_cropped, coords = crop_image_2(img, IMG_SIZE)\n",
    "print(np.min(img_cropped), np.max(img_cropped))\n",
    "#print(coords)\n",
    "\n",
    "img_cropped_2, _ = crop_image(img, IMG_SIZE)\n",
    "\n",
    "img_cropped_3, _ = crop_to_nonblack(img, IMG_SIZE)\n",
    "\n",
    "fig, axes = plt.subplots(1, 3, figsize=(10, 5))\n",
    "\n",
    "#img = cv2.rectangle(img, (coords[0] - int(IMG_SIZE / 2), coords[1] - int(IMG_SIZE / 2)), (coords[0] + int(IMG_SIZE / 2), coords[1] + int(IMG_SIZE / 2)), (255), 1)\n",
    "#print(img_cropped[0, 0])\n",
    "#print(img_cropped.shape)\n",
    "axes[0].imshow(img_cropped, 'gray')\n",
    "\n",
    "axes[1].imshow(img_cropped_2, 'gray')\n",
    "\n",
    "axes[2].imshow(img_cropped_3, 'gray')"
   ]
  },
  {
   "cell_type": "code",
   "execution_count": 23,
   "id": "1a88639c-3d57-4923-8bf8-c454cb832323",
   "metadata": {},
   "outputs": [
    {
     "name": "stdout",
     "output_type": "stream",
     "text": [
      "hover_0_5000_64.png\n",
      "162\n"
     ]
    },
    {
     "data": {
      "text/plain": [
       "<matplotlib.image.AxesImage at 0x7fb9d72e7ca0>"
      ]
     },
     "execution_count": 23,
     "metadata": {},
     "output_type": "execute_result"
    },
    {
     "data": {
      "image/png": "[encoded data removed]",
      "text/plain": [
       "<Figure size 720x360 with 3 Axes>"
      ]
     },
     "metadata": {
      "needs_background": "light"
     },
     "output_type": "display_data"
    }
   ],
   "source": [
    "fname = random.sample(os.listdir(PATH_HOVER_STEREO), 1)[0]\n",
    "print(fname)\n",
    "img = cv2.imread(PATH_HOVER_STEREO + '/' + fname, cv2.IMREAD_GRAYSCALE)\n",
    "#img = cv2.imread(PATH_DRAW + '0024.png', cv2.IMREAD_GRAYSCALE)\n",
    "#print(img.shape)\n",
    "img_cropped, coords = crop_image_2(img, IMG_SIZE)\n",
    "print(np.max(img_cropped))\n",
    "#print(coords)\n",
    "\n",
    "img_cropped_2, _ = crop_image(img, IMG_SIZE)\n",
    "\n",
    "img_cropped_3, _ = crop_to_nonblack(img, IMG_SIZE)\n",
    "\n",
    "fig, axes = plt.subplots(1, 3, figsize=(10, 5))\n",
    "\n",
    "#img = cv2.rectangle(img, (coords[0] - int(IMG_SIZE / 2), coords[1] - int(IMG_SIZE / 2)), (coords[0] + int(IMG_SIZE / 2), coords[1] + int(IMG_SIZE / 2)), (255), 1)\n",
    "#print(img_cropped[0, 0])\n",
    "#print(img_cropped.shape)\n",
    "axes[0].imshow(img_cropped, 'gray')\n",
    "\n",
    "axes[1].imshow(img_cropped_2, 'gray')\n",
    "\n",
    "axes[2].imshow(img_cropped_3, 'gray')"
   ]
  },
  {
   "cell_type": "raw",
   "id": "logical-value",
   "metadata": {},
   "source": [
    "images_draw, _ = read_images(PATH_DRAW)\n",
    "images_hover, _ = read_images(PATH_HOVER)\n",
    "images_hover_close, _ = read_images(PATH_HOVER_CLOSE)\n",
    "images_hover_far, _ = read_images(PATH_HOVER_FAR)\n",
    "#images_hover += images_hover_close\n",
    "#images_hover += images_hover_far\n",
    "\n",
    "images_draw = data_augmentation(images_draw)\n",
    "images_hover = data_augmentation(images_hover)\n",
    "images_hover_far = data_augmentation(images_hover_far)\n",
    "images = images_draw + images_hover + images_hover_far\n",
    "labels = [0] * len(images_draw) + [1] * len(images_hover) + [2] * len(images_hover_far)"
   ]
  },
  {
   "cell_type": "code",
   "execution_count": 24,
   "id": "electric-census",
   "metadata": {},
   "outputs": [
    {
     "ename": "FileNotFoundError",
     "evalue": "[Errno 2] No such file or directory: '../out/draw_many/'",
     "output_type": "error",
     "traceback": [
      "\u001b[0;31m---------------------------------------------------------------------------\u001b[0m",
      "\u001b[0;31mFileNotFoundError\u001b[0m                         Traceback (most recent call last)",
      "Input \u001b[0;32mIn [24]\u001b[0m, in \u001b[0;36m<cell line: 3>\u001b[0;34m()\u001b[0m\n\u001b[1;32m      2\u001b[0m images_hover \u001b[38;5;241m=\u001b[39m []\n\u001b[1;32m      3\u001b[0m \u001b[38;5;28;01mfor\u001b[39;00m path \u001b[38;5;129;01min\u001b[39;00m DRAW_PATHS:\n\u001b[0;32m----> 4\u001b[0m     images, _ \u001b[38;5;241m=\u001b[39m \u001b[43mread_images\u001b[49m\u001b[43m(\u001b[49m\u001b[43mpath\u001b[49m\u001b[43m)\u001b[49m\n\u001b[1;32m      5\u001b[0m     images_draw \u001b[38;5;241m+\u001b[39m\u001b[38;5;241m=\u001b[39m images\n\u001b[1;32m      7\u001b[0m \u001b[38;5;28;01mfor\u001b[39;00m path \u001b[38;5;129;01min\u001b[39;00m HOVER_PATHS:\n",
      "Input \u001b[0;32mIn [20]\u001b[0m, in \u001b[0;36mread_images\u001b[0;34m(path)\u001b[0m\n\u001b[1;32m      1\u001b[0m \u001b[38;5;28;01mdef\u001b[39;00m \u001b[38;5;21mread_images\u001b[39m(path):\n\u001b[0;32m----> 2\u001b[0m     files \u001b[38;5;241m=\u001b[39m \u001b[43mos\u001b[49m\u001b[38;5;241;43m.\u001b[39;49m\u001b[43mlistdir\u001b[49m\u001b[43m(\u001b[49m\u001b[43mpath\u001b[49m\u001b[43m)\u001b[49m\n\u001b[1;32m      3\u001b[0m     files \u001b[38;5;241m=\u001b[39m [file \u001b[38;5;28;01mfor\u001b[39;00m file \u001b[38;5;129;01min\u001b[39;00m files \u001b[38;5;28;01mif\u001b[39;00m file[\u001b[38;5;241m-\u001b[39m\u001b[38;5;241m4\u001b[39m:] \u001b[38;5;241m==\u001b[39m \u001b[38;5;124m\"\u001b[39m\u001b[38;5;124m.png\u001b[39m\u001b[38;5;124m\"\u001b[39m]\n\u001b[1;32m      5\u001b[0m     images \u001b[38;5;241m=\u001b[39m []\n",
      "\u001b[0;31mFileNotFoundError\u001b[0m: [Errno 2] No such file or directory: '../out/draw_many/'"
     ]
    }
   ],
   "source": [
    "images_draw = []\n",
    "images_hover = []\n",
    "for path in DRAW_PATHS:\n",
    "    images, _ = read_images(path)\n",
    "    images_draw += images\n",
    "    \n",
    "for path in HOVER_PATHS:\n",
    "    images, _ = read_images(path)\n",
    "    images_hover += images \n",
    "\n",
    "images_draw = data_augmentation(images_draw)\n",
    "images_hover = data_augmentation(images_hover)\n",
    "images = images_draw + images_hover\n",
    "labels = [0] * len(images_draw) + [1] * len(images_hover)"
   ]
  },
  {
   "cell_type": "code",
   "execution_count": 25,
   "id": "offensive-activity",
   "metadata": {},
   "outputs": [
    {
     "ename": "FileNotFoundError",
     "evalue": "[Errno 2] No such file or directory: '../out/draw_new_2'",
     "output_type": "error",
     "traceback": [
      "\u001b[0;31m---------------------------------------------------------------------------\u001b[0m",
      "\u001b[0;31mFileNotFoundError\u001b[0m                         Traceback (most recent call last)",
      "Input \u001b[0;32mIn [25]\u001b[0m, in \u001b[0;36m<cell line: 1>\u001b[0;34m()\u001b[0m\n\u001b[0;32m----> 1\u001b[0m images_draw, _ \u001b[38;5;241m=\u001b[39m \u001b[43mread_images\u001b[49m\u001b[43m(\u001b[49m\u001b[43mPATH_DRAW_NEW\u001b[49m\u001b[43m)\u001b[49m\n\u001b[1;32m      2\u001b[0m images_hover, _ \u001b[38;5;241m=\u001b[39m read_images(PATH_HOVER_NEW)\n\u001b[1;32m      3\u001b[0m \u001b[38;5;66;03m#images_hover_close, _ = read_images(PATH_HOVER_CLOSE)\u001b[39;00m\n\u001b[1;32m      4\u001b[0m \u001b[38;5;66;03m#images_hover_far, _ = read_images(PATH_HOVER_FAR)\u001b[39;00m\n\u001b[1;32m      5\u001b[0m \u001b[38;5;66;03m#images_hover += images_hover_close\u001b[39;00m\n\u001b[1;32m      6\u001b[0m \u001b[38;5;66;03m#images_hover += images_hover_far\u001b[39;00m\n",
      "Input \u001b[0;32mIn [20]\u001b[0m, in \u001b[0;36mread_images\u001b[0;34m(path)\u001b[0m\n\u001b[1;32m      1\u001b[0m \u001b[38;5;28;01mdef\u001b[39;00m \u001b[38;5;21mread_images\u001b[39m(path):\n\u001b[0;32m----> 2\u001b[0m     files \u001b[38;5;241m=\u001b[39m \u001b[43mos\u001b[49m\u001b[38;5;241;43m.\u001b[39;49m\u001b[43mlistdir\u001b[49m\u001b[43m(\u001b[49m\u001b[43mpath\u001b[49m\u001b[43m)\u001b[49m\n\u001b[1;32m      3\u001b[0m     files \u001b[38;5;241m=\u001b[39m [file \u001b[38;5;28;01mfor\u001b[39;00m file \u001b[38;5;129;01min\u001b[39;00m files \u001b[38;5;28;01mif\u001b[39;00m file[\u001b[38;5;241m-\u001b[39m\u001b[38;5;241m4\u001b[39m:] \u001b[38;5;241m==\u001b[39m \u001b[38;5;124m\"\u001b[39m\u001b[38;5;124m.png\u001b[39m\u001b[38;5;124m\"\u001b[39m]\n\u001b[1;32m      5\u001b[0m     images \u001b[38;5;241m=\u001b[39m []\n",
      "\u001b[0;31mFileNotFoundError\u001b[0m: [Errno 2] No such file or directory: '../out/draw_new_2'"
     ]
    }
   ],
   "source": [
    "images_draw, _ = read_images(PATH_DRAW_NEW)\n",
    "images_hover, _ = read_images(PATH_HOVER_NEW)\n",
    "#images_hover_close, _ = read_images(PATH_HOVER_CLOSE)\n",
    "#images_hover_far, _ = read_images(PATH_HOVER_FAR)\n",
    "#images_hover += images_hover_close\n",
    "#images_hover += images_hover_far\n",
    "\n",
    "images_draw_old, _ = read_images(PATH_DRAW)\n",
    "images_hover_old, _ = read_images(PATH_HOVER)\n",
    "\n",
    "images_draw += images_draw_old\n",
    "images_hover += images_hover_old\n",
    "\n",
    "images_draw = data_augmentation(images_draw)\n",
    "images_hover = data_augmentation(images_hover)\n",
    "images = images_draw + images_hover\n",
    "labels = [0] * len(images_draw) + [1] * len(images_hover)"
   ]
  },
  {
   "cell_type": "code",
   "execution_count": 26,
   "id": "aquatic-cooperation",
   "metadata": {},
   "outputs": [
    {
     "ename": "FileNotFoundError",
     "evalue": "[Errno 2] No such file or directory: '../out/draw_new_2'",
     "output_type": "error",
     "traceback": [
      "\u001b[0;31m---------------------------------------------------------------------------\u001b[0m",
      "\u001b[0;31mFileNotFoundError\u001b[0m                         Traceback (most recent call last)",
      "Input \u001b[0;32mIn [26]\u001b[0m, in \u001b[0;36m<cell line: 1>\u001b[0;34m()\u001b[0m\n\u001b[0;32m----> 1\u001b[0m images_draw, _ \u001b[38;5;241m=\u001b[39m \u001b[43mread_images\u001b[49m\u001b[43m(\u001b[49m\u001b[43mPATH_DRAW_NEW\u001b[49m\u001b[43m)\u001b[49m\n\u001b[1;32m      2\u001b[0m images_hover, _ \u001b[38;5;241m=\u001b[39m read_images(PATH_HOVER_NEW)\n\u001b[1;32m      3\u001b[0m \u001b[38;5;66;03m#images_hover_close, _ = read_images(PATH_HOVER_CLOSE)\u001b[39;00m\n\u001b[1;32m      4\u001b[0m \u001b[38;5;66;03m#images_hover_far, _ = read_images(PATH_HOVER_FAR)\u001b[39;00m\n\u001b[1;32m      5\u001b[0m \u001b[38;5;66;03m#images_hover += images_hover_close\u001b[39;00m\n\u001b[1;32m      6\u001b[0m \u001b[38;5;66;03m#images_hover += images_hover_far\u001b[39;00m\n",
      "Input \u001b[0;32mIn [20]\u001b[0m, in \u001b[0;36mread_images\u001b[0;34m(path)\u001b[0m\n\u001b[1;32m      1\u001b[0m \u001b[38;5;28;01mdef\u001b[39;00m \u001b[38;5;21mread_images\u001b[39m(path):\n\u001b[0;32m----> 2\u001b[0m     files \u001b[38;5;241m=\u001b[39m \u001b[43mos\u001b[49m\u001b[38;5;241;43m.\u001b[39;49m\u001b[43mlistdir\u001b[49m\u001b[43m(\u001b[49m\u001b[43mpath\u001b[49m\u001b[43m)\u001b[49m\n\u001b[1;32m      3\u001b[0m     files \u001b[38;5;241m=\u001b[39m [file \u001b[38;5;28;01mfor\u001b[39;00m file \u001b[38;5;129;01min\u001b[39;00m files \u001b[38;5;28;01mif\u001b[39;00m file[\u001b[38;5;241m-\u001b[39m\u001b[38;5;241m4\u001b[39m:] \u001b[38;5;241m==\u001b[39m \u001b[38;5;124m\"\u001b[39m\u001b[38;5;124m.png\u001b[39m\u001b[38;5;124m\"\u001b[39m]\n\u001b[1;32m      5\u001b[0m     images \u001b[38;5;241m=\u001b[39m []\n",
      "\u001b[0;31mFileNotFoundError\u001b[0m: [Errno 2] No such file or directory: '../out/draw_new_2'"
     ]
    }
   ],
   "source": [
    "images_draw, _ = read_images(PATH_DRAW_NEW)\n",
    "images_hover, _ = read_images(PATH_HOVER_NEW)\n",
    "#images_hover_close, _ = read_images(PATH_HOVER_CLOSE)\n",
    "#images_hover_far, _ = read_images(PATH_HOVER_FAR)\n",
    "#images_hover += images_hover_close\n",
    "#images_hover += images_hover_far\n",
    "\n",
    "images_direct, _ = read_images(PATH_DIRECT)\n",
    "\n",
    "images_draw_old, _ = read_images(PATH_DRAW)\n",
    "images_hover_old, _ = read_images(PATH_HOVER)\n",
    "\n",
    "images_draw += images_draw_old\n",
    "images_hover += images_hover_old\n",
    "\n",
    "images_draw = data_augmentation(images_draw)\n",
    "images_hover = data_augmentation(images_hover)\n",
    "images_direct = data_augmentation(images_direct)\n",
    "images = images_draw + images_hover + images_direct\n",
    "labels = [0] * len(images_draw) + [1] * len(images_hover) + [2] * len(images_direct)"
   ]
  },
  {
   "cell_type": "code",
   "execution_count": 27,
   "id": "previous-briefs",
   "metadata": {},
   "outputs": [
    {
     "ename": "FileNotFoundError",
     "evalue": "[Errno 2] No such file or directory: '../out/draw_new_lab'",
     "output_type": "error",
     "traceback": [
      "\u001b[0;31m---------------------------------------------------------------------------\u001b[0m",
      "\u001b[0;31mFileNotFoundError\u001b[0m                         Traceback (most recent call last)",
      "Input \u001b[0;32mIn [27]\u001b[0m, in \u001b[0;36m<cell line: 1>\u001b[0;34m()\u001b[0m\n\u001b[0;32m----> 1\u001b[0m images_draw, _ \u001b[38;5;241m=\u001b[39m \u001b[43mread_images\u001b[49m\u001b[43m(\u001b[49m\u001b[43mPATH_DRAW_LAB\u001b[49m\u001b[43m)\u001b[49m\n\u001b[1;32m      2\u001b[0m images_hover, _ \u001b[38;5;241m=\u001b[39m read_images(PATH_HOVER_LAB)\n\u001b[1;32m      3\u001b[0m \u001b[38;5;66;03m#images_hover_close, _ = read_images(PATH_HOVER_CLOSE)\u001b[39;00m\n\u001b[1;32m      4\u001b[0m \u001b[38;5;66;03m#images_hover_far, _ = read_images(PATH_HOVER_FAR)\u001b[39;00m\n\u001b[1;32m      5\u001b[0m \u001b[38;5;66;03m#images_hover += images_hover_close\u001b[39;00m\n\u001b[1;32m      6\u001b[0m \u001b[38;5;66;03m#images_hover += images_hover_far\u001b[39;00m\n",
      "Input \u001b[0;32mIn [20]\u001b[0m, in \u001b[0;36mread_images\u001b[0;34m(path)\u001b[0m\n\u001b[1;32m      1\u001b[0m \u001b[38;5;28;01mdef\u001b[39;00m \u001b[38;5;21mread_images\u001b[39m(path):\n\u001b[0;32m----> 2\u001b[0m     files \u001b[38;5;241m=\u001b[39m \u001b[43mos\u001b[49m\u001b[38;5;241;43m.\u001b[39;49m\u001b[43mlistdir\u001b[49m\u001b[43m(\u001b[49m\u001b[43mpath\u001b[49m\u001b[43m)\u001b[49m\n\u001b[1;32m      3\u001b[0m     files \u001b[38;5;241m=\u001b[39m [file \u001b[38;5;28;01mfor\u001b[39;00m file \u001b[38;5;129;01min\u001b[39;00m files \u001b[38;5;28;01mif\u001b[39;00m file[\u001b[38;5;241m-\u001b[39m\u001b[38;5;241m4\u001b[39m:] \u001b[38;5;241m==\u001b[39m \u001b[38;5;124m\"\u001b[39m\u001b[38;5;124m.png\u001b[39m\u001b[38;5;124m\"\u001b[39m]\n\u001b[1;32m      5\u001b[0m     images \u001b[38;5;241m=\u001b[39m []\n",
      "\u001b[0;31mFileNotFoundError\u001b[0m: [Errno 2] No such file or directory: '../out/draw_new_lab'"
     ]
    }
   ],
   "source": [
    "images_draw, _ = read_images(PATH_DRAW_LAB)\n",
    "images_hover, _ = read_images(PATH_HOVER_LAB)\n",
    "#images_hover_close, _ = read_images(PATH_HOVER_CLOSE)\n",
    "#images_hover_far, _ = read_images(PATH_HOVER_FAR)\n",
    "#images_hover += images_hover_close\n",
    "#images_hover += images_hover_far\n",
    "\n",
    "\n",
    "images_draw = data_augmentation(images_draw)\n",
    "images_hover = data_augmentation(images_hover)\n",
    "images = images_draw + images_hover\n",
    "labels = [0] * len(images_draw) + [1] * len(images_hover)"
   ]
  },
  {
   "cell_type": "code",
   "execution_count": 28,
   "id": "1fec3e2f-7638-45e6-b9af-51e62ff7f238",
   "metadata": {},
   "outputs": [
    {
     "ename": "FileNotFoundError",
     "evalue": "[Errno 2] No such file or directory: '../out/draw_new_final'",
     "output_type": "error",
     "traceback": [
      "\u001b[0;31m---------------------------------------------------------------------------\u001b[0m",
      "\u001b[0;31mFileNotFoundError\u001b[0m                         Traceback (most recent call last)",
      "Input \u001b[0;32mIn [28]\u001b[0m, in \u001b[0;36m<cell line: 1>\u001b[0;34m()\u001b[0m\n\u001b[0;32m----> 1\u001b[0m images_draw, _ \u001b[38;5;241m=\u001b[39m \u001b[43mread_images\u001b[49m\u001b[43m(\u001b[49m\u001b[43mPATH_DRAW_FINAL_1\u001b[49m\u001b[43m)\u001b[49m\n\u001b[1;32m      2\u001b[0m images_hover, _ \u001b[38;5;241m=\u001b[39m read_images(PATH_HOVER_FINAL_1)\n\u001b[1;32m      3\u001b[0m \u001b[38;5;66;03m#images_hover_close, _ = read_images(PATH_HOVER_CLOSE)\u001b[39;00m\n\u001b[1;32m      4\u001b[0m \u001b[38;5;66;03m#images_hover_far, _ = read_images(PATH_HOVER_FAR)\u001b[39;00m\n\u001b[1;32m      5\u001b[0m \u001b[38;5;66;03m#images_hover += images_hover_close\u001b[39;00m\n\u001b[1;32m      6\u001b[0m \u001b[38;5;66;03m#images_hover += images_hover_far\u001b[39;00m\n",
      "Input \u001b[0;32mIn [20]\u001b[0m, in \u001b[0;36mread_images\u001b[0;34m(path)\u001b[0m\n\u001b[1;32m      1\u001b[0m \u001b[38;5;28;01mdef\u001b[39;00m \u001b[38;5;21mread_images\u001b[39m(path):\n\u001b[0;32m----> 2\u001b[0m     files \u001b[38;5;241m=\u001b[39m \u001b[43mos\u001b[49m\u001b[38;5;241;43m.\u001b[39;49m\u001b[43mlistdir\u001b[49m\u001b[43m(\u001b[49m\u001b[43mpath\u001b[49m\u001b[43m)\u001b[49m\n\u001b[1;32m      3\u001b[0m     files \u001b[38;5;241m=\u001b[39m [file \u001b[38;5;28;01mfor\u001b[39;00m file \u001b[38;5;129;01min\u001b[39;00m files \u001b[38;5;28;01mif\u001b[39;00m file[\u001b[38;5;241m-\u001b[39m\u001b[38;5;241m4\u001b[39m:] \u001b[38;5;241m==\u001b[39m \u001b[38;5;124m\"\u001b[39m\u001b[38;5;124m.png\u001b[39m\u001b[38;5;124m\"\u001b[39m]\n\u001b[1;32m      5\u001b[0m     images \u001b[38;5;241m=\u001b[39m []\n",
      "\u001b[0;31mFileNotFoundError\u001b[0m: [Errno 2] No such file or directory: '../out/draw_new_final'"
     ]
    }
   ],
   "source": [
    "images_draw, _ = read_images(PATH_DRAW_FINAL_1)\n",
    "images_hover, _ = read_images(PATH_HOVER_FINAL_1)\n",
    "#images_hover_close, _ = read_images(PATH_HOVER_CLOSE)\n",
    "#images_hover_far, _ = read_images(PATH_HOVER_FAR)\n",
    "#images_hover += images_hover_close\n",
    "#images_hover += images_hover_far\n",
    "\n",
    "images_draw_old, _ = read_images(PATH_DRAW_FINAL_2)\n",
    "images_hover_old, _ = read_images(PATH_HOVER_FINAL_2)\n",
    "\n",
    "images_draw += images_draw_old\n",
    "images_hover += images_hover_old\n",
    "\n",
    "images_draw = data_augmentation(images_draw)\n",
    "images_hover = data_augmentation(images_hover)\n",
    "images = images_draw + images_hover\n",
    "labels = [0] * len(images_draw) + [1] * len(images_hover)"
   ]
  },
  {
   "cell_type": "code",
   "execution_count": 33,
   "id": "0101a72c-911b-4aa2-9fdc-643cdbad31c3",
   "metadata": {},
   "outputs": [
    {
     "name": "stderr",
     "output_type": "stream",
     "text": [
      "/tmp/ipykernel_18684/3291411490.py:10: TqdmDeprecationWarning: This function will be removed in tqdm==5.0.0\n",
      "Please use `tqdm.notebook.tqdm` instead of `tqdm.tqdm_notebook`\n",
      "  for file in tqdm(files):\n"
     ]
    },
    {
     "data": {
      "application/vnd.jupyter.widget-view+json": {
       "model_id": "c38ec0950c7e4e4ab4c410f6e2aa19a6",
       "version_major": 2,
       "version_minor": 0
      },
      "text/plain": [
       "  0%|          | 0/3000 [00:00<?, ?it/s]"
      ]
     },
     "metadata": {},
     "output_type": "display_data"
    },
    {
     "data": {
      "application/vnd.jupyter.widget-view+json": {
       "model_id": "539927aa336d4464831b479bd0651fd8",
       "version_major": 2,
       "version_minor": 0
      },
      "text/plain": [
       "  0%|          | 0/3000 [00:00<?, ?it/s]"
      ]
     },
     "metadata": {},
     "output_type": "display_data"
    },
    {
     "data": {
      "application/vnd.jupyter.widget-view+json": {
       "model_id": "7e0a8559970340628eeedc390f22b028",
       "version_major": 2,
       "version_minor": 0
      },
      "text/plain": [
       "  0%|          | 0/1264 [00:00<?, ?it/s]"
      ]
     },
     "metadata": {},
     "output_type": "display_data"
    },
    {
     "data": {
      "application/vnd.jupyter.widget-view+json": {
       "model_id": "7fe40a69382d4af5b88c40ff83981c63",
       "version_major": 2,
       "version_minor": 0
      },
      "text/plain": [
       "  0%|          | 0/3000 [00:00<?, ?it/s]"
      ]
     },
     "metadata": {},
     "output_type": "display_data"
    },
    {
     "data": {
      "application/vnd.jupyter.widget-view+json": {
       "model_id": "86b7abb63f4f4bc681a1df26cb4335d0",
       "version_major": 2,
       "version_minor": 0
      },
      "text/plain": [
       "  0%|          | 0/3000 [00:00<?, ?it/s]"
      ]
     },
     "metadata": {},
     "output_type": "display_data"
    },
    {
     "data": {
      "application/vnd.jupyter.widget-view+json": {
       "model_id": "c94a435481554c319f0a30c0db5707c1",
       "version_major": 2,
       "version_minor": 0
      },
      "text/plain": [
       "  0%|          | 0/1261 [00:00<?, ?it/s]"
      ]
     },
     "metadata": {},
     "output_type": "display_data"
    }
   ],
   "source": [
    "images_draw = []\n",
    "images_hover = []\n",
    "\n",
    "for p in DRAW_PATHS:\n",
    "    images_draw += read_images(p)[0]\n",
    "    \n",
    "for p in HOVER_PATHS:\n",
    "    images_hover += read_images(p)[0]\n",
    "\n",
    "images_draw = data_augmentation(images_draw)\n",
    "images_hover = data_augmentation(images_hover)\n",
    "images = images_draw + images_hover\n",
    "labels = [0] * len(images_draw) + [1] * len(images_hover)"
   ]
  },
  {
   "cell_type": "code",
   "execution_count": 21,
   "id": "c3a724ed-d82b-4f60-a405-71ee806bda99",
   "metadata": {},
   "outputs": [
    {
     "name": "stderr",
     "output_type": "stream",
     "text": [
      "/tmp/ipykernel_18684/3291411490.py:10: TqdmDeprecationWarning: This function will be removed in tqdm==5.0.0\n",
      "Please use `tqdm.notebook.tqdm` instead of `tqdm.tqdm_notebook`\n",
      "  for file in tqdm(files):\n"
     ]
    },
    {
     "data": {
      "application/vnd.jupyter.widget-view+json": {
       "model_id": "972ce3a63cf948ff9623f86f6cddf007",
       "version_major": 2,
       "version_minor": 0
      },
      "text/plain": [
       "  0%|          | 0/1264 [00:00<?, ?it/s]"
      ]
     },
     "metadata": {},
     "output_type": "display_data"
    },
    {
     "data": {
      "application/vnd.jupyter.widget-view+json": {
       "model_id": "ba501459dfa341c09d3b8fca7902c613",
       "version_major": 2,
       "version_minor": 0
      },
      "text/plain": [
       "  0%|          | 0/1261 [00:00<?, ?it/s]"
      ]
     },
     "metadata": {},
     "output_type": "display_data"
    }
   ],
   "source": [
    "images_draw = []\n",
    "images_hover = []\n",
    "\n",
    "for p in REINFORCEMENT_DRAW_PATHS:\n",
    "    images_draw += read_images(p)[0]\n",
    "    \n",
    "for p in REINFORCEMENT_HOVER_PATHS:\n",
    "    images_hover += read_images(p)[0]\n",
    "\n",
    "images_draw = data_augmentation(images_draw)\n",
    "images_hover = data_augmentation(images_hover)\n",
    "images = images_draw + images_hover\n",
    "labels = [0] * len(images_draw) + [1] * len(images_hover)"
   ]
  },
  {
   "cell_type": "code",
   "execution_count": 34,
   "id": "based-marshall",
   "metadata": {},
   "outputs": [
    {
     "name": "stdout",
     "output_type": "stream",
     "text": [
      "Training data shape :  (581000, 48, 48) (581000,)\n"
     ]
    }
   ],
   "source": [
    "train_X = np.array(images)\n",
    "train_Y = np.array(labels)\n",
    "\n",
    "print('Training data shape : ', train_X.shape, train_Y.shape)"
   ]
  },
  {
   "cell_type": "code",
   "execution_count": 35,
   "id": "cutting-laser",
   "metadata": {},
   "outputs": [],
   "source": [
    "#Preprocessing for the Conv2D Layer for digits between 0 and 1\n",
    "#train_X_shaped = train_X.reshape(-1, 24,24, 1)\n",
    "#test_X_shaped = test_X.reshape(-1, 36,36, 1)\n",
    "train_X = train_X.astype('float32')\n",
    "train_X = train_X / 255."
   ]
  },
  {
   "cell_type": "code",
   "execution_count": 36,
   "id": "associate-twins",
   "metadata": {},
   "outputs": [],
   "source": [
    "train_Y_one_hot = to_categorical(train_Y)"
   ]
  },
  {
   "cell_type": "code",
   "execution_count": 37,
   "id": "boxed-entrepreneur",
   "metadata": {},
   "outputs": [
    {
     "name": "stdout",
     "output_type": "stream",
     "text": [
      "(464800, 48, 48, 1) (116200, 48, 48) (464800, 2) (116200, 2)\n"
     ]
    }
   ],
   "source": [
    "train_X, valid_X, train_label, valid_label = train_test_split(train_X, train_Y_one_hot, test_size=0.2, random_state=13)\n",
    "\n",
    "train_X = train_X.reshape(-1, IMG_SIZE, IMG_SIZE, 1)\n",
    "\n",
    "print(train_X.shape,valid_X.shape,train_label.shape,valid_label.shape)"
   ]
  },
  {
   "cell_type": "code",
   "execution_count": 38,
   "id": "concrete-treasure",
   "metadata": {},
   "outputs": [
    {
     "data": {
      "text/plain": [
       "{0.0: 116200, 1.0: 116200}"
      ]
     },
     "execution_count": 38,
     "metadata": {},
     "output_type": "execute_result"
    }
   ],
   "source": [
    "unique, counts = np.unique(valid_label, return_counts=True)\n",
    "dict(zip(unique, counts))"
   ]
  },
  {
   "cell_type": "markdown",
   "id": "adjusted-syria",
   "metadata": {},
   "source": [
    "## Batch Size\n",
    "\n",
    "tried 4 -- 64, does not make a big difference\n",
    "\n",
    "## Activation Function\n",
    "\n",
    "relu is 3% better than linear, sigmoid, tanh\n",
    "\n",
    "## Number of Dense Layers\n",
    "\n",
    "3 and 5 are good\n",
    "\n",
    "## Number of Neurons per Dense Layer\n",
    "\n",
    "16 -- 256 makes almost no difference, but 128 is slightly better\n",
    "\n",
    "## Number of Convolution Layers (1st param decreasing, kernel size increasing)\n",
    "\n",
    "1 -- 3 is good, but almost no difference\n",
    "\n",
    "## Epochs\n",
    "\n",
    "more than one is fine"
   ]
  },
  {
   "cell_type": "code",
   "execution_count": 16,
   "id": "dd5fde5d-9a58-4453-aefa-2bf148260c3f",
   "metadata": {},
   "outputs": [
    {
     "name": "stderr",
     "output_type": "stream",
     "text": [
      "2022-06-29 12:23:33.974236: W tensorflow/core/framework/cpu_allocator_impl.cc:82] Allocation of 5662310400 exceeds 10% of free system memory.\n"
     ]
    },
    {
     "name": "stdout",
     "output_type": "stream",
     "text": [
      "Epoch 1/3\n",
      " 5628/19200 [=======>......................] - ETA: 19:08 - loss: 0.3984 - accuracy: 0.8062"
     ]
    },
    {
     "name": "stderr",
     "output_type": "stream",
     "text": [
      "\n",
      "KeyboardInterrupt\n",
      "\n"
     ]
    }
   ],
   "source": [
    "#Settings\n",
    "\n",
    "batch_size = 32\n",
    "epochs = 3\n",
    "num_classes = 2\n",
    "activation = 'relu'\n",
    "layer_count = 4\n",
    "num_neurons = 128\n",
    "\n",
    "#for epochs in range(1, 7):\n",
    "    #print(f'+++++ EPOCHS: {epochs} +++++')\n",
    "#Define model structure\n",
    "model = Sequential()\n",
    "\n",
    "model.add(Conv2D(64, kernel_size=(3, 3),activation='linear',input_shape=(IMG_SIZE,IMG_SIZE,1),padding='same'))\n",
    "model.add(MaxPooling2D((2, 2),padding='same'))\n",
    "model.add(Conv2D(32, (5, 5), activation='linear',padding='same'))\n",
    "model.add(MaxPooling2D(pool_size=(2, 2),padding='same'))\n",
    "model.add(Conv2D(16, (7, 7), activation='linear',padding='same'))\n",
    "model.add(MaxPooling2D(pool_size=(2, 2),padding='same'))\n",
    "#model.add(Conv2D(128, (3, 3), activation='linear',padding='same'))                 \n",
    "#model.add(MaxPooling2D(pool_size=(2, 2),padding='same'))\n",
    "model.add(Flatten())\n",
    "\n",
    "# trial and error: linear performs much better than ReLU and sigmoid\n",
    "for i in range(layer_count):\n",
    "    model.add(Dense(num_neurons, activation=activation))\n",
    "#model.add(Dense(64, activation=activation))\n",
    "#model.add(Dense(64, activation=activation))\n",
    "#model.add(Dense(128, activation='linear'))\n",
    "#model.add(Dense(128, activation='linear'))\n",
    "\n",
    "# classifier\n",
    "model.add(Dense(num_classes, activation='softmax'))\n",
    "\n",
    "model.compile(loss=tf.keras.metrics.categorical_crossentropy, optimizer=\"adam\", metrics=['accuracy'])\n",
    "\n",
    "history = model.fit(\n",
    "    train_X, \n",
    "    train_label, \n",
    "    batch_size=batch_size,\n",
    "    epochs=epochs,\n",
    "    verbose=1,\n",
    "    validation_data=(valid_X, valid_label)\n",
    ")"
   ]
  },
  {
   "cell_type": "code",
   "execution_count": 14,
   "id": "165998c8-a4ed-4fa2-a8ff-2da3a7360fda",
   "metadata": {},
   "outputs": [
    {
     "name": "stderr",
     "output_type": "stream",
     "text": [
      "2022-06-29 12:13:22.560409: I tensorflow/stream_executor/cuda/cuda_gpu_executor.cc:975] successful NUMA node read from SysFS had negative value (-1), but there must be at least one NUMA node, so returning NUMA node zero\n",
      "2022-06-29 12:13:22.561567: W tensorflow/stream_executor/platform/default/dso_loader.cc:64] Could not load dynamic library 'libcudart.so.11.0'; dlerror: libcudart.so.11.0: cannot open shared object file: No such file or directory; LD_LIBRARY_PATH: /home/vigitia/.local/lib/python3.8/site-packages/cv2/../../lib64:/opt/ros/foxy/lib/x86_64-linux-gnu:/opt/ros/foxy/lib:/home/vigitia/ros2_galactic/ros2-linux/opt/yaml_cpp_vendor/lib:/home/vigitia/ros2_galactic/ros2-linux/opt/rviz_ogre_vendor/lib:/home/vigitia/ros2_galactic/ros2-linux/lib\n",
      "2022-06-29 12:13:22.562010: W tensorflow/stream_executor/platform/default/dso_loader.cc:64] Could not load dynamic library 'libcublas.so.11'; dlerror: libcublas.so.11: cannot open shared object file: No such file or directory; LD_LIBRARY_PATH: /home/vigitia/.local/lib/python3.8/site-packages/cv2/../../lib64:/opt/ros/foxy/lib/x86_64-linux-gnu:/opt/ros/foxy/lib:/home/vigitia/ros2_galactic/ros2-linux/opt/yaml_cpp_vendor/lib:/home/vigitia/ros2_galactic/ros2-linux/opt/rviz_ogre_vendor/lib:/home/vigitia/ros2_galactic/ros2-linux/lib\n",
      "2022-06-29 12:13:22.562203: W tensorflow/stream_executor/platform/default/dso_loader.cc:64] Could not load dynamic library 'libcublasLt.so.11'; dlerror: libcublasLt.so.11: cannot open shared object file: No such file or directory; LD_LIBRARY_PATH: /home/vigitia/.local/lib/python3.8/site-packages/cv2/../../lib64:/opt/ros/foxy/lib/x86_64-linux-gnu:/opt/ros/foxy/lib:/home/vigitia/ros2_galactic/ros2-linux/opt/yaml_cpp_vendor/lib:/home/vigitia/ros2_galactic/ros2-linux/opt/rviz_ogre_vendor/lib:/home/vigitia/ros2_galactic/ros2-linux/lib\n",
      "2022-06-29 12:13:22.566687: W tensorflow/stream_executor/platform/default/dso_loader.cc:64] Could not load dynamic library 'libcufft.so.10'; dlerror: libcufft.so.10: cannot open shared object file: No such file or directory; LD_LIBRARY_PATH: /home/vigitia/.local/lib/python3.8/site-packages/cv2/../../lib64:/opt/ros/foxy/lib/x86_64-linux-gnu:/opt/ros/foxy/lib:/home/vigitia/ros2_galactic/ros2-linux/opt/yaml_cpp_vendor/lib:/home/vigitia/ros2_galactic/ros2-linux/opt/rviz_ogre_vendor/lib:/home/vigitia/ros2_galactic/ros2-linux/lib\n",
      "2022-06-29 12:13:22.566905: W tensorflow/stream_executor/platform/default/dso_loader.cc:64] Could not load dynamic library 'libcurand.so.10'; dlerror: libcurand.so.10: cannot open shared object file: No such file or directory; LD_LIBRARY_PATH: /home/vigitia/.local/lib/python3.8/site-packages/cv2/../../lib64:/opt/ros/foxy/lib/x86_64-linux-gnu:/opt/ros/foxy/lib:/home/vigitia/ros2_galactic/ros2-linux/opt/yaml_cpp_vendor/lib:/home/vigitia/ros2_galactic/ros2-linux/opt/rviz_ogre_vendor/lib:/home/vigitia/ros2_galactic/ros2-linux/lib\n",
      "2022-06-29 12:13:22.567217: W tensorflow/stream_executor/platform/default/dso_loader.cc:64] Could not load dynamic library 'libcusolver.so.11'; dlerror: libcusolver.so.11: cannot open shared object file: No such file or directory; LD_LIBRARY_PATH: /home/vigitia/.local/lib/python3.8/site-packages/cv2/../../lib64:/opt/ros/foxy/lib/x86_64-linux-gnu:/opt/ros/foxy/lib:/home/vigitia/ros2_galactic/ros2-linux/opt/yaml_cpp_vendor/lib:/home/vigitia/ros2_galactic/ros2-linux/opt/rviz_ogre_vendor/lib:/home/vigitia/ros2_galactic/ros2-linux/lib\n",
      "2022-06-29 12:13:22.567377: W tensorflow/stream_executor/platform/default/dso_loader.cc:64] Could not load dynamic library 'libcusparse.so.11'; dlerror: libcusparse.so.11: cannot open shared object file: No such file or directory; LD_LIBRARY_PATH: /home/vigitia/.local/lib/python3.8/site-packages/cv2/../../lib64:/opt/ros/foxy/lib/x86_64-linux-gnu:/opt/ros/foxy/lib:/home/vigitia/ros2_galactic/ros2-linux/opt/yaml_cpp_vendor/lib:/home/vigitia/ros2_galactic/ros2-linux/opt/rviz_ogre_vendor/lib:/home/vigitia/ros2_galactic/ros2-linux/lib\n",
      "2022-06-29 12:13:22.567490: W tensorflow/stream_executor/platform/default/dso_loader.cc:64] Could not load dynamic library 'libcudnn.so.8'; dlerror: libcudnn.so.8: cannot open shared object file: No such file or directory; LD_LIBRARY_PATH: /home/vigitia/.local/lib/python3.8/site-packages/cv2/../../lib64:/opt/ros/foxy/lib/x86_64-linux-gnu:/opt/ros/foxy/lib:/home/vigitia/ros2_galactic/ros2-linux/opt/yaml_cpp_vendor/lib:/home/vigitia/ros2_galactic/ros2-linux/opt/rviz_ogre_vendor/lib:/home/vigitia/ros2_galactic/ros2-linux/lib\n",
      "2022-06-29 12:13:22.567499: W tensorflow/core/common_runtime/gpu/gpu_device.cc:1850] Cannot dlopen some GPU libraries. Please make sure the missing libraries mentioned above are installed properly if you would like to use GPU. Follow the guide at https://www.tensorflow.org/install/gpu for how to download and setup the required libraries for your platform.\n",
      "Skipping registering GPU devices...\n",
      "2022-06-29 12:13:22.572922: I tensorflow/core/platform/cpu_feature_guard.cc:193] This TensorFlow binary is optimized with oneAPI Deep Neural Network Library (oneDNN) to use the following CPU instructions in performance-critical operations:  AVX2 FMA\n",
      "To enable them in other operations, rebuild TensorFlow with the appropriate compiler flags.\n",
      "2022-06-29 12:13:22.681363: W tensorflow/core/framework/cpu_allocator_impl.cc:82] Allocation of 5662310400 exceeds 10% of free system memory.\n"
     ]
    },
    {
     "name": "stdout",
     "output_type": "stream",
     "text": [
      "Epoch 1/5\n",
      "9600/9600 [==============================] - 76s 8ms/step - loss: 0.3858 - accuracy: 0.8133 - val_loss: 0.3534 - val_accuracy: 0.8293\n",
      "Epoch 2/5\n",
      "9600/9600 [==============================] - 75s 8ms/step - loss: 0.3343 - accuracy: 0.8411 - val_loss: 0.3169 - val_accuracy: 0.8430\n",
      "Epoch 3/5\n",
      "9600/9600 [==============================] - 76s 8ms/step - loss: 0.3041 - accuracy: 0.8567 - val_loss: 0.3172 - val_accuracy: 0.8583\n",
      "Epoch 4/5\n",
      "9600/9600 [==============================] - 75s 8ms/step - loss: 0.2806 - accuracy: 0.8690 - val_loss: 0.2675 - val_accuracy: 0.8766\n",
      "Epoch 5/5\n",
      "9600/9600 [==============================] - 78s 8ms/step - loss: 0.2624 - accuracy: 0.8779 - val_loss: 0.2517 - val_accuracy: 0.8844\n"
     ]
    }
   ],
   "source": [
    "#Settings\n",
    "\n",
    "batch_size = 64\n",
    "epochs = 5\n",
    "num_classes = 2\n",
    "activation_kernel = 'relu'\n",
    "activation = 'relu'\n",
    "layer_count = 5\n",
    "num_neurons = 128\n",
    "\n",
    "#for epochs in range(1, 7):\n",
    "    #print(f'+++++ EPOCHS: {epochs} +++++')\n",
    "#Define model structure\n",
    "model = Sequential()\n",
    "\n",
    "model.add(Conv2D(64, kernel_size=(17, 17),activation=activation_kernel,input_shape=(IMG_SIZE,IMG_SIZE,1),padding='same',strides=7))\n",
    "model.add(MaxPooling2D(pool_size=(2, 2),padding='same'))\n",
    "model.add(Conv2D(32, (13, 13), activation=activation_kernel,padding='same',strides=5))\n",
    "model.add(MaxPooling2D(pool_size=(2, 2),padding='same'))\n",
    "model.add(Conv2D(16, (9, 9), activation=activation_kernel,padding='same',strides=3))\n",
    "model.add(MaxPooling2D(pool_size=(2, 2),padding='same'))\n",
    "#model.add(Conv2D(128, (3, 3), activation='linear',padding='same'))                 \n",
    "#model.add(MaxPooling2D(pool_size=(2, 2),padding='same'))\n",
    "model.add(Flatten())\n",
    "\n",
    "# trial and error: linear performs much better than ReLU and sigmoid\n",
    "for i in range(layer_count):\n",
    "    model.add(Dense(num_neurons, activation=activation))\n",
    "#model.add(Dense(64, activation=activation))\n",
    "#model.add(Dense(64, activation=activation))\n",
    "#model.add(Dense(128, activation='linear'))\n",
    "#model.add(Dense(128, activation='linear'))\n",
    "\n",
    "# classifier\n",
    "model.add(Dense(num_classes, activation='softmax'))\n",
    "\n",
    "model.compile(loss=tf.keras.metrics.categorical_crossentropy, optimizer=\"adam\", metrics=['accuracy'])\n",
    "\n",
    "history = model.fit(\n",
    "    train_X, \n",
    "    train_label, \n",
    "    batch_size=batch_size,\n",
    "    epochs=epochs,\n",
    "    verbose=1,\n",
    "    validation_data=(valid_X, valid_label)\n",
    ")"
   ]
  },
  {
   "cell_type": "code",
   "execution_count": 39,
   "id": "75d87d63-683d-499a-ae6e-3f09b0bb944a",
   "metadata": {},
   "outputs": [
    {
     "name": "stderr",
     "output_type": "stream",
     "text": [
      "2022-06-29 16:28:27.259566: W tensorflow/core/framework/cpu_allocator_impl.cc:82] Allocation of 4283596800 exceeds 10% of free system memory.\n"
     ]
    },
    {
     "name": "stdout",
     "output_type": "stream",
     "text": [
      "Epoch 1/3\n",
      "1816/1816 [==============================] - 654s 360ms/step - loss: 0.4056 - accuracy: 0.8014 - val_loss: 0.3201 - val_accuracy: 0.8515\n",
      "Epoch 2/3\n",
      "1816/1816 [==============================] - 660s 363ms/step - loss: 0.2623 - accuracy: 0.8784 - val_loss: 0.2405 - val_accuracy: 0.8902\n",
      "Epoch 3/3\n",
      "1816/1816 [==============================] - 670s 369ms/step - loss: 0.2037 - accuracy: 0.9058 - val_loss: 0.1929 - val_accuracy: 0.9105\n"
     ]
    }
   ],
   "source": [
    "#Settings\n",
    "\n",
    "batch_size = 256\n",
    "epochs = 3\n",
    "num_classes = 2\n",
    "activation = 'relu'\n",
    "layer_count = 5\n",
    "num_neurons = 128\n",
    "\n",
    "#for epochs in range(1, 7):\n",
    "    #print(f'+++++ EPOCHS: {epochs} +++++')\n",
    "#Define model structure\n",
    "model = Sequential()\n",
    "\n",
    "model.add(Conv2D(64, kernel_size=(3, 1),activation='linear',input_shape=(IMG_SIZE,IMG_SIZE,1),padding='same'))\n",
    "model.add(Conv2D(64, (1, 3), activation='linear',padding='same'))\n",
    "model.add(MaxPooling2D(pool_size=(2, 2),padding='same'))\n",
    "model.add(Conv2D(32, (3, 1), activation='linear',padding='same'))\n",
    "model.add(Conv2D(32, (1, 3), activation='linear',padding='same'))\n",
    "model.add(MaxPooling2D(pool_size=(2, 2),padding='same'))\n",
    "model.add(Conv2D(32, (3, 3), activation='linear',padding='same'))\n",
    "model.add(MaxPooling2D(pool_size=(2, 2),padding='same'))\n",
    "#model.add(Conv2D(128, (3, 3), activation='linear',padding='same'))                 \n",
    "#model.add(MaxPooling2D(pool_size=(2, 2),padding='same'))\n",
    "model.add(Flatten())\n",
    "\n",
    "# trial and error: linear performs much better than ReLU and sigmoid\n",
    "for i in range(layer_count):\n",
    "    model.add(Dense(num_neurons, activation=activation))\n",
    "#model.add(Dense(64, activation=activation))\n",
    "#model.add(Dense(64, activation=activation))\n",
    "#model.add(Dense(128, activation='linear'))\n",
    "#model.add(Dense(128, activation='linear'))\n",
    "\n",
    "# classifier\n",
    "model.add(Dense(num_classes, activation='softmax'))\n",
    "\n",
    "model.compile(loss=tf.keras.metrics.categorical_crossentropy, optimizer=\"adam\", metrics=['accuracy'])\n",
    "\n",
    "history = model.fit(\n",
    "    train_X, \n",
    "    train_label, \n",
    "    batch_size=batch_size,\n",
    "    epochs=epochs,\n",
    "    verbose=1,\n",
    "    validation_data=(valid_X, valid_label)\n",
    ")"
   ]
  },
  {
   "cell_type": "code",
   "execution_count": 28,
   "id": "5231fd81-2bdb-4903-82f3-795ec33c5880",
   "metadata": {},
   "outputs": [
    {
     "name": "stdout",
     "output_type": "stream",
     "text": [
      "Epoch 1/5\n",
      "2020/2020 [==============================] - 187s 93ms/step - loss: 0.2631 - accuracy: 0.8853 - val_loss: 0.1707 - val_accuracy: 0.9341\n",
      "Epoch 2/5\n",
      "2020/2020 [==============================] - 187s 93ms/step - loss: 0.1378 - accuracy: 0.9463 - val_loss: 0.1076 - val_accuracy: 0.9582\n",
      "Epoch 3/5\n",
      "2020/2020 [==============================] - 188s 93ms/step - loss: 0.1046 - accuracy: 0.9597 - val_loss: 0.0960 - val_accuracy: 0.9642\n",
      "Epoch 4/5\n",
      "2020/2020 [==============================] - 187s 93ms/step - loss: 0.0922 - accuracy: 0.9644 - val_loss: 0.0826 - val_accuracy: 0.9692\n",
      "Epoch 5/5\n",
      "2020/2020 [==============================] - 187s 93ms/step - loss: 0.0738 - accuracy: 0.9716 - val_loss: 0.0708 - val_accuracy: 0.9718\n"
     ]
    }
   ],
   "source": [
    "history = model.fit(\n",
    "    train_X, \n",
    "    train_label, \n",
    "    batch_size=batch_size,\n",
    "    epochs=epochs,\n",
    "    verbose=1,\n",
    "    validation_data=(valid_X, valid_label)\n",
    ")"
   ]
  },
  {
   "cell_type": "code",
   "execution_count": 40,
   "id": "fantastic-empire",
   "metadata": {},
   "outputs": [
    {
     "name": "stderr",
     "output_type": "stream",
     "text": [
      "WARNING:absl:Found untraced functions such as conv2d_11_layer_call_fn, conv2d_11_layer_call_and_return_conditional_losses, _jit_compiled_convolution_op, conv2d_12_layer_call_fn, conv2d_12_layer_call_and_return_conditional_losses while saving (showing 5 of 29). These functions will not be directly callable after loading.\n"
     ]
    },
    {
     "name": "stdout",
     "output_type": "stream",
     "text": [
      "INFO:tensorflow:Assets written to: hover_predictor_stereo_both_sides_6/assets\n"
     ]
    },
    {
     "name": "stderr",
     "output_type": "stream",
     "text": [
      "INFO:tensorflow:Assets written to: hover_predictor_stereo_both_sides_6/assets\n"
     ]
    }
   ],
   "source": [
    "model.save('hover_predictor_stereo_both_sides_6')"
   ]
  },
  {
   "cell_type": "code",
   "execution_count": 5,
   "id": "7433847c",
   "metadata": {},
   "outputs": [],
   "source": [
    "# Training Finished!\n"
   ]
  },
  {
   "cell_type": "code",
   "execution_count": null,
   "id": "8cec0394",
   "metadata": {},
   "outputs": [],
   "source": []
  },
  {
   "cell_type": "code",
   "execution_count": 366,
   "id": "returning-dublin",
   "metadata": {},
   "outputs": [
    {
     "name": "stderr",
     "output_type": "stream",
     "text": [
      "/tmp/ipykernel_222420/1043679742.py:10: TqdmDeprecationWarning: This function will be removed in tqdm==5.0.0\n",
      "Please use `tqdm.notebook.tqdm` instead of `tqdm.tqdm_notebook`\n",
      "  for file in tqdm(files):\n"
     ]
    },
    {
     "data": {
      "application/vnd.jupyter.widget-view+json": {
       "model_id": "f22aaad40d14485cb53eb118942b1700",
       "version_major": 2,
       "version_minor": 0
      },
      "text/plain": [
       "  0%|          | 0/172 [00:00<?, ?it/s]"
      ]
     },
     "metadata": {},
     "output_type": "display_data"
    },
    {
     "data": {
      "application/vnd.jupyter.widget-view+json": {
       "model_id": "db1037e7c2a94ca79d66413d2828e430",
       "version_major": 2,
       "version_minor": 0
      },
      "text/plain": [
       "  0%|          | 0/134 [00:00<?, ?it/s]"
      ]
     },
     "metadata": {},
     "output_type": "display_data"
    },
    {
     "name": "stdout",
     "output_type": "stream",
     "text": [
      "302\n"
     ]
    }
   ],
   "source": [
    "test_images_draw, _ = read_images(PATH_TEST_DRAW)\n",
    "test_images_hover, _ = read_images(PATH_TEST_HOVER)\n",
    "test_images = test_images_draw + test_images_hover\n",
    "print(len(test_images))"
   ]
  },
  {
   "cell_type": "code",
   "execution_count": 407,
   "id": "indoor-chile",
   "metadata": {},
   "outputs": [],
   "source": [
    "predictions_draw = []\n",
    "predictions_hover = []\n",
    "confidences_draw = []\n",
    "confidences_hover = []\n",
    "\n",
    "for i in test_images_draw:\n",
    "    img = i.astype('float32') / 255\n",
    "    img = img.reshape(-1, IMG_SIZE, IMG_SIZE, 1)\n",
    "    prediction = model.predict(img)\n",
    "    predictions_draw.append(np.argmax(prediction))\n",
    "    confidences_draw.append(prediction[0][0])\n",
    "    \n",
    "for i in test_images_hover:\n",
    "    img = i.astype('float32') / 255\n",
    "    img = img.reshape(-1, IMG_SIZE, IMG_SIZE, 1)\n",
    "    prediction = model.predict(img)\n",
    "    predictions_hover.append(np.argmax(prediction))\n",
    "    confidences_hover.append(prediction[0][1])"
   ]
  },
  {
   "cell_type": "code",
   "execution_count": 408,
   "id": "south-integration",
   "metadata": {},
   "outputs": [
    {
     "name": "stdout",
     "output_type": "stream",
     "text": [
      "0.0 8.564023e-19\n",
      "1.0 1.0\n"
     ]
    }
   ],
   "source": [
    "print(1 - np.mean(predictions_draw), np.mean(confidences_draw))\n",
    "print(np.mean(predictions_hover), np.mean(confidences_hover))"
   ]
  },
  {
   "cell_type": "code",
   "execution_count": 355,
   "id": "constant-template",
   "metadata": {},
   "outputs": [],
   "source": [
    "def predict(img):\n",
    "    img = img.astype('float32') / 255\n",
    "    img = img.reshape(-1, IMG_SIZE, IMG_SIZE, 1)\n",
    "    prediction = model.predict(img)\n",
    "    return prediction"
   ]
  },
  {
   "cell_type": "code",
   "execution_count": 363,
   "id": "monthly-runner",
   "metadata": {},
   "outputs": [
    {
     "name": "stdout",
     "output_type": "stream",
     "text": [
      "hover\n",
      "[[2.3264135e-04 9.9976736e-01]]\n"
     ]
    },
    {
     "data": {
      "text/plain": [
       "<matplotlib.image.AxesImage at 0x7ff7d4e55040>"
      ]
     },
     "execution_count": 363,
     "metadata": {},
     "output_type": "execute_result"
    },
    {
     "data": {
      "image/png": "[encoded data removed]",
      "text/plain": [
       "<Figure size 432x288 with 1 Axes>"
      ]
     },
     "metadata": {
      "needs_background": "light"
     },
     "output_type": "display_data"
    }
   ],
   "source": [
    "idx = random.randint(0, len(test_images) - 1)\n",
    "test_image = test_images[idx]\n",
    "#print(test_image)\n",
    "if idx > len(test_images_draw):\n",
    "    print('hover')\n",
    "else:\n",
    "    print('draw')\n",
    "print(predict(test_image))\n",
    "plt.imshow(test_image)"
   ]
  },
  {
   "cell_type": "code",
   "execution_count": 323,
   "id": "finite-factor",
   "metadata": {},
   "outputs": [
    {
     "name": "stderr",
     "output_type": "stream",
     "text": [
      "/tmp/ipykernel_222420/1043679742.py:10: TqdmDeprecationWarning: This function will be removed in tqdm==5.0.0\n",
      "Please use `tqdm.notebook.tqdm` instead of `tqdm.tqdm_notebook`\n",
      "  for file in tqdm(files):\n"
     ]
    },
    {
     "data": {
      "application/vnd.jupyter.widget-view+json": {
       "model_id": "4d6b833021d94248b19b9ab7b2d8cb04",
       "version_major": 2,
       "version_minor": 0
      },
      "text/plain": [
       "  0%|          | 0/395 [00:00<?, ?it/s]"
      ]
     },
     "metadata": {},
     "output_type": "display_data"
    }
   ],
   "source": [
    "WRITE_PATH = '../out/write'\n",
    "test_images_write, coords = read_images(WRITE_PATH)"
   ]
  },
  {
   "cell_type": "code",
   "execution_count": 265,
   "id": "opposite-freight",
   "metadata": {},
   "outputs": [],
   "source": [
    "coords = np.array(coords)"
   ]
  },
  {
   "cell_type": "code",
   "execution_count": 357,
   "id": "specific-columbia",
   "metadata": {},
   "outputs": [
    {
     "data": {
      "image/png": "[encoded data removed]",
      "text/plain": [
       "<Figure size 1440x720 with 1 Axes>"
      ]
     },
     "metadata": {
      "needs_background": "light"
     },
     "output_type": "display_data"
    }
   ],
   "source": [
    "plt.figure(figsize = (20, 10))\n",
    "for i in range(1, len(test_images_write)):\n",
    "    pred = np.argmax(predict(test_images_write[i]))\n",
    "    \n",
    "    color = 'red' if pred == 1 else 'blue'\n",
    "    plt.scatter(coords[i][0], coords[i][1], s=1, c=color)\n",
    "    #plt.plot((coords[i-1][0], coords[i][0]), (coords[i-1][1], coords[i][1]), c=color)\n",
    "#plt.scatter(coords.T[0], coords.T[1], s=1, c=color)"
   ]
  },
  {
   "cell_type": "code",
   "execution_count": 333,
   "id": "yellow-proportion",
   "metadata": {},
   "outputs": [
    {
     "name": "stdout",
     "output_type": "stream",
     "text": [
      "[[9.991322e-01 8.678388e-04]]\n"
     ]
    },
    {
     "data": {
      "text/plain": [
       "<matplotlib.image.AxesImage at 0x7ff7d0f3efa0>"
      ]
     },
     "execution_count": 333,
     "metadata": {},
     "output_type": "execute_result"
    },
    {
     "data": {
      "image/png": "[encoded data removed]",
      "text/plain": [
       "<Figure size 432x288 with 1 Axes>"
      ]
     },
     "metadata": {
      "needs_background": "light"
     },
     "output_type": "display_data"
    }
   ],
   "source": [
    "idx = random.randint(0, len(test_images_write) - 1)\n",
    "test_image = test_images_write[idx]\n",
    "#print(test_image)\n",
    "\n",
    "print(predict(test_image))\n",
    "plt.imshow(test_image)"
   ]
  },
  {
   "cell_type": "code",
   "execution_count": 308,
   "id": "least-printing",
   "metadata": {},
   "outputs": [
    {
     "name": "stdout",
     "output_type": "stream",
     "text": [
      "draw\n",
      "[[0.84201366 0.15798642]]\n"
     ]
    },
    {
     "data": {
      "text/plain": [
       "<matplotlib.image.AxesImage at 0x7ff7d8516760>"
      ]
     },
     "execution_count": 308,
     "metadata": {},
     "output_type": "execute_result"
    },
    {
     "data": {
      "image/png": "[encoded data removed]",
      "text/plain": [
       "<Figure size 432x288 with 1 Axes>"
      ]
     },
     "metadata": {
      "needs_background": "light"
     },
     "output_type": "display_data"
    }
   ],
   "source": []
  },
  {
   "cell_type": "code",
   "execution_count": 347,
   "id": "identified-louisville",
   "metadata": {},
   "outputs": [
    {
     "data": {
      "text/plain": [
       "[<matplotlib.lines.Line2D at 0x7ff7b37251f0>]"
      ]
     },
     "execution_count": 347,
     "metadata": {},
     "output_type": "execute_result"
    },
    {
     "data": {
      "image/png": "[encoded data removed]",
      "text/plain": [
       "<Figure size 432x288 with 1 Axes>"
      ]
     },
     "metadata": {
      "needs_background": "light"
     },
     "output_type": "display_data"
    }
   ],
   "source": [
    "plt.plot((0,1, 2), (1,0, 2))"
   ]
  },
  {
   "cell_type": "code",
   "execution_count": null,
   "id": "varying-michael",
   "metadata": {},
   "outputs": [],
   "source": []
  }
 ],
 "metadata": {
  "kernelspec": {
   "display_name": "Python 3 (ipykernel)",
   "language": "python",
   "name": "python3"
  },
  "language_info": {
   "codemirror_mode": {
    "name": "ipython",
    "version": 3
   },
   "file_extension": ".py",
   "mimetype": "text/x-python",
   "name": "python",
   "nbconvert_exporter": "python",
   "pygments_lexer": "ipython3",
   "version": "3.8.10"
  }
 },
 "nbformat": 4,
 "nbformat_minor": 5
}
