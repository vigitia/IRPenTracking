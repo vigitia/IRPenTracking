{
 "cells": [
  {
   "cell_type": "markdown",
   "id": "070e1d7c-1daa-4e07-8613-5c4e882f027c",
   "metadata": {},
   "source": [
    "# Train a new CNN "
   ]
  },
  {
   "cell_type": "markdown",
   "id": "c6405ee7-55fa-4141-9515-687bf05aab6a",
   "metadata": {},
   "source": [
    "### Imports"
   ]
  },
  {
   "cell_type": "code",
   "execution_count": 27,
   "id": "b7954a8d-7ecc-49b9-aa4e-e93ccf76d4d8",
   "metadata": {},
   "outputs": [],
   "source": [
    "from matplotlib import pyplot as plt\n",
    "from mpl_toolkits.axes_grid1 import ImageGrid\n",
    "import cv2\n",
    "import numpy as np\n",
    "import os\n",
    "from tqdm import tqdm_notebook as tqdm\n",
    "import random\n",
    "import time\n",
    "\n",
    "import tensorflow as tf\n",
    "from tensorflow.keras.utils import to_categorical\n",
    "\n",
    "from sklearn.model_selection import train_test_split\n",
    "\n",
    "from tensorflow import keras\n",
    "\n",
    "from tensorflow.python.keras.models import Sequential,Input,Model\n",
    "from tensorflow.keras.layers import Dense, Dropout, Flatten\n",
    "from tensorflow.keras.layers import Conv2D, MaxPooling2D\n",
    "\n",
    "from tensorflow.keras.layers import BatchNormalization\n",
    "from tensorflow.keras.layers import LeakyReLU"
   ]
  },
  {
   "cell_type": "markdown",
   "id": "412c1840-5702-4288-817e-4132abd83774",
   "metadata": {},
   "source": [
    "### Constants"
   ]
  },
  {
   "cell_type": "code",
   "execution_count": 13,
   "id": "b47cd29b-be71-4485-a78d-ae8471aeccd1",
   "metadata": {},
   "outputs": [],
   "source": [
    "IMG_SIZE = 48\n",
    "MIN_BRIGHTNESS_PREDICTION = 50\n",
    "\n",
    "PARENT_DIRECTORY = '../out3/'\n",
    "FOLDER_NAME = '2022-07-29'"
   ]
  },
  {
   "cell_type": "markdown",
   "id": "c6b856f3-09f7-4f5f-a58f-72a72ab97dfc",
   "metadata": {},
   "source": []
  },
  {
   "cell_type": "code",
   "execution_count": 18,
   "id": "2e3372a7-a546-4f41-97a1-c0db84663012",
   "metadata": {},
   "outputs": [
    {
     "name": "stdout",
     "output_type": "stream",
     "text": [
      "['../out3/2022-07-29/draw_1_300', '../out3/2022-07-29/draw_0_300']\n",
      "['../out3/2022-07-29/hover_far_0_300', '../out3/2022-07-29/hover_close_0_300']\n"
     ]
    }
   ],
   "source": [
    "DRAW_PATHS = []\n",
    "HOVER_PATHS = []\n",
    "\n",
    "target_folder = os.path.join(PARENT_DIRECTORY, FOLDER_NAME)\n",
    "\n",
    "subfolders = (next(os.walk(target_folder))[1])\n",
    "\n",
    "for subfolder_name in subfolders:\n",
    "    if 'draw' in subfolder_name:\n",
    "        DRAW_PATHS.append(os.path.join(PARENT_DIRECTORY, FOLDER_NAME, subfolder_name))\n",
    "    elif 'hover' in subfolder_name:\n",
    "        HOVER_PATHS.append(os.path.join(PARENT_DIRECTORY, FOLDER_NAME, subfolder_name))\n",
    "    else:\n",
    "        print('ERROR: Malformed folder name')\n",
    "        \n",
    "print(DRAW_PATHS)\n",
    "print(HOVER_PATHS)"
   ]
  },
  {
   "cell_type": "markdown",
   "id": "5653a943-8782-4e4f-a77c-5aaff7d85223",
   "metadata": {},
   "source": [
    "### Helper functions"
   ]
  },
  {
   "cell_type": "code",
   "execution_count": 19,
   "id": "d7b53a3a-0ab6-4de6-a8f7-19b3d7d40e52",
   "metadata": {},
   "outputs": [],
   "source": [
    "def read_images_mono(path):\n",
    "    files = os.listdir(path)\n",
    "    files = [file for file in files if file[-4:] == \".png\"]\n",
    "    \n",
    "    images = []\n",
    "    coords = []\n",
    "    \n",
    "    size = IMG_SIZE\n",
    "    \n",
    "    for file in tqdm(files):\n",
    "        try:\n",
    "            image = cv2.imread(os.path.join(path, file), cv2.IMREAD_GRAYSCALE)\n",
    "            if image.shape == (size, size) and np.max(image) > MIN_BRIGHTNESS_PREDICTION:\n",
    "                images.append(image)\n",
    "            \n",
    "        except OSError:\n",
    "            pass\n",
    "    \n",
    "    return images, coords"
   ]
  },
  {
   "cell_type": "code",
   "execution_count": 20,
   "id": "baea41a2-5a0c-4eea-8fed-68fa7561f46e",
   "metadata": {},
   "outputs": [],
   "source": [
    "def data_augmentation(images):\n",
    "    result = []\n",
    "    for img in images:\n",
    "        result.append(img)\n",
    "        result.append(cv2.flip(img, flipCode=0))\n",
    "        for i in range(3):  # TODO: CHECK IF 4 is needed here\n",
    "            tmp = cv2.rotate(img, i)\n",
    "            for b in range(9, 12):\n",
    "                tmp2 = np.clip(tmp * (b / 10), 0, 255)\n",
    "                result.append(tmp2)\n",
    "                result.append(cv2.flip(tmp2, flipCode=0))\n",
    "    return result"
   ]
  },
  {
   "cell_type": "markdown",
   "id": "d6f1d6e4-e6e5-4978-8a7d-ab51d23f9d04",
   "metadata": {},
   "source": [
    "### Read in images and create additional images via Data Augmentation"
   ]
  },
  {
   "cell_type": "code",
   "execution_count": 21,
   "id": "8d22b44d-4e34-4654-8710-f8fc7c80d83e",
   "metadata": {},
   "outputs": [
    {
     "name": "stderr",
     "output_type": "stream",
     "text": [
      "/tmp/ipykernel_71953/4281447985.py:10: TqdmDeprecationWarning: This function will be removed in tqdm==5.0.0\n",
      "Please use `tqdm.notebook.tqdm` instead of `tqdm.tqdm_notebook`\n",
      "  for file in tqdm(files):\n"
     ]
    },
    {
     "data": {
      "application/vnd.jupyter.widget-view+json": {
       "model_id": "39c6ea27a287470da5023b4ba865e975",
       "version_major": 2,
       "version_minor": 0
      },
      "text/plain": [
       "  0%|          | 0/3000 [00:00<?, ?it/s]"
      ]
     },
     "metadata": {},
     "output_type": "display_data"
    },
    {
     "data": {
      "application/vnd.jupyter.widget-view+json": {
       "model_id": "cad85e72202746bab01cd4dbd2e83d8e",
       "version_major": 2,
       "version_minor": 0
      },
      "text/plain": [
       "  0%|          | 0/3489 [00:00<?, ?it/s]"
      ]
     },
     "metadata": {},
     "output_type": "display_data"
    },
    {
     "data": {
      "application/vnd.jupyter.widget-view+json": {
       "model_id": "27baf1aa00e74de7835676cf7b75deee",
       "version_major": 2,
       "version_minor": 0
      },
      "text/plain": [
       "  0%|          | 0/3000 [00:00<?, ?it/s]"
      ]
     },
     "metadata": {},
     "output_type": "display_data"
    },
    {
     "data": {
      "application/vnd.jupyter.widget-view+json": {
       "model_id": "72ceb4cbed0d4430919224444c3a067b",
       "version_major": 2,
       "version_minor": 0
      },
      "text/plain": [
       "  0%|          | 0/3001 [00:00<?, ?it/s]"
      ]
     },
     "metadata": {},
     "output_type": "display_data"
    },
    {
     "name": "stdout",
     "output_type": "stream",
     "text": [
      "214600\n"
     ]
    }
   ],
   "source": [
    "images_draw = []\n",
    "images_hover = []\n",
    "\n",
    "for p in DRAW_PATHS:\n",
    "    images_draw += read_images_mono(p)[0]\n",
    "    \n",
    "for p in HOVER_PATHS:\n",
    "    images_hover += read_images_mono(p)[0]\n",
    "\n",
    "images_draw = data_augmentation(images_draw)\n",
    "images_hover = data_augmentation(images_hover)\n",
    "images = images_draw + images_hover\n",
    "labels = [0] * len(images_draw) + [1] * len(images_hover)\n",
    "\n",
    "print(len(labels))"
   ]
  },
  {
   "cell_type": "markdown",
   "id": "e351ceb5-ef17-4efe-9631-59048f3b1242",
   "metadata": {},
   "source": [
    "### Preview Data"
   ]
  },
  {
   "cell_type": "code",
   "execution_count": 39,
   "id": "7d396289-2493-4b57-895c-a6e5db94026a",
   "metadata": {},
   "outputs": [
    {
     "data": {
      "image/png": "[encoded data removed]",
      "text/plain": [
       "<Figure size 1152x1152 with 40 Axes>"
      ]
     },
     "metadata": {
      "needs_background": "light"
     },
     "output_type": "display_data"
    }
   ],
   "source": [
    "ROWS = 4\n",
    "COLUMS = 5\n",
    "\n",
    "\n",
    "image_list = []\n",
    "for i in range(ROWS*COLUMS):\n",
    "    image_list.append(random.sample(images, 1)[0])\n",
    "\n",
    "\n",
    "fig = plt.figure(figsize=(16, 16))\n",
    "grid = ImageGrid(fig, 111,  # similar to subplot(111)\n",
    "                 nrows_ncols=(COLUMS, ROWS),  # creates 2x2 grid of axes\n",
    "                 axes_pad=0.1,  # pad between axes in inch.\n",
    "                 )\n",
    "\n",
    "for ax, im in zip(grid, image_list):\n",
    "    # Iterating over the grid returns the Axes.\n",
    "    ax.imshow(im)"
   ]
  },
  {
   "cell_type": "markdown",
   "id": "e24a01b2-e427-4f02-bb41-aea5f9d8fd82",
   "metadata": {},
   "source": [
    "### Prepare Training and Validation Data"
   ]
  },
  {
   "cell_type": "code",
   "execution_count": 40,
   "id": "b84e842d-cbbe-4449-b373-2be622e8a609",
   "metadata": {},
   "outputs": [
    {
     "name": "stdout",
     "output_type": "stream",
     "text": [
      "Training data shape :  (214600, 48, 48) (214600,)\n",
      "(171680, 48, 48, 1) (42920, 48, 48) (171680, 2) (42920, 2)\n"
     ]
    },
    {
     "data": {
      "text/plain": [
       "{0.0: 42920, 1.0: 42920}"
      ]
     },
     "execution_count": 40,
     "metadata": {},
     "output_type": "execute_result"
    }
   ],
   "source": [
    "train_X = np.array(images)\n",
    "train_Y = np.array(labels)\n",
    "\n",
    "print('Training data shape : ', train_X.shape, train_Y.shape)\n",
    "\n",
    "train_X = train_X.astype('float32')\n",
    "train_X = train_X / 255.\n",
    "\n",
    "train_Y_one_hot = to_categorical(train_Y)\n",
    "\n",
    "train_X, valid_X, train_label, valid_label = train_test_split(train_X, train_Y_one_hot, test_size=0.2, random_state=13)\n",
    "\n",
    "train_X = train_X.reshape(-1, IMG_SIZE, IMG_SIZE, 1)\n",
    "\n",
    "print(train_X.shape, valid_X.shape, train_label.shape, valid_label.shape)\n",
    "\n",
    "unique, counts = np.unique(valid_label, return_counts=True)\n",
    "dict(zip(unique, counts))"
   ]
  },
  {
   "cell_type": "markdown",
   "id": "1c234d22-6d3e-42d1-b104-e1263c4e4403",
   "metadata": {},
   "source": [
    "### Start Training"
   ]
  },
  {
   "cell_type": "code",
   "execution_count": 46,
   "id": "f8df7e76-e982-4d5f-a42f-e64d0a172337",
   "metadata": {},
   "outputs": [
    {
     "name": "stderr",
     "output_type": "stream",
     "text": [
      "2022-07-29 20:57:39.839914: I tensorflow/stream_executor/cuda/cuda_gpu_executor.cc:975] successful NUMA node read from SysFS had negative value (-1), but there must be at least one NUMA node, so returning NUMA node zero\n",
      "2022-07-29 20:57:39.840065: W tensorflow/stream_executor/platform/default/dso_loader.cc:64] Could not load dynamic library 'libcudart.so.11.0'; dlerror: libcudart.so.11.0: cannot open shared object file: No such file or directory; LD_LIBRARY_PATH: /home/vigitia/.local/lib/python3.8/site-packages/cv2/../../lib64:/opt/ros/foxy/lib/x86_64-linux-gnu:/opt/ros/foxy/lib:/home/vigitia/ros2_galactic/ros2-linux/opt/yaml_cpp_vendor/lib:/home/vigitia/ros2_galactic/ros2-linux/opt/rviz_ogre_vendor/lib:/home/vigitia/ros2_galactic/ros2-linux/lib\n",
      "2022-07-29 20:57:39.840109: W tensorflow/stream_executor/platform/default/dso_loader.cc:64] Could not load dynamic library 'libcublas.so.11'; dlerror: libcublas.so.11: cannot open shared object file: No such file or directory; LD_LIBRARY_PATH: /home/vigitia/.local/lib/python3.8/site-packages/cv2/../../lib64:/opt/ros/foxy/lib/x86_64-linux-gnu:/opt/ros/foxy/lib:/home/vigitia/ros2_galactic/ros2-linux/opt/yaml_cpp_vendor/lib:/home/vigitia/ros2_galactic/ros2-linux/opt/rviz_ogre_vendor/lib:/home/vigitia/ros2_galactic/ros2-linux/lib\n",
      "2022-07-29 20:57:39.840145: W tensorflow/stream_executor/platform/default/dso_loader.cc:64] Could not load dynamic library 'libcublasLt.so.11'; dlerror: libcublasLt.so.11: cannot open shared object file: No such file or directory; LD_LIBRARY_PATH: /home/vigitia/.local/lib/python3.8/site-packages/cv2/../../lib64:/opt/ros/foxy/lib/x86_64-linux-gnu:/opt/ros/foxy/lib:/home/vigitia/ros2_galactic/ros2-linux/opt/yaml_cpp_vendor/lib:/home/vigitia/ros2_galactic/ros2-linux/opt/rviz_ogre_vendor/lib:/home/vigitia/ros2_galactic/ros2-linux/lib\n",
      "2022-07-29 20:57:39.840199: W tensorflow/stream_executor/platform/default/dso_loader.cc:64] Could not load dynamic library 'libcufft.so.10'; dlerror: libcufft.so.10: cannot open shared object file: No such file or directory; LD_LIBRARY_PATH: /home/vigitia/.local/lib/python3.8/site-packages/cv2/../../lib64:/opt/ros/foxy/lib/x86_64-linux-gnu:/opt/ros/foxy/lib:/home/vigitia/ros2_galactic/ros2-linux/opt/yaml_cpp_vendor/lib:/home/vigitia/ros2_galactic/ros2-linux/opt/rviz_ogre_vendor/lib:/home/vigitia/ros2_galactic/ros2-linux/lib\n",
      "2022-07-29 20:57:39.840251: W tensorflow/stream_executor/platform/default/dso_loader.cc:64] Could not load dynamic library 'libcurand.so.10'; dlerror: libcurand.so.10: cannot open shared object file: No such file or directory; LD_LIBRARY_PATH: /home/vigitia/.local/lib/python3.8/site-packages/cv2/../../lib64:/opt/ros/foxy/lib/x86_64-linux-gnu:/opt/ros/foxy/lib:/home/vigitia/ros2_galactic/ros2-linux/opt/yaml_cpp_vendor/lib:/home/vigitia/ros2_galactic/ros2-linux/opt/rviz_ogre_vendor/lib:/home/vigitia/ros2_galactic/ros2-linux/lib\n",
      "2022-07-29 20:57:39.840287: W tensorflow/stream_executor/platform/default/dso_loader.cc:64] Could not load dynamic library 'libcusolver.so.11'; dlerror: libcusolver.so.11: cannot open shared object file: No such file or directory; LD_LIBRARY_PATH: /home/vigitia/.local/lib/python3.8/site-packages/cv2/../../lib64:/opt/ros/foxy/lib/x86_64-linux-gnu:/opt/ros/foxy/lib:/home/vigitia/ros2_galactic/ros2-linux/opt/yaml_cpp_vendor/lib:/home/vigitia/ros2_galactic/ros2-linux/opt/rviz_ogre_vendor/lib:/home/vigitia/ros2_galactic/ros2-linux/lib\n",
      "2022-07-29 20:57:39.840322: W tensorflow/stream_executor/platform/default/dso_loader.cc:64] Could not load dynamic library 'libcusparse.so.11'; dlerror: libcusparse.so.11: cannot open shared object file: No such file or directory; LD_LIBRARY_PATH: /home/vigitia/.local/lib/python3.8/site-packages/cv2/../../lib64:/opt/ros/foxy/lib/x86_64-linux-gnu:/opt/ros/foxy/lib:/home/vigitia/ros2_galactic/ros2-linux/opt/yaml_cpp_vendor/lib:/home/vigitia/ros2_galactic/ros2-linux/opt/rviz_ogre_vendor/lib:/home/vigitia/ros2_galactic/ros2-linux/lib\n",
      "2022-07-29 20:57:39.840358: W tensorflow/stream_executor/platform/default/dso_loader.cc:64] Could not load dynamic library 'libcudnn.so.8'; dlerror: libcudnn.so.8: cannot open shared object file: No such file or directory; LD_LIBRARY_PATH: /home/vigitia/.local/lib/python3.8/site-packages/cv2/../../lib64:/opt/ros/foxy/lib/x86_64-linux-gnu:/opt/ros/foxy/lib:/home/vigitia/ros2_galactic/ros2-linux/opt/yaml_cpp_vendor/lib:/home/vigitia/ros2_galactic/ros2-linux/opt/rviz_ogre_vendor/lib:/home/vigitia/ros2_galactic/ros2-linux/lib\n",
      "2022-07-29 20:57:39.840364: W tensorflow/core/common_runtime/gpu/gpu_device.cc:1850] Cannot dlopen some GPU libraries. Please make sure the missing libraries mentioned above are installed properly if you would like to use GPU. Follow the guide at https://www.tensorflow.org/install/gpu for how to download and setup the required libraries for your platform.\n",
      "Skipping registering GPU devices...\n",
      "2022-07-29 20:57:39.840660: I tensorflow/core/platform/cpu_feature_guard.cc:193] This TensorFlow binary is optimized with oneAPI Deep Neural Network Library (oneDNN) to use the following CPU instructions in performance-critical operations:  AVX2 FMA\n",
      "To enable them in other operations, rebuild TensorFlow with the appropriate compiler flags.\n"
     ]
    },
    {
     "name": "stdout",
     "output_type": "stream",
     "text": [
      "5365/5365 [==============================] - 279s 52ms/step - loss: 0.0485 - accuracy: 0.9827 - val_loss: 0.0197 - val_accuracy: 0.9959\n"
     ]
    }
   ],
   "source": [
    "#Settings\n",
    "\n",
    "# batch 64\n",
    "# epoch 1\n",
    "# conv linear\n",
    "\n",
    "batch_size = 32\n",
    "epochs = 1\n",
    "num_classes = 2\n",
    "activation = 'relu'\n",
    "activation_conv = 'relu'\n",
    "layer_count = 5\n",
    "num_neurons = 128\n",
    "\n",
    "#for epochs in range(1, 7):\n",
    "    #print(f'+++++ EPOCHS: {epochs} +++++')\n",
    "#Define model structure\n",
    "model = Sequential()\n",
    "\n",
    "model.add(Conv2D(64, kernel_size=(3, 1),activation=activation_conv,input_shape=(IMG_SIZE,IMG_SIZE,1),padding='same'))\n",
    "model.add(Conv2D(64, (1, 3), activation=activation_conv,padding='same'))\n",
    "model.add(MaxPooling2D(pool_size=(2, 2),padding='same'))\n",
    "model.add(Conv2D(32, (3, 1), activation=activation_conv,padding='same'))\n",
    "model.add(Conv2D(32, (1, 3), activation=activation_conv,padding='same'))\n",
    "model.add(MaxPooling2D(pool_size=(2, 2),padding='same'))\n",
    "model.add(Conv2D(32, (3, 3), activation=activation_conv,padding='same'))\n",
    "model.add(MaxPooling2D(pool_size=(2, 2),padding='same'))\n",
    "#model.add(Conv2D(128, (3, 3), activation='linear',padding='same'))                 \n",
    "#model.add(MaxPooling2D(pool_size=(2, 2),padding='same'))\n",
    "model.add(Flatten())\n",
    "\n",
    "# trial and error: linear performs much better than ReLU and sigmoid\n",
    "for i in range(layer_count):\n",
    "    model.add(Dense(num_neurons, activation=activation))\n",
    "#model.add(Dense(64, activation=activation))\n",
    "#model.add(Dense(64, activation=activation))\n",
    "#model.add(Dense(128, activation='linear'))\n",
    "#model.add(Dense(128, activation='linear'))\n",
    "\n",
    "# classifier\n",
    "model.add(Dense(num_classes, activation='softmax'))\n",
    "\n",
    "model.compile(loss=tf.keras.metrics.categorical_crossentropy, optimizer=\"adam\", metrics=['accuracy'])\n",
    "\n",
    "history = model.fit(\n",
    "    train_X, \n",
    "    train_label, \n",
    "    batch_size=batch_size,\n",
    "    epochs=epochs,\n",
    "    verbose=1,\n",
    "    validation_data=(valid_X, valid_label)\n",
    ")"
   ]
  },
  {
   "cell_type": "code",
   "execution_count": 56,
   "id": "0d95f458-a0d6-4ea8-8692-ebf85160d214",
   "metadata": {},
   "outputs": [
    {
     "name": "stdout",
     "output_type": "stream",
     "text": [
      "[0.04847075790166855]\n",
      "[0.019687170162796974]\n",
      "[0.9827236533164978]\n",
      "[0.9958550930023193]\n"
     ]
    }
   ],
   "source": [
    "loss = print(history.history['loss'])\n",
    "val_loss = print(history.history['val_loss'])\n",
    "accuracy = print(history.history['accuracy'])\n",
    "val_accuracy = print(history.history['val_accuracy'])"
   ]
  },
  {
   "cell_type": "markdown",
   "id": "73342193-c818-4662-843d-5f8fb883dfb7",
   "metadata": {},
   "source": [
    "### Save the Model"
   ]
  },
  {
   "cell_type": "code",
   "execution_count": 47,
   "id": "d80e89c4-8946-4e62-a658-89ad69887c0b",
   "metadata": {},
   "outputs": [
    {
     "name": "stderr",
     "output_type": "stream",
     "text": [
      "WARNING:absl:Found untraced functions such as conv2d_layer_call_fn, conv2d_layer_call_and_return_conditional_losses, _jit_compiled_convolution_op, conv2d_1_layer_call_fn, conv2d_1_layer_call_and_return_conditional_losses while saving (showing 5 of 29). These functions will not be directly callable after loading.\n"
     ]
    },
    {
     "name": "stdout",
     "output_type": "stream",
     "text": [
      "INFO:tensorflow:Assets written to: model_new_projector_1/assets\n"
     ]
    },
    {
     "name": "stderr",
     "output_type": "stream",
     "text": [
      "INFO:tensorflow:Assets written to: model_new_projector_1/assets\n"
     ]
    }
   ],
   "source": [
    "MODEL_NAME = 'model_new_projector_1'\n",
    "\n",
    "if MODEL_NAME in next(os.walk('.'))[1]:\n",
    "    print('Warning: There already exists a model called \"{}\"'.format(MODEL_NAME))\n",
    "    print('Make sure you want to overwrite it before it gets saved!')\n",
    "else:\n",
    "    model.save(MODEL_NAME)"
   ]
  },
  {
   "cell_type": "code",
   "execution_count": null,
   "id": "50eda3dd-7547-44e5-944c-956b97957467",
   "metadata": {},
   "outputs": [],
   "source": [
    "\n",
    "\n"
   ]
  }
 ],
 "metadata": {
  "kernelspec": {
   "display_name": "Python 3 (ipykernel)",
   "language": "python",
   "name": "python3"
  },
  "language_info": {
   "codemirror_mode": {
    "name": "ipython",
    "version": 3
   },
   "file_extension": ".py",
   "mimetype": "text/x-python",
   "name": "python",
   "nbconvert_exporter": "python",
   "pygments_lexer": "ipython3",
   "version": "3.8.10"
  }
 },
 "nbformat": 4,
 "nbformat_minor": 5
}
