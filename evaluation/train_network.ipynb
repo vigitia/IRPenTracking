{
 "cells": [
  {
   "cell_type": "markdown",
   "id": "070e1d7c-1daa-4e07-8613-5c4e882f027c",
   "metadata": {},
   "source": [
    "# Train a new CNN "
   ]
  },
  {
   "cell_type": "markdown",
   "id": "c6405ee7-55fa-4141-9515-687bf05aab6a",
   "metadata": {},
   "source": [
    "### Imports"
   ]
  },
  {
   "cell_type": "code",
   "execution_count": 1,
   "id": "b7954a8d-7ecc-49b9-aa4e-e93ccf76d4d8",
   "metadata": {},
   "outputs": [
    {
     "name": "stderr",
     "output_type": "stream",
     "text": [
      "2022-08-19 13:36:05.209086: W tensorflow/stream_executor/platform/default/dso_loader.cc:64] Could not load dynamic library 'libcudart.so.11.0'; dlerror: libcudart.so.11.0: cannot open shared object file: No such file or directory; LD_LIBRARY_PATH: /home/vigitia/.local/lib/python3.8/site-packages/cv2/../../lib64:/opt/ros/foxy/lib/x86_64-linux-gnu:/opt/ros/foxy/lib:/home/vigitia/ros2_galactic/ros2-linux/opt/yaml_cpp_vendor/lib:/home/vigitia/ros2_galactic/ros2-linux/opt/rviz_ogre_vendor/lib:/home/vigitia/ros2_galactic/ros2-linux/lib\n",
      "2022-08-19 13:36:05.209102: I tensorflow/stream_executor/cuda/cudart_stub.cc:29] Ignore above cudart dlerror if you do not have a GPU set up on your machine.\n"
     ]
    }
   ],
   "source": [
    "from matplotlib import pyplot as plt\n",
    "from mpl_toolkits.axes_grid1 import ImageGrid\n",
    "import cv2\n",
    "import numpy as np\n",
    "import os\n",
    "from tqdm import tqdm_notebook as tqdm\n",
    "import random\n",
    "import time\n",
    "\n",
    "import tensorflow as tf\n",
    "from tensorflow.keras.utils import to_categorical\n",
    "\n",
    "from sklearn.model_selection import train_test_split\n",
    "\n",
    "from tensorflow import keras\n",
    "\n",
    "from tensorflow.python.keras.models import Sequential,Input,Model\n",
    "from tensorflow.keras.layers import Dense, Dropout, Flatten\n",
    "from tensorflow.keras.layers import Conv2D, MaxPooling2D\n",
    "\n",
    "from tensorflow.keras.layers import BatchNormalization\n",
    "from tensorflow.keras.layers import LeakyReLU\n",
    "#from tensorflow.keras.activations import linear, sigmoid, relu\n",
    "\n",
    "from tensorflow.keras.callbacks import ReduceLROnPlateau, EarlyStopping\n",
    "from tensorflow.keras.layers import Dropout, RandomFlip, RandomRotation, RandomBrightness\n",
    "\n",
    "from keras_tuner.tuners import BayesianOptimization\n",
    "\n",
    "from tensorflow.keras.optimizers import Adam"
   ]
  },
  {
   "cell_type": "code",
   "execution_count": 2,
   "id": "2336183a-3250-4c8a-b877-66b8289096a4",
   "metadata": {},
   "outputs": [
    {
     "data": {
      "text/plain": [
       "'2.9.1'"
      ]
     },
     "execution_count": 2,
     "metadata": {},
     "output_type": "execute_result"
    }
   ],
   "source": [
    "tf.__version__"
   ]
  },
  {
   "cell_type": "markdown",
   "id": "412c1840-5702-4288-817e-4132abd83774",
   "metadata": {},
   "source": [
    "### Constants"
   ]
  },
  {
   "cell_type": "code",
   "execution_count": 110,
   "id": "b47cd29b-be71-4485-a78d-ae8471aeccd1",
   "metadata": {},
   "outputs": [],
   "source": [
    "IMG_SIZE = 48\n",
    "MIN_BRIGHTNESS_PREDICTION = 50\n",
    "\n",
    "PARENT_DIRECTORY = '../out3/'\n",
    "FOLDER_NAME = '2022-08-19'"
   ]
  },
  {
   "cell_type": "markdown",
   "id": "c6b856f3-09f7-4f5f-a58f-72a72ab97dfc",
   "metadata": {},
   "source": []
  },
  {
   "cell_type": "code",
   "execution_count": 111,
   "id": "2e3372a7-a546-4f41-97a1-c0db84663012",
   "metadata": {},
   "outputs": [
    {
     "name": "stdout",
     "output_type": "stream",
     "text": [
      "All folders with \"DRAW\"  images:  ['../out3/2022-08-19/draw_1_600_18', '../out3/2022-08-19/draw_0_600_18']\n",
      "All folders with \"HOVER\" images:  ['../out3/2022-08-19/hover_far_0_600_18', '../out3/2022-08-19/hover_close_0_600_18']\n"
     ]
    }
   ],
   "source": [
    "DRAW_PATHS = []\n",
    "HOVER_PATHS = []\n",
    "\n",
    "target_folder = os.path.join(PARENT_DIRECTORY, FOLDER_NAME)\n",
    "\n",
    "subfolders = (next(os.walk(target_folder))[1])\n",
    "\n",
    "for subfolder_name in subfolders:\n",
    "    if 'draw' in subfolder_name:\n",
    "        DRAW_PATHS.append(os.path.join(PARENT_DIRECTORY, FOLDER_NAME, subfolder_name))\n",
    "    elif 'hover' in subfolder_name:\n",
    "        HOVER_PATHS.append(os.path.join(PARENT_DIRECTORY, FOLDER_NAME, subfolder_name))\n",
    "    else:\n",
    "        print('ERROR: Malformed folder name')\n",
    "        \n",
    "print('All folders with \"DRAW\"  images: ', DRAW_PATHS)\n",
    "print('All folders with \"HOVER\" images: ', HOVER_PATHS)"
   ]
  },
  {
   "cell_type": "markdown",
   "id": "5653a943-8782-4e4f-a77c-5aaff7d85223",
   "metadata": {},
   "source": [
    "### Helper functions"
   ]
  },
  {
   "cell_type": "code",
   "execution_count": 112,
   "id": "d7b53a3a-0ab6-4de6-a8f7-19b3d7d40e52",
   "metadata": {},
   "outputs": [],
   "source": [
    "def read_images_mono(path):\n",
    "    \n",
    "    files = os.listdir(path)\n",
    "    files = [file for file in files if file[-4:] == \".png\"]\n",
    "    \n",
    "    print('Read {} files from \"{}\"'.format(len(files), path))\n",
    "    \n",
    "    images = []\n",
    "    coords = []\n",
    "    \n",
    "    size = IMG_SIZE\n",
    "    \n",
    "    skip_count = 0\n",
    "    \n",
    "    for file in tqdm(files):\n",
    "        try:\n",
    "            image = cv2.imread(os.path.join(path, file), cv2.IMREAD_GRAYSCALE)\n",
    "            if image.shape == (size, size) and np.max(image) > MIN_BRIGHTNESS_PREDICTION and '681_597' not in file and '46_565' not in file:\n",
    "                \n",
    "                # Remove Background \"noise\" \n",
    "                MAX_EXPECTED_BACKGROUND_BRIGHTNESS = 10\n",
    "                image[image < MAX_EXPECTED_BACKGROUND_BRIGHTNESS] = 0\n",
    "                \n",
    "                images.append(image)\n",
    "            else:\n",
    "                # print(image.shape, np.max(image))\n",
    "                skip_count += 1\n",
    "            \n",
    "        except OSError:\n",
    "            pass\n",
    "    \n",
    "    print('Skipped:', skip_count)\n",
    "    return images, coords"
   ]
  },
  {
   "cell_type": "code",
   "execution_count": 113,
   "id": "baea41a2-5a0c-4eea-8fed-68fa7561f46e",
   "metadata": {},
   "outputs": [],
   "source": [
    "def data_augmentation(images):\n",
    "    result = []\n",
    "    for img in images:\n",
    "        result.append(img)\n",
    "        result.append(cv2.flip(img, flipCode=0))\n",
    "        for i in range(3):  # TODO: CHECK IF 4 is needed here\n",
    "            tmp = cv2.rotate(img, i)\n",
    "            for b in range(10, 11):\n",
    "                tmp2 = np.clip(tmp * (b / 10), 0, 255)\n",
    "                result.append(tmp2)\n",
    "                result.append(cv2.flip(tmp2, flipCode=0))\n",
    "    return result"
   ]
  },
  {
   "cell_type": "code",
   "execution_count": 114,
   "id": "b6eff5ed-6a0b-4c53-bfe2-fcc750555e47",
   "metadata": {},
   "outputs": [],
   "source": [
    "data_augmentation_new = tf.keras.Sequential([\n",
    "    RandomFlip(\"horizontal_and_vertical\"),\n",
    "    # RandomRotation(0.25),\n",
    "    RandomBrightness(0.1),\n",
    "])"
   ]
  },
  {
   "cell_type": "markdown",
   "id": "d6f1d6e4-e6e5-4978-8a7d-ab51d23f9d04",
   "metadata": {},
   "source": [
    "### Read in images and create additional images via Data Augmentation"
   ]
  },
  {
   "cell_type": "code",
   "execution_count": 115,
   "id": "8d22b44d-4e34-4654-8710-f8fc7c80d83e",
   "metadata": {},
   "outputs": [
    {
     "name": "stdout",
     "output_type": "stream",
     "text": [
      "Read 3000 files from \"../out3/2022-08-19/draw_1_600_18\"\n"
     ]
    },
    {
     "name": "stderr",
     "output_type": "stream",
     "text": [
      "/tmp/ipykernel_12080/1135696556.py:15: TqdmDeprecationWarning: This function will be removed in tqdm==5.0.0\n",
      "Please use `tqdm.notebook.tqdm` instead of `tqdm.tqdm_notebook`\n",
      "  for file in tqdm(files):\n"
     ]
    },
    {
     "data": {
      "application/vnd.jupyter.widget-view+json": {
       "model_id": "beaee3884c074d9dba7a588f06c6f012",
       "version_major": 2,
       "version_minor": 0
      },
      "text/plain": [
       "  0%|          | 0/3000 [00:00<?, ?it/s]"
      ]
     },
     "metadata": {},
     "output_type": "display_data"
    },
    {
     "name": "stdout",
     "output_type": "stream",
     "text": [
      "Skipped: 0\n",
      "Read 3000 files from \"../out3/2022-08-19/draw_0_600_18\"\n"
     ]
    },
    {
     "data": {
      "application/vnd.jupyter.widget-view+json": {
       "model_id": "508abe0697f0431db3fe3b05a34da734",
       "version_major": 2,
       "version_minor": 0
      },
      "text/plain": [
       "  0%|          | 0/3000 [00:00<?, ?it/s]"
      ]
     },
     "metadata": {},
     "output_type": "display_data"
    },
    {
     "name": "stdout",
     "output_type": "stream",
     "text": [
      "Skipped: 0\n",
      "Read 3000 files from \"../out3/2022-08-19/hover_far_0_600_18\"\n"
     ]
    },
    {
     "data": {
      "application/vnd.jupyter.widget-view+json": {
       "model_id": "8f454649b39341d1971e979caff4d80c",
       "version_major": 2,
       "version_minor": 0
      },
      "text/plain": [
       "  0%|          | 0/3000 [00:00<?, ?it/s]"
      ]
     },
     "metadata": {},
     "output_type": "display_data"
    },
    {
     "name": "stdout",
     "output_type": "stream",
     "text": [
      "Skipped: 0\n",
      "Read 3000 files from \"../out3/2022-08-19/hover_close_0_600_18\"\n"
     ]
    },
    {
     "data": {
      "application/vnd.jupyter.widget-view+json": {
       "model_id": "f15cc30cea56453fb10f4949c2c8066a",
       "version_major": 2,
       "version_minor": 0
      },
      "text/plain": [
       "  0%|          | 0/3000 [00:00<?, ?it/s]"
      ]
     },
     "metadata": {},
     "output_type": "display_data"
    },
    {
     "name": "stdout",
     "output_type": "stream",
     "text": [
      "Skipped: 0\n",
      "38400\n",
      "38400\n",
      "76800\n",
      "76800\n",
      "2400\n",
      "2400\n"
     ]
    }
   ],
   "source": [
    "images_draw = []\n",
    "images_hover = []\n",
    "\n",
    "for p in DRAW_PATHS:\n",
    "    images_draw += read_images_mono(p)[0]\n",
    "    \n",
    "for p in HOVER_PATHS:\n",
    "    images_hover += read_images_mono(p)[0]\n",
    "\n",
    "random.shuffle(images_draw)\n",
    "random.shuffle(images_hover)\n",
    "    \n",
    "images_draw_test = []\n",
    "images_hover_test = []\n",
    "images_draw_train = []\n",
    "images_hover_train = []\n",
    "\n",
    "for i, img in enumerate(images_draw):\n",
    "    if i % 5 == 0:\n",
    "        images_draw_test.append(img)\n",
    "    else:\n",
    "        images_draw_train.append(img)\n",
    "        \n",
    "for i, img in enumerate(images_hover):\n",
    "    if i % 5 == 0:\n",
    "        images_hover_test.append(img)\n",
    "    else:\n",
    "        images_hover_train.append(img)\n",
    "    \n",
    "images_draw_train = data_augmentation(images_draw_train)\n",
    "images_hover_train = data_augmentation(images_hover_train)\n",
    "images_train = images_draw_train + images_hover_train\n",
    "labels_train = [0] * len(images_draw_train) + [1] * len(images_hover_train)\n",
    "\n",
    "images_test = images_draw_test + images_hover_test\n",
    "labels_test = [0] * len(images_draw_test) + [1] * len(images_hover_test)\n",
    "\n",
    "print(len(images_hover_train))\n",
    "print(len(images_draw_train))\n",
    "print(len(images_train))\n",
    "print(len(labels_train))\n",
    "print(len(images_test))\n",
    "print(len(labels_test))"
   ]
  },
  {
   "cell_type": "code",
   "execution_count": 118,
   "id": "e77fda7a-ed8b-4849-9b42-9da4470a4017",
   "metadata": {},
   "outputs": [
    {
     "name": "stdout",
     "output_type": "stream",
     "text": [
      "35712 76800\n",
      "0\n",
      "[  0   0   0   0   0   0   0   0   0   0   0   0   0   0   0   0   0   0\n",
      "  11  14  28  50  97 223 255 255 194 143  94  49  24  11   0   0   0   0\n",
      "   0   0   0   0   0   0   0   0   0   0   0   0]\n"
     ]
    },
    {
     "data": {
      "image/png": "[encoded data removed]",
      "text/plain": [
       "<Figure size 432x288 with 1 Axes>"
      ]
     },
     "metadata": {
      "needs_background": "light"
     },
     "output_type": "display_data"
    }
   ],
   "source": [
    "randi = random.randint(0, len(images_train))\n",
    "image = images_train[randi]\n",
    "\n",
    "print(randi, len(images_train))\n",
    "print(labels_train[randi])\n",
    "print(images_train[randi][24])\n",
    "# plt.imshow(image, 'gray')\n",
    "\n",
    "from sklearn.cluster import KMeans\n",
    "from collections import Counter\n",
    "\n",
    "\n",
    "histogram, bin_edges = np.histogram(image, bins=256, range=(1, 255))\n",
    "#plt.figure()\n",
    "#plt.figure(figsize=(10,10))\n",
    "#plt.title(\"Grayscale Histogram\")\n",
    "#plt.xlabel(\"grayscale value\")\n",
    "#plt.ylabel(\"pixel count\")\n",
    "#plt.xlim([0, 255])\n",
    "\n",
    "fig, ax = plt.subplots()\n",
    "plt.xlim([0, 255])\n",
    "im = ax.imshow(cv2.resize(image, (255, 255), interpolation = cv2.INTER_AREA), 'gray', extent=[0, 255, 0, 255])\n",
    "\n",
    "\n",
    "plt.plot(bin_edges[0:-1], histogram)\n",
    "plt.show()"
   ]
  },
  {
   "cell_type": "code",
   "execution_count": null,
   "id": "21a4669b-55af-4fca-9822-8c4c39599f9a",
   "metadata": {},
   "outputs": [],
   "source": []
  },
  {
   "cell_type": "markdown",
   "id": "e351ceb5-ef17-4efe-9631-59048f3b1242",
   "metadata": {},
   "source": [
    "### Preview Data"
   ]
  },
  {
   "cell_type": "code",
   "execution_count": 119,
   "id": "7d396289-2493-4b57-895c-a6e5db94026a",
   "metadata": {},
   "outputs": [
    {
     "data": {
      "image/png": "[encoded data removed]",
      "text/plain": [
       "<Figure size 1152x1152 with 41 Axes>"
      ]
     },
     "metadata": {
      "needs_background": "light"
     },
     "output_type": "display_data"
    }
   ],
   "source": [
    "ROWS = 4\n",
    "COLUMS = 5\n",
    "\n",
    "\n",
    "image_list = []\n",
    "for i in range(ROWS*COLUMS):\n",
    "    \n",
    "    image = random.sample(images_draw_test, 1)[0]\n",
    "    image_list.append(image)\n",
    "    # histogram, bin_edges = np.histogram(image, bins=256, range=(1, 255))\n",
    "    # image_list.append([histogram, bin_edges, image])\n",
    "\n",
    "\n",
    "fig = plt.figure(figsize=(16, 16))\n",
    "plt.title('Examples for DRAW')\n",
    "plt.axis('off')\n",
    "grid = ImageGrid(fig, 111,  nrows_ncols=(COLUMS, ROWS), axes_pad=0.1,)\n",
    "\n",
    "for ax, im in zip(grid, image_list):\n",
    "    # Iterating over the grid returns the Axes.\n",
    "    # ax.plot(im[1][0:-1], im[0])\n",
    "    ax.imshow(im, 'gray')\n",
    "    \n",
    "    "
   ]
  },
  {
   "cell_type": "code",
   "execution_count": 121,
   "id": "28e212d3-f887-45aa-9b2e-5125810b4863",
   "metadata": {
    "tags": []
   },
   "outputs": [
    {
     "data": {
      "image/png": "[encoded data removed]",
      "text/plain": [
       "<Figure size 1152x1152 with 41 Axes>"
      ]
     },
     "metadata": {
      "needs_background": "light"
     },
     "output_type": "display_data"
    }
   ],
   "source": [
    "ROWS = 4\n",
    "COLUMS = 5\n",
    "\n",
    "\n",
    "image_list = []\n",
    "for i in range(ROWS*COLUMS):\n",
    "    image_list.append(random.sample(images_hover_test, 1)[0])\n",
    "\n",
    "\n",
    "fig = plt.figure(figsize=(16, 16))\n",
    "plt.title('Examples for HOVER')\n",
    "plt.axis('off')\n",
    "grid = ImageGrid(fig, 111,  # similar to subplot(111)\n",
    "                 nrows_ncols=(COLUMS, ROWS),  # creates 2x2 grid of axes\n",
    "                 axes_pad=0.1,  # pad between axes in inch.\n",
    "                 )\n",
    "\n",
    "for ax, im in zip(grid, image_list):\n",
    "    # Iterating over the grid returns the Axes.\n",
    "    ax.imshow(im, 'gray')"
   ]
  },
  {
   "cell_type": "markdown",
   "id": "e24a01b2-e427-4f02-bb41-aea5f9d8fd82",
   "metadata": {},
   "source": [
    "### Prepare Training and Validation Data"
   ]
  },
  {
   "cell_type": "code",
   "execution_count": 122,
   "id": "b84e842d-cbbe-4449-b373-2be622e8a609",
   "metadata": {},
   "outputs": [
    {
     "name": "stdout",
     "output_type": "stream",
     "text": [
      "Training data shape :  (76800, 48, 48) (76800,)\n",
      "(76800, 48, 48, 1) (2400, 48, 48, 1) (76800, 2) (2400, 2)\n",
      "{0.0: 2400, 1.0: 2400}\n",
      "{0.0: 76800, 1.0: 76800}\n"
     ]
    }
   ],
   "source": [
    "train_X = np.array(images_train)\n",
    "train_Y = np.array(labels_train)\n",
    "test_X = np.array(images_test)\n",
    "test_Y = np.array(labels_test)\n",
    "\n",
    "print('Training data shape : ', train_X.shape, train_Y.shape)\n",
    "\n",
    "train_X = train_X.astype('float32')\n",
    "train_X = train_X / 255.\n",
    "\n",
    "test_X = test_X.astype('float32')\n",
    "test_X = test_X / 255.\n",
    "\n",
    "train_Y_one_hot = to_categorical(train_Y)\n",
    "test_Y_one_hot = to_categorical(test_Y)\n",
    "\n",
    "train_label = train_Y_one_hot\n",
    "\n",
    "valid_X = test_X\n",
    "valid_label = test_Y_one_hot\n",
    "\n",
    "#train_X, _, train_label, _ = train_test_split(train_X, train_Y_one_hot, test_size=0.0, random_state=13)\n",
    "#valid_X, _, train_label, _ = train_test_split(test_X, test_Y_one_hot, test_size=1.0, random_state=13)\n",
    "\n",
    "train_X = train_X.reshape(-1, IMG_SIZE, IMG_SIZE, 1)\n",
    "valid_X = test_X.reshape(-1, IMG_SIZE, IMG_SIZE, 1)\n",
    "\n",
    "print(train_X.shape, valid_X.shape, train_label.shape, valid_label.shape)\n",
    "\n",
    "unique, counts = np.unique(valid_label, return_counts=True)\n",
    "print(dict(zip(unique, counts)))\n",
    "\n",
    "unique, counts = np.unique(train_label, return_counts=True)\n",
    "\n",
    "print(dict(zip(unique, counts)))"
   ]
  },
  {
   "cell_type": "code",
   "execution_count": 123,
   "id": "8bb2beaf-b15f-4e8b-ac3c-b13264e75648",
   "metadata": {},
   "outputs": [
    {
     "data": {
      "text/plain": [
       "[1200, 1200]"
      ]
     },
     "execution_count": 123,
     "metadata": {},
     "output_type": "execute_result"
    }
   ],
   "source": [
    "l = [0, 0]\n",
    "for i in valid_label:\n",
    "    #print(i)\n",
    "    l[int(np.argmax(i))] += 1\n",
    "l"
   ]
  },
  {
   "cell_type": "markdown",
   "id": "1c234d22-6d3e-42d1-b104-e1263c4e4403",
   "metadata": {},
   "source": [
    "### Start Training"
   ]
  },
  {
   "cell_type": "code",
   "execution_count": 124,
   "id": "f8df7e76-e982-4d5f-a42f-e64d0a172337",
   "metadata": {},
   "outputs": [],
   "source": [
    "#Settings\n",
    "\n",
    "# batch 64\n",
    "# epoch 1\n",
    "# conv linear\n",
    "\n",
    "batch_size = 128\n",
    "epochs = 2\n",
    "num_classes = 2\n",
    "activation = 'relu'\n",
    "activation_conv = 'linear' #LeakyReLU\n",
    "layer_count = 5\n",
    "num_neurons = 128\n",
    "\n",
    "#for epochs in range(1, 7):\n",
    "    #print(f'+++++ EPOCHS: {epochs} +++++')\n",
    "#Define model structure\n",
    "model = Sequential()\n",
    "\n",
    "#model.add(data_augmentation_new)\n",
    "model.add(Conv2D(64, kernel_size=(3, 1),activation=activation_conv,input_shape=(IMG_SIZE,IMG_SIZE,1),padding='same'))\n",
    "model.add(Conv2D(64, (1, 3), activation=activation_conv,padding='same'))\n",
    "model.add(MaxPooling2D(pool_size=(2, 2),padding='same'))\n",
    "\n",
    "model.add(Conv2D(32, (3, 1), activation=activation_conv,padding='same'))\n",
    "model.add(Conv2D(32, (1, 3), activation=activation_conv,padding='same'))\n",
    "model.add(MaxPooling2D(pool_size=(2, 2),padding='same'))\n",
    "# model.add(Dropout(0.2))\n",
    "model.add(Conv2D(32, (3, 3), activation=activation_conv,padding='same'))\n",
    "model.add(MaxPooling2D(pool_size=(2, 2),padding='same'))\n",
    "model.add(Dropout(0.2))\n",
    "#model.add(Conv2D(128, (3, 3), activation='linear',padding='same'))                 \n",
    "#model.add(MaxPooling2D(pool_size=(2, 2),padding='same'))\n",
    "model.add(Flatten())\n",
    "\n",
    "# trial and error: linear performs much better than ReLU and sigmoid\n",
    "for i in range(layer_count-1):\n",
    "    model.add(Dense(num_neurons, activation=activation))\n",
    "model.add(Dropout(0.2))\n",
    "\n",
    "model.add(Dense(num_neurons, activation=activation))\n",
    "#model.add(Dense(64, activation=activation))\n",
    "#model.add(Dense(64, activation=activation))\n",
    "#model.add(Dense(128, activation='linear'))\n",
    "#model.add(Dense(128, activation='linear'))\n",
    "\n",
    "# classifier\n",
    "model.add(Dense(num_classes, activation='softmax'))\n",
    "\n",
    "model.compile(loss=tf.keras.metrics.categorical_crossentropy, optimizer=\"adam\", metrics=['accuracy'])\n",
    "\n",
    "reduce_lr = ReduceLROnPlateau(monitor='val_loss', factor=0.2, patience=1, min_lr=0.0001)"
   ]
  },
  {
   "cell_type": "code",
   "execution_count": 131,
   "id": "a2b1f1dc-cfaf-46cc-93f1-a956aabd5f46",
   "metadata": {},
   "outputs": [
    {
     "name": "stdout",
     "output_type": "stream",
     "text": [
      "Epoch 1/6\n",
      "600/600 [==============================] - 105s 174ms/step - loss: 0.0481 - accuracy: 0.9833 - val_loss: 0.0370 - val_accuracy: 0.9879\n",
      "Epoch 2/6\n",
      "600/600 [==============================] - 104s 174ms/step - loss: 0.0403 - accuracy: 0.9857 - val_loss: 0.0289 - val_accuracy: 0.9887\n",
      "Epoch 3/6\n",
      "600/600 [==============================] - 104s 174ms/step - loss: 0.0319 - accuracy: 0.9887 - val_loss: 0.0209 - val_accuracy: 0.9942\n",
      "Epoch 4/6\n",
      "600/600 [==============================] - 106s 176ms/step - loss: 0.0275 - accuracy: 0.9899 - val_loss: 0.0244 - val_accuracy: 0.9933\n",
      "Epoch 5/6\n",
      "600/600 [==============================] - 106s 176ms/step - loss: 0.0141 - accuracy: 0.9949 - val_loss: 0.0173 - val_accuracy: 0.9954\n",
      "Epoch 6/6\n",
      "600/600 [==============================] - 106s 176ms/step - loss: 0.0124 - accuracy: 0.9957 - val_loss: 0.0139 - val_accuracy: 0.9950\n"
     ]
    }
   ],
   "source": [
    "history = model.fit(\n",
    "    train_X, \n",
    "    train_label, \n",
    "    batch_size=batch_size,\n",
    "    epochs=epochs,\n",
    "    verbose=1,\n",
    "    validation_data=(valid_X, valid_label),\n",
    "    callbacks=[reduce_lr]\n",
    ")"
   ]
  },
  {
   "cell_type": "code",
   "execution_count": 126,
   "id": "0d95f458-a0d6-4ea8-8692-ebf85160d214",
   "metadata": {},
   "outputs": [
    {
     "name": "stdout",
     "output_type": "stream",
     "text": [
      "[0.1824275702238083, 0.09828803688287735]\n",
      "[0.0979718565940857, 0.06352153420448303]\n",
      "[0.92305988073349, 0.9643098711967468]\n",
      "[0.9612500071525574, 0.9750000238418579]\n"
     ]
    }
   ],
   "source": [
    "# TODO: Create a plot from these values\n",
    "loss = print(history.history['loss'])\n",
    "val_loss = print(history.history['val_loss'])\n",
    "accuracy = print(history.history['accuracy'])\n",
    "val_accuracy = print(history.history['val_accuracy'])"
   ]
  },
  {
   "cell_type": "markdown",
   "id": "73342193-c818-4662-843d-5f8fb883dfb7",
   "metadata": {},
   "source": [
    "### Save the Model"
   ]
  },
  {
   "cell_type": "code",
   "execution_count": 133,
   "id": "d80e89c4-8946-4e62-a658-89ad69887c0b",
   "metadata": {},
   "outputs": [
    {
     "name": "stderr",
     "output_type": "stream",
     "text": [
      "WARNING:absl:Found untraced functions such as conv2d_layer_call_fn, conv2d_layer_call_and_return_conditional_losses, _jit_compiled_convolution_op, conv2d_1_layer_call_fn, conv2d_1_layer_call_and_return_conditional_losses while saving (showing 5 of 33). These functions will not be directly callable after loading.\n"
     ]
    },
    {
     "name": "stdout",
     "output_type": "stream",
     "text": [
      "INFO:tensorflow:Assets written to: model_new_projector_15/assets\n"
     ]
    },
    {
     "name": "stderr",
     "output_type": "stream",
     "text": [
      "INFO:tensorflow:Assets written to: model_new_projector_15/assets\n"
     ]
    }
   ],
   "source": [
    "MODEL_NAME = 'model_new_projector_15'\n",
    "\n",
    "if MODEL_NAME in next(os.walk('.'))[1]:\n",
    "    print('Warning: There already exists a model called \"{}\"'.format(MODEL_NAME))\n",
    "    print('Make sure you want to overwrite it before it gets saved!')\n",
    "else:\n",
    "    model.save(MODEL_NAME)"
   ]
  },
  {
   "cell_type": "code",
   "execution_count": 15,
   "id": "d4ee4ba2-0836-4714-acc9-83079d8bba09",
   "metadata": {},
   "outputs": [
    {
     "name": "stdout",
     "output_type": "stream",
     "text": [
      "Model: \"sequential\"\n",
      "_________________________________________________________________\n",
      "Layer (type)                 Output Shape              Param #   \n",
      "=================================================================\n",
      "module_wrapper (ModuleWrappe (None, 48, 48, 64)        256       \n",
      "_________________________________________________________________\n",
      "module_wrapper_1 (ModuleWrap (None, 48, 48, 64)        12352     \n",
      "_________________________________________________________________\n",
      "module_wrapper_2 (ModuleWrap (None, 24, 24, 64)        0         \n",
      "_________________________________________________________________\n",
      "module_wrapper_3 (ModuleWrap (None, 24, 24, 32)        6176      \n",
      "_________________________________________________________________\n",
      "module_wrapper_4 (ModuleWrap (None, 24, 24, 32)        3104      \n",
      "_________________________________________________________________\n",
      "module_wrapper_5 (ModuleWrap (None, 12, 12, 32)        0         \n",
      "_________________________________________________________________\n",
      "module_wrapper_6 (ModuleWrap (None, 12, 12, 32)        9248      \n",
      "_________________________________________________________________\n",
      "module_wrapper_7 (ModuleWrap (None, 6, 6, 32)          0         \n",
      "_________________________________________________________________\n",
      "module_wrapper_8 (ModuleWrap (None, 6, 6, 32)          0         \n",
      "_________________________________________________________________\n",
      "module_wrapper_9 (ModuleWrap (None, 1152)              0         \n",
      "_________________________________________________________________\n",
      "module_wrapper_10 (ModuleWra (None, 128)               147584    \n",
      "_________________________________________________________________\n",
      "module_wrapper_11 (ModuleWra (None, 128)               16512     \n",
      "_________________________________________________________________\n",
      "module_wrapper_12 (ModuleWra (None, 128)               16512     \n",
      "_________________________________________________________________\n",
      "module_wrapper_13 (ModuleWra (None, 128)               16512     \n",
      "_________________________________________________________________\n",
      "module_wrapper_14 (ModuleWra (None, 128)               0         \n",
      "_________________________________________________________________\n",
      "module_wrapper_15 (ModuleWra (None, 128)               16512     \n",
      "_________________________________________________________________\n",
      "module_wrapper_16 (ModuleWra (None, 2)                 258       \n",
      "=================================================================\n",
      "Total params: 245,026\n",
      "Trainable params: 245,026\n",
      "Non-trainable params: 0\n",
      "_________________________________________________________________\n"
     ]
    }
   ],
   "source": [
    "model.summary()"
   ]
  },
  {
   "cell_type": "markdown",
   "id": "83f4285d-41ad-408c-a6be-907dcb8d9b3a",
   "metadata": {},
   "source": [
    "# Hyperparameter Optimization"
   ]
  },
  {
   "cell_type": "code",
   "execution_count": 10,
   "id": "623acf7a-c149-44fa-8325-b2c908f0e546",
   "metadata": {},
   "outputs": [],
   "source": [
    "def build_model(hp):\n",
    "    dense_layer_count = hp.Int('dense_layer_count', min_value=1, max_value=5, step=1)\n",
    "    dense_layer_neurons = hp.Int('dense_layer_neurons', min_value=32, max_value=128, step=32)\n",
    "    dense_layer_activation = hp.Choice('dense_layer_activation', values=['linear', 'sigmoid', 'relu'])\n",
    "    conv_layer_count = hp.Int('conv_layer_count', min_value=1, max_value=5, step=1)\n",
    "    conv_layer_activation = hp.Choice('conv_layer_activation', values=['linear', 'sigmoid', 'relu'])\n",
    "    conv_kernel_split = hp.Choice('conv_kernel_split', values=[True, False])\n",
    "    conv_kernel_size = hp.Int('conv_kernel_size', min_value=3, max_value=7, step=2)\n",
    "    conv_kernel_stride = hp.Choice('conv_stride', values=[1, 2, 3, 4, 5])\n",
    "    conv_kernel_count = hp.Int('conv_kernel_count', min_value=16, max_value=64, step=16)\n",
    "    #learning_rate = hp.Choice('learning_rate', values=[1e-2, 1e-3, 1e-4])\n",
    "    optimizer = hp.Choice('optimizer', values=['Adam', 'Adamax', 'Nadam'])\n",
    "    conv_dropout = hp.Choice('conv_dropout', values=[True, False])\n",
    "    dense_dropout = hp.Choice('dense_dropout', values=[True, False])\n",
    "\n",
    "    #for epochs in range(1, 7):\n",
    "        #print(f'+++++ EPOCHS: {epochs} +++++')\n",
    "    #Define model structure\n",
    "    model = tf.keras.models.Sequential()\n",
    "\n",
    "    stride = (conv_kernel_stride, conv_kernel_stride)\n",
    "    \n",
    "    #model.add(data_augmentation_new)\n",
    "    if conv_kernel_split:\n",
    "        model.add(Conv2D(conv_kernel_count, kernel_size=(conv_kernel_size, 1), activation=conv_layer_activation, input_shape=(IMG_SIZE,IMG_SIZE,1), padding='same', strides=stride))\n",
    "        model.add(Conv2D(conv_kernel_count, (1, conv_kernel_size), activation=conv_layer_activation, padding='same', strides=stride))\n",
    "    else:\n",
    "        model.add(Conv2D(conv_kernel_count, kernel_size=(conv_kernel_size, conv_kernel_size), activation=conv_layer_activation, input_shape=(IMG_SIZE,IMG_SIZE,1), padding='same', strides=stride))\n",
    "    \n",
    "    model.add(MaxPooling2D(pool_size=(2, 2),padding='same'))\n",
    "    \n",
    "    for i in range(0, conv_layer_count - 1):\n",
    "        if conv_kernel_split:\n",
    "            model.add(Conv2D(conv_kernel_count, kernel_size=(conv_kernel_size, 1), activation=conv_layer_activation, padding='same', strides=stride))\n",
    "            model.add(Conv2D(conv_kernel_count, (1, conv_kernel_size), activation=conv_layer_activation, padding='same', strides=stride))\n",
    "        else:\n",
    "            model.add(Conv2D(conv_kernel_count, kernel_size=(conv_kernel_size, conv_kernel_size), activation=conv_layer_activation, padding='same', strides=stride))\n",
    "        model.add(MaxPooling2D(pool_size=(2, 2),padding='same'))\n",
    "    \n",
    "    if conv_dropout:\n",
    "        model.add(Dropout(0.2))\n",
    "    \n",
    "    model.add(Flatten())\n",
    "    \n",
    "    # trial and error: linear performs much better than ReLU and sigmoid\n",
    "    for i in range(dense_layer_count):\n",
    "        if i == dense_layer_count - 1 and dense_layer_count > 1:\n",
    "            if dense_dropout:\n",
    "                model.add(Dropout(0.2))\n",
    "        model.add(Dense(dense_layer_neurons, activation=dense_layer_activation))\n",
    "\n",
    "    # classifier\n",
    "    model.add(Dense(2, activation='softmax'))\n",
    "    \n",
    "    #optimizer = tf.keras.optimizers.Adam(learning_rate = learning_rate, beta_1 = 0.9, beta_2 = 0.999, amsgrad = False)\n",
    "    #optimizer = keras.optimizers.Adamax(learning_rate = 0.002, beta_1 = 0.9, beta_2 = 0.999)\n",
    "\n",
    "    model.compile(loss=tf.keras.metrics.categorical_crossentropy, optimizer=optimizer, metrics=['accuracy'])\n",
    "\n",
    "    return model"
   ]
  },
  {
   "cell_type": "code",
   "execution_count": 24,
   "id": "522ad082-7731-4f63-ac7d-b8eaa16e3763",
   "metadata": {},
   "outputs": [
    {
     "name": "stdout",
     "output_type": "stream",
     "text": [
      "Trial 24 Complete [00h 29m 26s]\n",
      "val_accuracy: 0.9942891001701355\n",
      "\n",
      "Best val_accuracy So Far: 0.9954706430435181\n",
      "Total elapsed time: 12h 37m 35s\n",
      "\n",
      "Search: Running Trial #25\n",
      "\n",
      "Value             |Best Value So Far |Hyperparameter\n",
      "1                 |1                 |dense_layer_count\n",
      "96                |96                |dense_layer_neurons\n",
      "linear            |linear            |dense_layer_activation\n",
      "5                 |5                 |conv_layer_count\n",
      "linear            |linear            |conv_layer_activation\n",
      "1                 |0                 |conv_kernel_split\n",
      "7                 |7                 |conv_kernel_size\n",
      "1                 |2                 |conv_stride\n",
      "64                |64                |conv_kernel_count\n",
      "Adam              |Adamax            |optimizer\n",
      "0                 |0                 |conv_dropout\n",
      "0                 |0                 |dense_dropout\n",
      "\n",
      "Epoch 1/15\n",
      " 595/2857 [=====>........................] - ETA: 15:53 - loss: 0.2269 - accuracy: 0.9105"
     ]
    },
    {
     "ename": "KeyboardInterrupt",
     "evalue": "",
     "output_type": "error",
     "traceback": [
      "\u001b[0;31m---------------------------------------------------------------------------\u001b[0m",
      "\u001b[0;31mKeyboardInterrupt\u001b[0m                         Traceback (most recent call last)",
      "Input \u001b[0;32mIn [24]\u001b[0m, in \u001b[0;36m<cell line: 10>\u001b[0;34m()\u001b[0m\n\u001b[1;32m      2\u001b[0m stop_early \u001b[38;5;241m=\u001b[39m EarlyStopping(monitor\u001b[38;5;241m=\u001b[39m\u001b[38;5;124m'\u001b[39m\u001b[38;5;124mval_loss\u001b[39m\u001b[38;5;124m'\u001b[39m, patience\u001b[38;5;241m=\u001b[39m\u001b[38;5;241m1\u001b[39m)\n\u001b[1;32m      4\u001b[0m tuner \u001b[38;5;241m=\u001b[39m BayesianOptimization(\n\u001b[1;32m      5\u001b[0m     hypermodel\u001b[38;5;241m=\u001b[39mbuild_model,\n\u001b[1;32m      6\u001b[0m     objective\u001b[38;5;241m=\u001b[39m\u001b[38;5;124m'\u001b[39m\u001b[38;5;124mval_accuracy\u001b[39m\u001b[38;5;124m'\u001b[39m,\n\u001b[1;32m      7\u001b[0m     max_trials\u001b[38;5;241m=\u001b[39m\u001b[38;5;241m30\u001b[39m\n\u001b[1;32m      8\u001b[0m )\n\u001b[0;32m---> 10\u001b[0m history \u001b[38;5;241m=\u001b[39m \u001b[43mtuner\u001b[49m\u001b[38;5;241;43m.\u001b[39;49m\u001b[43msearch\u001b[49m\u001b[43m(\u001b[49m\u001b[43mtrain_X\u001b[49m\u001b[43m,\u001b[49m\u001b[43m \u001b[49m\u001b[43mtrain_label\u001b[49m\u001b[43m,\u001b[49m\u001b[43m \u001b[49m\u001b[43mbatch_size\u001b[49m\u001b[38;5;241;43m=\u001b[39;49m\u001b[38;5;241;43m128\u001b[39;49m\u001b[43m,\u001b[49m\u001b[43m \u001b[49m\u001b[43mepochs\u001b[49m\u001b[38;5;241;43m=\u001b[39;49m\u001b[38;5;241;43m15\u001b[39;49m\u001b[43m,\u001b[49m\u001b[43m \u001b[49m\u001b[43mvalidation_data\u001b[49m\u001b[38;5;241;43m=\u001b[39;49m\u001b[43m(\u001b[49m\u001b[43mvalid_X\u001b[49m\u001b[43m,\u001b[49m\u001b[43m \u001b[49m\u001b[43mvalid_label\u001b[49m\u001b[43m)\u001b[49m\u001b[43m,\u001b[49m\u001b[43m \u001b[49m\u001b[43mcallbacks\u001b[49m\u001b[38;5;241;43m=\u001b[39;49m\u001b[43m[\u001b[49m\u001b[43mreduce_lr\u001b[49m\u001b[43m,\u001b[49m\u001b[43m \u001b[49m\u001b[43mstop_early\u001b[49m\u001b[43m]\u001b[49m\u001b[43m)\u001b[49m\n",
      "File \u001b[0;32m~/.local/lib/python3.8/site-packages/keras_tuner/engine/base_tuner.py:183\u001b[0m, in \u001b[0;36mBaseTuner.search\u001b[0;34m(self, *fit_args, **fit_kwargs)\u001b[0m\n\u001b[1;32m    180\u001b[0m     \u001b[38;5;28;01mcontinue\u001b[39;00m\n\u001b[1;32m    182\u001b[0m \u001b[38;5;28mself\u001b[39m\u001b[38;5;241m.\u001b[39mon_trial_begin(trial)\n\u001b[0;32m--> 183\u001b[0m results \u001b[38;5;241m=\u001b[39m \u001b[38;5;28;43mself\u001b[39;49m\u001b[38;5;241;43m.\u001b[39;49m\u001b[43mrun_trial\u001b[49m\u001b[43m(\u001b[49m\u001b[43mtrial\u001b[49m\u001b[43m,\u001b[49m\u001b[43m \u001b[49m\u001b[38;5;241;43m*\u001b[39;49m\u001b[43mfit_args\u001b[49m\u001b[43m,\u001b[49m\u001b[43m \u001b[49m\u001b[38;5;241;43m*\u001b[39;49m\u001b[38;5;241;43m*\u001b[39;49m\u001b[43mfit_kwargs\u001b[49m\u001b[43m)\u001b[49m\n\u001b[1;32m    184\u001b[0m \u001b[38;5;66;03m# `results` is None indicates user updated oracle in `run_trial()`.\u001b[39;00m\n\u001b[1;32m    185\u001b[0m \u001b[38;5;28;01mif\u001b[39;00m results \u001b[38;5;129;01mis\u001b[39;00m \u001b[38;5;28;01mNone\u001b[39;00m:\n",
      "File \u001b[0;32m~/.local/lib/python3.8/site-packages/keras_tuner/engine/tuner.py:295\u001b[0m, in \u001b[0;36mTuner.run_trial\u001b[0;34m(self, trial, *args, **kwargs)\u001b[0m\n\u001b[1;32m    293\u001b[0m     callbacks\u001b[38;5;241m.\u001b[39mappend(model_checkpoint)\n\u001b[1;32m    294\u001b[0m     copied_kwargs[\u001b[38;5;124m\"\u001b[39m\u001b[38;5;124mcallbacks\u001b[39m\u001b[38;5;124m\"\u001b[39m] \u001b[38;5;241m=\u001b[39m callbacks\n\u001b[0;32m--> 295\u001b[0m     obj_value \u001b[38;5;241m=\u001b[39m \u001b[38;5;28;43mself\u001b[39;49m\u001b[38;5;241;43m.\u001b[39;49m\u001b[43m_build_and_fit_model\u001b[49m\u001b[43m(\u001b[49m\u001b[43mtrial\u001b[49m\u001b[43m,\u001b[49m\u001b[43m \u001b[49m\u001b[38;5;241;43m*\u001b[39;49m\u001b[43margs\u001b[49m\u001b[43m,\u001b[49m\u001b[43m \u001b[49m\u001b[38;5;241;43m*\u001b[39;49m\u001b[38;5;241;43m*\u001b[39;49m\u001b[43mcopied_kwargs\u001b[49m\u001b[43m)\u001b[49m\n\u001b[1;32m    297\u001b[0m     histories\u001b[38;5;241m.\u001b[39mappend(obj_value)\n\u001b[1;32m    298\u001b[0m \u001b[38;5;28;01mreturn\u001b[39;00m histories\n",
      "File \u001b[0;32m~/.local/lib/python3.8/site-packages/keras_tuner/engine/tuner.py:222\u001b[0m, in \u001b[0;36mTuner._build_and_fit_model\u001b[0;34m(self, trial, *args, **kwargs)\u001b[0m\n\u001b[1;32m    220\u001b[0m hp \u001b[38;5;241m=\u001b[39m trial\u001b[38;5;241m.\u001b[39mhyperparameters\n\u001b[1;32m    221\u001b[0m model \u001b[38;5;241m=\u001b[39m \u001b[38;5;28mself\u001b[39m\u001b[38;5;241m.\u001b[39m_try_build(hp)\n\u001b[0;32m--> 222\u001b[0m results \u001b[38;5;241m=\u001b[39m \u001b[38;5;28;43mself\u001b[39;49m\u001b[38;5;241;43m.\u001b[39;49m\u001b[43mhypermodel\u001b[49m\u001b[38;5;241;43m.\u001b[39;49m\u001b[43mfit\u001b[49m\u001b[43m(\u001b[49m\u001b[43mhp\u001b[49m\u001b[43m,\u001b[49m\u001b[43m \u001b[49m\u001b[43mmodel\u001b[49m\u001b[43m,\u001b[49m\u001b[43m \u001b[49m\u001b[38;5;241;43m*\u001b[39;49m\u001b[43margs\u001b[49m\u001b[43m,\u001b[49m\u001b[43m \u001b[49m\u001b[38;5;241;43m*\u001b[39;49m\u001b[38;5;241;43m*\u001b[39;49m\u001b[43mkwargs\u001b[49m\u001b[43m)\u001b[49m\n\u001b[1;32m    223\u001b[0m tuner_utils\u001b[38;5;241m.\u001b[39mvalidate_trial_results(\n\u001b[1;32m    224\u001b[0m     results, \u001b[38;5;28mself\u001b[39m\u001b[38;5;241m.\u001b[39moracle\u001b[38;5;241m.\u001b[39mobjective, \u001b[38;5;124m\"\u001b[39m\u001b[38;5;124mHyperModel.fit()\u001b[39m\u001b[38;5;124m\"\u001b[39m\n\u001b[1;32m    225\u001b[0m )\n\u001b[1;32m    226\u001b[0m \u001b[38;5;28;01mreturn\u001b[39;00m results\n",
      "File \u001b[0;32m~/.local/lib/python3.8/site-packages/keras_tuner/engine/hypermodel.py:140\u001b[0m, in \u001b[0;36mHyperModel.fit\u001b[0;34m(self, hp, model, *args, **kwargs)\u001b[0m\n\u001b[1;32m    116\u001b[0m \u001b[38;5;28;01mdef\u001b[39;00m \u001b[38;5;21mfit\u001b[39m(\u001b[38;5;28mself\u001b[39m, hp, model, \u001b[38;5;241m*\u001b[39margs, \u001b[38;5;241m*\u001b[39m\u001b[38;5;241m*\u001b[39mkwargs):\n\u001b[1;32m    117\u001b[0m     \u001b[38;5;124;03m\"\"\"Train the model.\u001b[39;00m\n\u001b[1;32m    118\u001b[0m \n\u001b[1;32m    119\u001b[0m \u001b[38;5;124;03m    Args:\u001b[39;00m\n\u001b[0;32m   (...)\u001b[0m\n\u001b[1;32m    138\u001b[0m \u001b[38;5;124;03m        If return a float, it should be the `objective` value.\u001b[39;00m\n\u001b[1;32m    139\u001b[0m \u001b[38;5;124;03m    \"\"\"\u001b[39;00m\n\u001b[0;32m--> 140\u001b[0m     \u001b[38;5;28;01mreturn\u001b[39;00m \u001b[43mmodel\u001b[49m\u001b[38;5;241;43m.\u001b[39;49m\u001b[43mfit\u001b[49m\u001b[43m(\u001b[49m\u001b[38;5;241;43m*\u001b[39;49m\u001b[43margs\u001b[49m\u001b[43m,\u001b[49m\u001b[43m \u001b[49m\u001b[38;5;241;43m*\u001b[39;49m\u001b[38;5;241;43m*\u001b[39;49m\u001b[43mkwargs\u001b[49m\u001b[43m)\u001b[49m\n",
      "File \u001b[0;32m~/.local/lib/python3.8/site-packages/keras/utils/traceback_utils.py:64\u001b[0m, in \u001b[0;36mfilter_traceback.<locals>.error_handler\u001b[0;34m(*args, **kwargs)\u001b[0m\n\u001b[1;32m     62\u001b[0m filtered_tb \u001b[38;5;241m=\u001b[39m \u001b[38;5;28;01mNone\u001b[39;00m\n\u001b[1;32m     63\u001b[0m \u001b[38;5;28;01mtry\u001b[39;00m:\n\u001b[0;32m---> 64\u001b[0m   \u001b[38;5;28;01mreturn\u001b[39;00m \u001b[43mfn\u001b[49m\u001b[43m(\u001b[49m\u001b[38;5;241;43m*\u001b[39;49m\u001b[43margs\u001b[49m\u001b[43m,\u001b[49m\u001b[43m \u001b[49m\u001b[38;5;241;43m*\u001b[39;49m\u001b[38;5;241;43m*\u001b[39;49m\u001b[43mkwargs\u001b[49m\u001b[43m)\u001b[49m\n\u001b[1;32m     65\u001b[0m \u001b[38;5;28;01mexcept\u001b[39;00m \u001b[38;5;167;01mException\u001b[39;00m \u001b[38;5;28;01mas\u001b[39;00m e:  \u001b[38;5;66;03m# pylint: disable=broad-except\u001b[39;00m\n\u001b[1;32m     66\u001b[0m   filtered_tb \u001b[38;5;241m=\u001b[39m _process_traceback_frames(e\u001b[38;5;241m.\u001b[39m__traceback__)\n",
      "File \u001b[0;32m~/.local/lib/python3.8/site-packages/keras/engine/training.py:1409\u001b[0m, in \u001b[0;36mModel.fit\u001b[0;34m(self, x, y, batch_size, epochs, verbose, callbacks, validation_split, validation_data, shuffle, class_weight, sample_weight, initial_epoch, steps_per_epoch, validation_steps, validation_batch_size, validation_freq, max_queue_size, workers, use_multiprocessing)\u001b[0m\n\u001b[1;32m   1402\u001b[0m \u001b[38;5;28;01mwith\u001b[39;00m tf\u001b[38;5;241m.\u001b[39mprofiler\u001b[38;5;241m.\u001b[39mexperimental\u001b[38;5;241m.\u001b[39mTrace(\n\u001b[1;32m   1403\u001b[0m     \u001b[38;5;124m'\u001b[39m\u001b[38;5;124mtrain\u001b[39m\u001b[38;5;124m'\u001b[39m,\n\u001b[1;32m   1404\u001b[0m     epoch_num\u001b[38;5;241m=\u001b[39mepoch,\n\u001b[1;32m   1405\u001b[0m     step_num\u001b[38;5;241m=\u001b[39mstep,\n\u001b[1;32m   1406\u001b[0m     batch_size\u001b[38;5;241m=\u001b[39mbatch_size,\n\u001b[1;32m   1407\u001b[0m     _r\u001b[38;5;241m=\u001b[39m\u001b[38;5;241m1\u001b[39m):\n\u001b[1;32m   1408\u001b[0m   callbacks\u001b[38;5;241m.\u001b[39mon_train_batch_begin(step)\n\u001b[0;32m-> 1409\u001b[0m   tmp_logs \u001b[38;5;241m=\u001b[39m \u001b[38;5;28;43mself\u001b[39;49m\u001b[38;5;241;43m.\u001b[39;49m\u001b[43mtrain_function\u001b[49m\u001b[43m(\u001b[49m\u001b[43miterator\u001b[49m\u001b[43m)\u001b[49m\n\u001b[1;32m   1410\u001b[0m   \u001b[38;5;28;01mif\u001b[39;00m data_handler\u001b[38;5;241m.\u001b[39mshould_sync:\n\u001b[1;32m   1411\u001b[0m     context\u001b[38;5;241m.\u001b[39masync_wait()\n",
      "File \u001b[0;32m~/.local/lib/python3.8/site-packages/tensorflow/python/util/traceback_utils.py:150\u001b[0m, in \u001b[0;36mfilter_traceback.<locals>.error_handler\u001b[0;34m(*args, **kwargs)\u001b[0m\n\u001b[1;32m    148\u001b[0m filtered_tb \u001b[38;5;241m=\u001b[39m \u001b[38;5;28;01mNone\u001b[39;00m\n\u001b[1;32m    149\u001b[0m \u001b[38;5;28;01mtry\u001b[39;00m:\n\u001b[0;32m--> 150\u001b[0m   \u001b[38;5;28;01mreturn\u001b[39;00m \u001b[43mfn\u001b[49m\u001b[43m(\u001b[49m\u001b[38;5;241;43m*\u001b[39;49m\u001b[43margs\u001b[49m\u001b[43m,\u001b[49m\u001b[43m \u001b[49m\u001b[38;5;241;43m*\u001b[39;49m\u001b[38;5;241;43m*\u001b[39;49m\u001b[43mkwargs\u001b[49m\u001b[43m)\u001b[49m\n\u001b[1;32m    151\u001b[0m \u001b[38;5;28;01mexcept\u001b[39;00m \u001b[38;5;167;01mException\u001b[39;00m \u001b[38;5;28;01mas\u001b[39;00m e:\n\u001b[1;32m    152\u001b[0m   filtered_tb \u001b[38;5;241m=\u001b[39m _process_traceback_frames(e\u001b[38;5;241m.\u001b[39m__traceback__)\n",
      "File \u001b[0;32m~/.local/lib/python3.8/site-packages/tensorflow/python/eager/def_function.py:915\u001b[0m, in \u001b[0;36mFunction.__call__\u001b[0;34m(self, *args, **kwds)\u001b[0m\n\u001b[1;32m    912\u001b[0m compiler \u001b[38;5;241m=\u001b[39m \u001b[38;5;124m\"\u001b[39m\u001b[38;5;124mxla\u001b[39m\u001b[38;5;124m\"\u001b[39m \u001b[38;5;28;01mif\u001b[39;00m \u001b[38;5;28mself\u001b[39m\u001b[38;5;241m.\u001b[39m_jit_compile \u001b[38;5;28;01melse\u001b[39;00m \u001b[38;5;124m\"\u001b[39m\u001b[38;5;124mnonXla\u001b[39m\u001b[38;5;124m\"\u001b[39m\n\u001b[1;32m    914\u001b[0m \u001b[38;5;28;01mwith\u001b[39;00m OptionalXlaContext(\u001b[38;5;28mself\u001b[39m\u001b[38;5;241m.\u001b[39m_jit_compile):\n\u001b[0;32m--> 915\u001b[0m   result \u001b[38;5;241m=\u001b[39m \u001b[38;5;28;43mself\u001b[39;49m\u001b[38;5;241;43m.\u001b[39;49m\u001b[43m_call\u001b[49m\u001b[43m(\u001b[49m\u001b[38;5;241;43m*\u001b[39;49m\u001b[43margs\u001b[49m\u001b[43m,\u001b[49m\u001b[43m \u001b[49m\u001b[38;5;241;43m*\u001b[39;49m\u001b[38;5;241;43m*\u001b[39;49m\u001b[43mkwds\u001b[49m\u001b[43m)\u001b[49m\n\u001b[1;32m    917\u001b[0m new_tracing_count \u001b[38;5;241m=\u001b[39m \u001b[38;5;28mself\u001b[39m\u001b[38;5;241m.\u001b[39mexperimental_get_tracing_count()\n\u001b[1;32m    918\u001b[0m without_tracing \u001b[38;5;241m=\u001b[39m (tracing_count \u001b[38;5;241m==\u001b[39m new_tracing_count)\n",
      "File \u001b[0;32m~/.local/lib/python3.8/site-packages/tensorflow/python/eager/def_function.py:947\u001b[0m, in \u001b[0;36mFunction._call\u001b[0;34m(self, *args, **kwds)\u001b[0m\n\u001b[1;32m    944\u001b[0m   \u001b[38;5;28mself\u001b[39m\u001b[38;5;241m.\u001b[39m_lock\u001b[38;5;241m.\u001b[39mrelease()\n\u001b[1;32m    945\u001b[0m   \u001b[38;5;66;03m# In this case we have created variables on the first call, so we run the\u001b[39;00m\n\u001b[1;32m    946\u001b[0m   \u001b[38;5;66;03m# defunned version which is guaranteed to never create variables.\u001b[39;00m\n\u001b[0;32m--> 947\u001b[0m   \u001b[38;5;28;01mreturn\u001b[39;00m \u001b[38;5;28;43mself\u001b[39;49m\u001b[38;5;241;43m.\u001b[39;49m\u001b[43m_stateless_fn\u001b[49m\u001b[43m(\u001b[49m\u001b[38;5;241;43m*\u001b[39;49m\u001b[43margs\u001b[49m\u001b[43m,\u001b[49m\u001b[43m \u001b[49m\u001b[38;5;241;43m*\u001b[39;49m\u001b[38;5;241;43m*\u001b[39;49m\u001b[43mkwds\u001b[49m\u001b[43m)\u001b[49m  \u001b[38;5;66;03m# pylint: disable=not-callable\u001b[39;00m\n\u001b[1;32m    948\u001b[0m \u001b[38;5;28;01melif\u001b[39;00m \u001b[38;5;28mself\u001b[39m\u001b[38;5;241m.\u001b[39m_stateful_fn \u001b[38;5;129;01mis\u001b[39;00m \u001b[38;5;129;01mnot\u001b[39;00m \u001b[38;5;28;01mNone\u001b[39;00m:\n\u001b[1;32m    949\u001b[0m   \u001b[38;5;66;03m# Release the lock early so that multiple threads can perform the call\u001b[39;00m\n\u001b[1;32m    950\u001b[0m   \u001b[38;5;66;03m# in parallel.\u001b[39;00m\n\u001b[1;32m    951\u001b[0m   \u001b[38;5;28mself\u001b[39m\u001b[38;5;241m.\u001b[39m_lock\u001b[38;5;241m.\u001b[39mrelease()\n",
      "File \u001b[0;32m~/.local/lib/python3.8/site-packages/tensorflow/python/eager/function.py:2453\u001b[0m, in \u001b[0;36mFunction.__call__\u001b[0;34m(self, *args, **kwargs)\u001b[0m\n\u001b[1;32m   2450\u001b[0m \u001b[38;5;28;01mwith\u001b[39;00m \u001b[38;5;28mself\u001b[39m\u001b[38;5;241m.\u001b[39m_lock:\n\u001b[1;32m   2451\u001b[0m   (graph_function,\n\u001b[1;32m   2452\u001b[0m    filtered_flat_args) \u001b[38;5;241m=\u001b[39m \u001b[38;5;28mself\u001b[39m\u001b[38;5;241m.\u001b[39m_maybe_define_function(args, kwargs)\n\u001b[0;32m-> 2453\u001b[0m \u001b[38;5;28;01mreturn\u001b[39;00m \u001b[43mgraph_function\u001b[49m\u001b[38;5;241;43m.\u001b[39;49m\u001b[43m_call_flat\u001b[49m\u001b[43m(\u001b[49m\n\u001b[1;32m   2454\u001b[0m \u001b[43m    \u001b[49m\u001b[43mfiltered_flat_args\u001b[49m\u001b[43m,\u001b[49m\u001b[43m \u001b[49m\u001b[43mcaptured_inputs\u001b[49m\u001b[38;5;241;43m=\u001b[39;49m\u001b[43mgraph_function\u001b[49m\u001b[38;5;241;43m.\u001b[39;49m\u001b[43mcaptured_inputs\u001b[49m\u001b[43m)\u001b[49m\n",
      "File \u001b[0;32m~/.local/lib/python3.8/site-packages/tensorflow/python/eager/function.py:1860\u001b[0m, in \u001b[0;36mConcreteFunction._call_flat\u001b[0;34m(self, args, captured_inputs, cancellation_manager)\u001b[0m\n\u001b[1;32m   1856\u001b[0m possible_gradient_type \u001b[38;5;241m=\u001b[39m gradients_util\u001b[38;5;241m.\u001b[39mPossibleTapeGradientTypes(args)\n\u001b[1;32m   1857\u001b[0m \u001b[38;5;28;01mif\u001b[39;00m (possible_gradient_type \u001b[38;5;241m==\u001b[39m gradients_util\u001b[38;5;241m.\u001b[39mPOSSIBLE_GRADIENT_TYPES_NONE\n\u001b[1;32m   1858\u001b[0m     \u001b[38;5;129;01mand\u001b[39;00m executing_eagerly):\n\u001b[1;32m   1859\u001b[0m   \u001b[38;5;66;03m# No tape is watching; skip to running the function.\u001b[39;00m\n\u001b[0;32m-> 1860\u001b[0m   \u001b[38;5;28;01mreturn\u001b[39;00m \u001b[38;5;28mself\u001b[39m\u001b[38;5;241m.\u001b[39m_build_call_outputs(\u001b[38;5;28;43mself\u001b[39;49m\u001b[38;5;241;43m.\u001b[39;49m\u001b[43m_inference_function\u001b[49m\u001b[38;5;241;43m.\u001b[39;49m\u001b[43mcall\u001b[49m\u001b[43m(\u001b[49m\n\u001b[1;32m   1861\u001b[0m \u001b[43m      \u001b[49m\u001b[43mctx\u001b[49m\u001b[43m,\u001b[49m\u001b[43m \u001b[49m\u001b[43margs\u001b[49m\u001b[43m,\u001b[49m\u001b[43m \u001b[49m\u001b[43mcancellation_manager\u001b[49m\u001b[38;5;241;43m=\u001b[39;49m\u001b[43mcancellation_manager\u001b[49m\u001b[43m)\u001b[49m)\n\u001b[1;32m   1862\u001b[0m forward_backward \u001b[38;5;241m=\u001b[39m \u001b[38;5;28mself\u001b[39m\u001b[38;5;241m.\u001b[39m_select_forward_and_backward_functions(\n\u001b[1;32m   1863\u001b[0m     args,\n\u001b[1;32m   1864\u001b[0m     possible_gradient_type,\n\u001b[1;32m   1865\u001b[0m     executing_eagerly)\n\u001b[1;32m   1866\u001b[0m forward_function, args_with_tangents \u001b[38;5;241m=\u001b[39m forward_backward\u001b[38;5;241m.\u001b[39mforward()\n",
      "File \u001b[0;32m~/.local/lib/python3.8/site-packages/tensorflow/python/eager/function.py:497\u001b[0m, in \u001b[0;36m_EagerDefinedFunction.call\u001b[0;34m(self, ctx, args, cancellation_manager)\u001b[0m\n\u001b[1;32m    495\u001b[0m \u001b[38;5;28;01mwith\u001b[39;00m _InterpolateFunctionError(\u001b[38;5;28mself\u001b[39m):\n\u001b[1;32m    496\u001b[0m   \u001b[38;5;28;01mif\u001b[39;00m cancellation_manager \u001b[38;5;129;01mis\u001b[39;00m \u001b[38;5;28;01mNone\u001b[39;00m:\n\u001b[0;32m--> 497\u001b[0m     outputs \u001b[38;5;241m=\u001b[39m \u001b[43mexecute\u001b[49m\u001b[38;5;241;43m.\u001b[39;49m\u001b[43mexecute\u001b[49m\u001b[43m(\u001b[49m\n\u001b[1;32m    498\u001b[0m \u001b[43m        \u001b[49m\u001b[38;5;28;43mstr\u001b[39;49m\u001b[43m(\u001b[49m\u001b[38;5;28;43mself\u001b[39;49m\u001b[38;5;241;43m.\u001b[39;49m\u001b[43msignature\u001b[49m\u001b[38;5;241;43m.\u001b[39;49m\u001b[43mname\u001b[49m\u001b[43m)\u001b[49m\u001b[43m,\u001b[49m\n\u001b[1;32m    499\u001b[0m \u001b[43m        \u001b[49m\u001b[43mnum_outputs\u001b[49m\u001b[38;5;241;43m=\u001b[39;49m\u001b[38;5;28;43mself\u001b[39;49m\u001b[38;5;241;43m.\u001b[39;49m\u001b[43m_num_outputs\u001b[49m\u001b[43m,\u001b[49m\n\u001b[1;32m    500\u001b[0m \u001b[43m        \u001b[49m\u001b[43minputs\u001b[49m\u001b[38;5;241;43m=\u001b[39;49m\u001b[43margs\u001b[49m\u001b[43m,\u001b[49m\n\u001b[1;32m    501\u001b[0m \u001b[43m        \u001b[49m\u001b[43mattrs\u001b[49m\u001b[38;5;241;43m=\u001b[39;49m\u001b[43mattrs\u001b[49m\u001b[43m,\u001b[49m\n\u001b[1;32m    502\u001b[0m \u001b[43m        \u001b[49m\u001b[43mctx\u001b[49m\u001b[38;5;241;43m=\u001b[39;49m\u001b[43mctx\u001b[49m\u001b[43m)\u001b[49m\n\u001b[1;32m    503\u001b[0m   \u001b[38;5;28;01melse\u001b[39;00m:\n\u001b[1;32m    504\u001b[0m     outputs \u001b[38;5;241m=\u001b[39m execute\u001b[38;5;241m.\u001b[39mexecute_with_cancellation(\n\u001b[1;32m    505\u001b[0m         \u001b[38;5;28mstr\u001b[39m(\u001b[38;5;28mself\u001b[39m\u001b[38;5;241m.\u001b[39msignature\u001b[38;5;241m.\u001b[39mname),\n\u001b[1;32m    506\u001b[0m         num_outputs\u001b[38;5;241m=\u001b[39m\u001b[38;5;28mself\u001b[39m\u001b[38;5;241m.\u001b[39m_num_outputs,\n\u001b[0;32m   (...)\u001b[0m\n\u001b[1;32m    509\u001b[0m         ctx\u001b[38;5;241m=\u001b[39mctx,\n\u001b[1;32m    510\u001b[0m         cancellation_manager\u001b[38;5;241m=\u001b[39mcancellation_manager)\n",
      "File \u001b[0;32m~/.local/lib/python3.8/site-packages/tensorflow/python/eager/execute.py:54\u001b[0m, in \u001b[0;36mquick_execute\u001b[0;34m(op_name, num_outputs, inputs, attrs, ctx, name)\u001b[0m\n\u001b[1;32m     52\u001b[0m \u001b[38;5;28;01mtry\u001b[39;00m:\n\u001b[1;32m     53\u001b[0m   ctx\u001b[38;5;241m.\u001b[39mensure_initialized()\n\u001b[0;32m---> 54\u001b[0m   tensors \u001b[38;5;241m=\u001b[39m \u001b[43mpywrap_tfe\u001b[49m\u001b[38;5;241;43m.\u001b[39;49m\u001b[43mTFE_Py_Execute\u001b[49m\u001b[43m(\u001b[49m\u001b[43mctx\u001b[49m\u001b[38;5;241;43m.\u001b[39;49m\u001b[43m_handle\u001b[49m\u001b[43m,\u001b[49m\u001b[43m \u001b[49m\u001b[43mdevice_name\u001b[49m\u001b[43m,\u001b[49m\u001b[43m \u001b[49m\u001b[43mop_name\u001b[49m\u001b[43m,\u001b[49m\n\u001b[1;32m     55\u001b[0m \u001b[43m                                      \u001b[49m\u001b[43minputs\u001b[49m\u001b[43m,\u001b[49m\u001b[43m \u001b[49m\u001b[43mattrs\u001b[49m\u001b[43m,\u001b[49m\u001b[43m \u001b[49m\u001b[43mnum_outputs\u001b[49m\u001b[43m)\u001b[49m\n\u001b[1;32m     56\u001b[0m \u001b[38;5;28;01mexcept\u001b[39;00m core\u001b[38;5;241m.\u001b[39m_NotOkStatusException \u001b[38;5;28;01mas\u001b[39;00m e:\n\u001b[1;32m     57\u001b[0m   \u001b[38;5;28;01mif\u001b[39;00m name \u001b[38;5;129;01mis\u001b[39;00m \u001b[38;5;129;01mnot\u001b[39;00m \u001b[38;5;28;01mNone\u001b[39;00m:\n",
      "\u001b[0;31mKeyboardInterrupt\u001b[0m: "
     ]
    }
   ],
   "source": [
    "reduce_lr = ReduceLROnPlateau(monitor='val_loss', factor=0.2, patience=1, min_lr=0.0001) # patience 1, min_lr 0.00005\n",
    "stop_early = EarlyStopping(monitor='val_loss', patience=1)\n",
    "\n",
    "tuner = BayesianOptimization(\n",
    "    hypermodel=build_model,\n",
    "    objective='val_accuracy',\n",
    "    max_trials=30\n",
    ")\n",
    "\n",
    "history = tuner.search(train_X, train_label, batch_size=128, epochs=15, validation_data=(valid_X, valid_label), callbacks=[reduce_lr, stop_early])"
   ]
  },
  {
   "cell_type": "raw",
   "id": "b80ff982-fe3c-4f71-a9f2-48db31281398",
   "metadata": {},
   "source": [
    "Trial 24 Complete [00h 29m 26s]\n",
    "val_accuracy: 0.9942891001701355\n",
    "\n",
    "Best val_accuracy So Far: 0.9954706430435181\n",
    "Total elapsed time: 12h 37m 35s\n",
    "\n",
    "Search: Running Trial #25\n",
    "\n",
    "Value             |Best Value So Far |Hyperparameter\n",
    "1                 |1                 |dense_layer_count\n",
    "96                |96                |dense_layer_neurons\n",
    "linear            |linear            |dense_layer_activation\n",
    "5                 |5                 |conv_layer_count\n",
    "linear            |linear            |conv_layer_activation\n",
    "1                 |0                 |conv_kernel_split\n",
    "7                 |7                 |conv_kernel_size\n",
    "1                 |2                 |conv_stride\n",
    "64                |64                |conv_kernel_count\n",
    "Adam              |Adamax            |optimizer\n",
    "0                 |0                 |conv_dropout\n",
    "0                 |0                 |dense_dropout"
   ]
  },
  {
   "cell_type": "code",
   "execution_count": 13,
   "id": "eadf6669-9864-484b-8dc3-c8e9429e20f9",
   "metadata": {},
   "outputs": [
    {
     "name": "stdout",
     "output_type": "stream",
     "text": [
      "Trial 13 Complete [00h 42m 28s]\n",
      "val_accuracy: 0.9959487915039062\n",
      "\n",
      "Best val_accuracy So Far: 0.9965159893035889\n",
      "Total elapsed time: 04h 48m 39s\n",
      "\n",
      "Search: Running Trial #14\n",
      "\n",
      "Value             |Best Value So Far |Hyperparameter\n",
      "1                 |1                 |dense_layer_count\n",
      "64                |96                |dense_layer_neurons\n",
      "relu              |relu              |dense_layer_activation\n",
      "4                 |1                 |conv_layer_count\n",
      "relu              |relu              |conv_layer_activation\n",
      "1                 |1                 |conv_kernel_split\n",
      "7                 |7                 |conv_kernel_size\n",
      "1                 |1                 |conv_stride\n",
      "16                |16                |conv_kernel_count\n",
      "Adam              |Adam              |optimizer\n",
      "1                 |1                 |conv_dropout\n",
      "1                 |1                 |dense_dropout\n",
      "\n",
      "Epoch 1/20\n",
      "  674/12342 [>.............................] - ETA: 4:17 - loss: 0.3309 - accuracy: 0.8561"
     ]
    },
    {
     "ename": "KeyboardInterrupt",
     "evalue": "",
     "output_type": "error",
     "traceback": [
      "\u001b[0;31m---------------------------------------------------------------------------\u001b[0m",
      "\u001b[0;31mKeyboardInterrupt\u001b[0m                         Traceback (most recent call last)",
      "Input \u001b[0;32mIn [13]\u001b[0m, in \u001b[0;36m<cell line: 11>\u001b[0;34m()\u001b[0m\n\u001b[1;32m      2\u001b[0m stop_early \u001b[38;5;241m=\u001b[39m EarlyStopping(monitor\u001b[38;5;241m=\u001b[39m\u001b[38;5;124m'\u001b[39m\u001b[38;5;124mval_loss\u001b[39m\u001b[38;5;124m'\u001b[39m, patience\u001b[38;5;241m=\u001b[39m\u001b[38;5;241m2\u001b[39m)\n\u001b[1;32m      4\u001b[0m tuner_32_new \u001b[38;5;241m=\u001b[39m BayesianOptimization(\n\u001b[1;32m      5\u001b[0m     hypermodel\u001b[38;5;241m=\u001b[39mbuild_model,\n\u001b[1;32m      6\u001b[0m     objective\u001b[38;5;241m=\u001b[39m\u001b[38;5;124m'\u001b[39m\u001b[38;5;124mval_accuracy\u001b[39m\u001b[38;5;124m'\u001b[39m,\n\u001b[1;32m      7\u001b[0m     max_trials\u001b[38;5;241m=\u001b[39m\u001b[38;5;241m30\u001b[39m,\n\u001b[1;32m      8\u001b[0m     project_name\u001b[38;5;241m=\u001b[39m\u001b[38;5;124m'\u001b[39m\u001b[38;5;124mbatch_32_new\u001b[39m\u001b[38;5;124m'\u001b[39m\n\u001b[1;32m      9\u001b[0m )\n\u001b[0;32m---> 11\u001b[0m history_32_new \u001b[38;5;241m=\u001b[39m \u001b[43mtuner_32_new\u001b[49m\u001b[38;5;241;43m.\u001b[39;49m\u001b[43msearch\u001b[49m\u001b[43m(\u001b[49m\u001b[43mtrain_X\u001b[49m\u001b[43m,\u001b[49m\u001b[43m \u001b[49m\u001b[43mtrain_label\u001b[49m\u001b[43m,\u001b[49m\u001b[43m \u001b[49m\u001b[43mbatch_size\u001b[49m\u001b[38;5;241;43m=\u001b[39;49m\u001b[38;5;241;43m32\u001b[39;49m\u001b[43m,\u001b[49m\u001b[43m \u001b[49m\u001b[43mepochs\u001b[49m\u001b[38;5;241;43m=\u001b[39;49m\u001b[38;5;241;43m20\u001b[39;49m\u001b[43m,\u001b[49m\u001b[43m \u001b[49m\u001b[43mvalidation_data\u001b[49m\u001b[38;5;241;43m=\u001b[39;49m\u001b[43m(\u001b[49m\u001b[43mvalid_X\u001b[49m\u001b[43m,\u001b[49m\u001b[43m \u001b[49m\u001b[43mvalid_label\u001b[49m\u001b[43m)\u001b[49m\u001b[43m,\u001b[49m\u001b[43m \u001b[49m\u001b[43mcallbacks\u001b[49m\u001b[38;5;241;43m=\u001b[39;49m\u001b[43m[\u001b[49m\u001b[43mreduce_lr\u001b[49m\u001b[43m,\u001b[49m\u001b[43m \u001b[49m\u001b[43mstop_early\u001b[49m\u001b[43m]\u001b[49m\u001b[43m)\u001b[49m\n",
      "File \u001b[0;32m~/.local/lib/python3.8/site-packages/keras_tuner/engine/base_tuner.py:183\u001b[0m, in \u001b[0;36mBaseTuner.search\u001b[0;34m(self, *fit_args, **fit_kwargs)\u001b[0m\n\u001b[1;32m    180\u001b[0m     \u001b[38;5;28;01mcontinue\u001b[39;00m\n\u001b[1;32m    182\u001b[0m \u001b[38;5;28mself\u001b[39m\u001b[38;5;241m.\u001b[39mon_trial_begin(trial)\n\u001b[0;32m--> 183\u001b[0m results \u001b[38;5;241m=\u001b[39m \u001b[38;5;28;43mself\u001b[39;49m\u001b[38;5;241;43m.\u001b[39;49m\u001b[43mrun_trial\u001b[49m\u001b[43m(\u001b[49m\u001b[43mtrial\u001b[49m\u001b[43m,\u001b[49m\u001b[43m \u001b[49m\u001b[38;5;241;43m*\u001b[39;49m\u001b[43mfit_args\u001b[49m\u001b[43m,\u001b[49m\u001b[43m \u001b[49m\u001b[38;5;241;43m*\u001b[39;49m\u001b[38;5;241;43m*\u001b[39;49m\u001b[43mfit_kwargs\u001b[49m\u001b[43m)\u001b[49m\n\u001b[1;32m    184\u001b[0m \u001b[38;5;66;03m# `results` is None indicates user updated oracle in `run_trial()`.\u001b[39;00m\n\u001b[1;32m    185\u001b[0m \u001b[38;5;28;01mif\u001b[39;00m results \u001b[38;5;129;01mis\u001b[39;00m \u001b[38;5;28;01mNone\u001b[39;00m:\n",
      "File \u001b[0;32m~/.local/lib/python3.8/site-packages/keras_tuner/engine/tuner.py:295\u001b[0m, in \u001b[0;36mTuner.run_trial\u001b[0;34m(self, trial, *args, **kwargs)\u001b[0m\n\u001b[1;32m    293\u001b[0m     callbacks\u001b[38;5;241m.\u001b[39mappend(model_checkpoint)\n\u001b[1;32m    294\u001b[0m     copied_kwargs[\u001b[38;5;124m\"\u001b[39m\u001b[38;5;124mcallbacks\u001b[39m\u001b[38;5;124m\"\u001b[39m] \u001b[38;5;241m=\u001b[39m callbacks\n\u001b[0;32m--> 295\u001b[0m     obj_value \u001b[38;5;241m=\u001b[39m \u001b[38;5;28;43mself\u001b[39;49m\u001b[38;5;241;43m.\u001b[39;49m\u001b[43m_build_and_fit_model\u001b[49m\u001b[43m(\u001b[49m\u001b[43mtrial\u001b[49m\u001b[43m,\u001b[49m\u001b[43m \u001b[49m\u001b[38;5;241;43m*\u001b[39;49m\u001b[43margs\u001b[49m\u001b[43m,\u001b[49m\u001b[43m \u001b[49m\u001b[38;5;241;43m*\u001b[39;49m\u001b[38;5;241;43m*\u001b[39;49m\u001b[43mcopied_kwargs\u001b[49m\u001b[43m)\u001b[49m\n\u001b[1;32m    297\u001b[0m     histories\u001b[38;5;241m.\u001b[39mappend(obj_value)\n\u001b[1;32m    298\u001b[0m \u001b[38;5;28;01mreturn\u001b[39;00m histories\n",
      "File \u001b[0;32m~/.local/lib/python3.8/site-packages/keras_tuner/engine/tuner.py:222\u001b[0m, in \u001b[0;36mTuner._build_and_fit_model\u001b[0;34m(self, trial, *args, **kwargs)\u001b[0m\n\u001b[1;32m    220\u001b[0m hp \u001b[38;5;241m=\u001b[39m trial\u001b[38;5;241m.\u001b[39mhyperparameters\n\u001b[1;32m    221\u001b[0m model \u001b[38;5;241m=\u001b[39m \u001b[38;5;28mself\u001b[39m\u001b[38;5;241m.\u001b[39m_try_build(hp)\n\u001b[0;32m--> 222\u001b[0m results \u001b[38;5;241m=\u001b[39m \u001b[38;5;28;43mself\u001b[39;49m\u001b[38;5;241;43m.\u001b[39;49m\u001b[43mhypermodel\u001b[49m\u001b[38;5;241;43m.\u001b[39;49m\u001b[43mfit\u001b[49m\u001b[43m(\u001b[49m\u001b[43mhp\u001b[49m\u001b[43m,\u001b[49m\u001b[43m \u001b[49m\u001b[43mmodel\u001b[49m\u001b[43m,\u001b[49m\u001b[43m \u001b[49m\u001b[38;5;241;43m*\u001b[39;49m\u001b[43margs\u001b[49m\u001b[43m,\u001b[49m\u001b[43m \u001b[49m\u001b[38;5;241;43m*\u001b[39;49m\u001b[38;5;241;43m*\u001b[39;49m\u001b[43mkwargs\u001b[49m\u001b[43m)\u001b[49m\n\u001b[1;32m    223\u001b[0m tuner_utils\u001b[38;5;241m.\u001b[39mvalidate_trial_results(\n\u001b[1;32m    224\u001b[0m     results, \u001b[38;5;28mself\u001b[39m\u001b[38;5;241m.\u001b[39moracle\u001b[38;5;241m.\u001b[39mobjective, \u001b[38;5;124m\"\u001b[39m\u001b[38;5;124mHyperModel.fit()\u001b[39m\u001b[38;5;124m\"\u001b[39m\n\u001b[1;32m    225\u001b[0m )\n\u001b[1;32m    226\u001b[0m \u001b[38;5;28;01mreturn\u001b[39;00m results\n",
      "File \u001b[0;32m~/.local/lib/python3.8/site-packages/keras_tuner/engine/hypermodel.py:140\u001b[0m, in \u001b[0;36mHyperModel.fit\u001b[0;34m(self, hp, model, *args, **kwargs)\u001b[0m\n\u001b[1;32m    116\u001b[0m \u001b[38;5;28;01mdef\u001b[39;00m \u001b[38;5;21mfit\u001b[39m(\u001b[38;5;28mself\u001b[39m, hp, model, \u001b[38;5;241m*\u001b[39margs, \u001b[38;5;241m*\u001b[39m\u001b[38;5;241m*\u001b[39mkwargs):\n\u001b[1;32m    117\u001b[0m     \u001b[38;5;124;03m\"\"\"Train the model.\u001b[39;00m\n\u001b[1;32m    118\u001b[0m \n\u001b[1;32m    119\u001b[0m \u001b[38;5;124;03m    Args:\u001b[39;00m\n\u001b[0;32m   (...)\u001b[0m\n\u001b[1;32m    138\u001b[0m \u001b[38;5;124;03m        If return a float, it should be the `objective` value.\u001b[39;00m\n\u001b[1;32m    139\u001b[0m \u001b[38;5;124;03m    \"\"\"\u001b[39;00m\n\u001b[0;32m--> 140\u001b[0m     \u001b[38;5;28;01mreturn\u001b[39;00m \u001b[43mmodel\u001b[49m\u001b[38;5;241;43m.\u001b[39;49m\u001b[43mfit\u001b[49m\u001b[43m(\u001b[49m\u001b[38;5;241;43m*\u001b[39;49m\u001b[43margs\u001b[49m\u001b[43m,\u001b[49m\u001b[43m \u001b[49m\u001b[38;5;241;43m*\u001b[39;49m\u001b[38;5;241;43m*\u001b[39;49m\u001b[43mkwargs\u001b[49m\u001b[43m)\u001b[49m\n",
      "File \u001b[0;32m~/.local/lib/python3.8/site-packages/keras/utils/traceback_utils.py:64\u001b[0m, in \u001b[0;36mfilter_traceback.<locals>.error_handler\u001b[0;34m(*args, **kwargs)\u001b[0m\n\u001b[1;32m     62\u001b[0m filtered_tb \u001b[38;5;241m=\u001b[39m \u001b[38;5;28;01mNone\u001b[39;00m\n\u001b[1;32m     63\u001b[0m \u001b[38;5;28;01mtry\u001b[39;00m:\n\u001b[0;32m---> 64\u001b[0m   \u001b[38;5;28;01mreturn\u001b[39;00m \u001b[43mfn\u001b[49m\u001b[43m(\u001b[49m\u001b[38;5;241;43m*\u001b[39;49m\u001b[43margs\u001b[49m\u001b[43m,\u001b[49m\u001b[43m \u001b[49m\u001b[38;5;241;43m*\u001b[39;49m\u001b[38;5;241;43m*\u001b[39;49m\u001b[43mkwargs\u001b[49m\u001b[43m)\u001b[49m\n\u001b[1;32m     65\u001b[0m \u001b[38;5;28;01mexcept\u001b[39;00m \u001b[38;5;167;01mException\u001b[39;00m \u001b[38;5;28;01mas\u001b[39;00m e:  \u001b[38;5;66;03m# pylint: disable=broad-except\u001b[39;00m\n\u001b[1;32m     66\u001b[0m   filtered_tb \u001b[38;5;241m=\u001b[39m _process_traceback_frames(e\u001b[38;5;241m.\u001b[39m__traceback__)\n",
      "File \u001b[0;32m~/.local/lib/python3.8/site-packages/keras/engine/training.py:1409\u001b[0m, in \u001b[0;36mModel.fit\u001b[0;34m(self, x, y, batch_size, epochs, verbose, callbacks, validation_split, validation_data, shuffle, class_weight, sample_weight, initial_epoch, steps_per_epoch, validation_steps, validation_batch_size, validation_freq, max_queue_size, workers, use_multiprocessing)\u001b[0m\n\u001b[1;32m   1402\u001b[0m \u001b[38;5;28;01mwith\u001b[39;00m tf\u001b[38;5;241m.\u001b[39mprofiler\u001b[38;5;241m.\u001b[39mexperimental\u001b[38;5;241m.\u001b[39mTrace(\n\u001b[1;32m   1403\u001b[0m     \u001b[38;5;124m'\u001b[39m\u001b[38;5;124mtrain\u001b[39m\u001b[38;5;124m'\u001b[39m,\n\u001b[1;32m   1404\u001b[0m     epoch_num\u001b[38;5;241m=\u001b[39mepoch,\n\u001b[1;32m   1405\u001b[0m     step_num\u001b[38;5;241m=\u001b[39mstep,\n\u001b[1;32m   1406\u001b[0m     batch_size\u001b[38;5;241m=\u001b[39mbatch_size,\n\u001b[1;32m   1407\u001b[0m     _r\u001b[38;5;241m=\u001b[39m\u001b[38;5;241m1\u001b[39m):\n\u001b[1;32m   1408\u001b[0m   callbacks\u001b[38;5;241m.\u001b[39mon_train_batch_begin(step)\n\u001b[0;32m-> 1409\u001b[0m   tmp_logs \u001b[38;5;241m=\u001b[39m \u001b[38;5;28;43mself\u001b[39;49m\u001b[38;5;241;43m.\u001b[39;49m\u001b[43mtrain_function\u001b[49m\u001b[43m(\u001b[49m\u001b[43miterator\u001b[49m\u001b[43m)\u001b[49m\n\u001b[1;32m   1410\u001b[0m   \u001b[38;5;28;01mif\u001b[39;00m data_handler\u001b[38;5;241m.\u001b[39mshould_sync:\n\u001b[1;32m   1411\u001b[0m     context\u001b[38;5;241m.\u001b[39masync_wait()\n",
      "File \u001b[0;32m~/.local/lib/python3.8/site-packages/tensorflow/python/util/traceback_utils.py:150\u001b[0m, in \u001b[0;36mfilter_traceback.<locals>.error_handler\u001b[0;34m(*args, **kwargs)\u001b[0m\n\u001b[1;32m    148\u001b[0m filtered_tb \u001b[38;5;241m=\u001b[39m \u001b[38;5;28;01mNone\u001b[39;00m\n\u001b[1;32m    149\u001b[0m \u001b[38;5;28;01mtry\u001b[39;00m:\n\u001b[0;32m--> 150\u001b[0m   \u001b[38;5;28;01mreturn\u001b[39;00m \u001b[43mfn\u001b[49m\u001b[43m(\u001b[49m\u001b[38;5;241;43m*\u001b[39;49m\u001b[43margs\u001b[49m\u001b[43m,\u001b[49m\u001b[43m \u001b[49m\u001b[38;5;241;43m*\u001b[39;49m\u001b[38;5;241;43m*\u001b[39;49m\u001b[43mkwargs\u001b[49m\u001b[43m)\u001b[49m\n\u001b[1;32m    151\u001b[0m \u001b[38;5;28;01mexcept\u001b[39;00m \u001b[38;5;167;01mException\u001b[39;00m \u001b[38;5;28;01mas\u001b[39;00m e:\n\u001b[1;32m    152\u001b[0m   filtered_tb \u001b[38;5;241m=\u001b[39m _process_traceback_frames(e\u001b[38;5;241m.\u001b[39m__traceback__)\n",
      "File \u001b[0;32m~/.local/lib/python3.8/site-packages/tensorflow/python/eager/def_function.py:915\u001b[0m, in \u001b[0;36mFunction.__call__\u001b[0;34m(self, *args, **kwds)\u001b[0m\n\u001b[1;32m    912\u001b[0m compiler \u001b[38;5;241m=\u001b[39m \u001b[38;5;124m\"\u001b[39m\u001b[38;5;124mxla\u001b[39m\u001b[38;5;124m\"\u001b[39m \u001b[38;5;28;01mif\u001b[39;00m \u001b[38;5;28mself\u001b[39m\u001b[38;5;241m.\u001b[39m_jit_compile \u001b[38;5;28;01melse\u001b[39;00m \u001b[38;5;124m\"\u001b[39m\u001b[38;5;124mnonXla\u001b[39m\u001b[38;5;124m\"\u001b[39m\n\u001b[1;32m    914\u001b[0m \u001b[38;5;28;01mwith\u001b[39;00m OptionalXlaContext(\u001b[38;5;28mself\u001b[39m\u001b[38;5;241m.\u001b[39m_jit_compile):\n\u001b[0;32m--> 915\u001b[0m   result \u001b[38;5;241m=\u001b[39m \u001b[38;5;28;43mself\u001b[39;49m\u001b[38;5;241;43m.\u001b[39;49m\u001b[43m_call\u001b[49m\u001b[43m(\u001b[49m\u001b[38;5;241;43m*\u001b[39;49m\u001b[43margs\u001b[49m\u001b[43m,\u001b[49m\u001b[43m \u001b[49m\u001b[38;5;241;43m*\u001b[39;49m\u001b[38;5;241;43m*\u001b[39;49m\u001b[43mkwds\u001b[49m\u001b[43m)\u001b[49m\n\u001b[1;32m    917\u001b[0m new_tracing_count \u001b[38;5;241m=\u001b[39m \u001b[38;5;28mself\u001b[39m\u001b[38;5;241m.\u001b[39mexperimental_get_tracing_count()\n\u001b[1;32m    918\u001b[0m without_tracing \u001b[38;5;241m=\u001b[39m (tracing_count \u001b[38;5;241m==\u001b[39m new_tracing_count)\n",
      "File \u001b[0;32m~/.local/lib/python3.8/site-packages/tensorflow/python/eager/def_function.py:947\u001b[0m, in \u001b[0;36mFunction._call\u001b[0;34m(self, *args, **kwds)\u001b[0m\n\u001b[1;32m    944\u001b[0m   \u001b[38;5;28mself\u001b[39m\u001b[38;5;241m.\u001b[39m_lock\u001b[38;5;241m.\u001b[39mrelease()\n\u001b[1;32m    945\u001b[0m   \u001b[38;5;66;03m# In this case we have created variables on the first call, so we run the\u001b[39;00m\n\u001b[1;32m    946\u001b[0m   \u001b[38;5;66;03m# defunned version which is guaranteed to never create variables.\u001b[39;00m\n\u001b[0;32m--> 947\u001b[0m   \u001b[38;5;28;01mreturn\u001b[39;00m \u001b[38;5;28;43mself\u001b[39;49m\u001b[38;5;241;43m.\u001b[39;49m\u001b[43m_stateless_fn\u001b[49m\u001b[43m(\u001b[49m\u001b[38;5;241;43m*\u001b[39;49m\u001b[43margs\u001b[49m\u001b[43m,\u001b[49m\u001b[43m \u001b[49m\u001b[38;5;241;43m*\u001b[39;49m\u001b[38;5;241;43m*\u001b[39;49m\u001b[43mkwds\u001b[49m\u001b[43m)\u001b[49m  \u001b[38;5;66;03m# pylint: disable=not-callable\u001b[39;00m\n\u001b[1;32m    948\u001b[0m \u001b[38;5;28;01melif\u001b[39;00m \u001b[38;5;28mself\u001b[39m\u001b[38;5;241m.\u001b[39m_stateful_fn \u001b[38;5;129;01mis\u001b[39;00m \u001b[38;5;129;01mnot\u001b[39;00m \u001b[38;5;28;01mNone\u001b[39;00m:\n\u001b[1;32m    949\u001b[0m   \u001b[38;5;66;03m# Release the lock early so that multiple threads can perform the call\u001b[39;00m\n\u001b[1;32m    950\u001b[0m   \u001b[38;5;66;03m# in parallel.\u001b[39;00m\n\u001b[1;32m    951\u001b[0m   \u001b[38;5;28mself\u001b[39m\u001b[38;5;241m.\u001b[39m_lock\u001b[38;5;241m.\u001b[39mrelease()\n",
      "File \u001b[0;32m~/.local/lib/python3.8/site-packages/tensorflow/python/eager/function.py:2453\u001b[0m, in \u001b[0;36mFunction.__call__\u001b[0;34m(self, *args, **kwargs)\u001b[0m\n\u001b[1;32m   2450\u001b[0m \u001b[38;5;28;01mwith\u001b[39;00m \u001b[38;5;28mself\u001b[39m\u001b[38;5;241m.\u001b[39m_lock:\n\u001b[1;32m   2451\u001b[0m   (graph_function,\n\u001b[1;32m   2452\u001b[0m    filtered_flat_args) \u001b[38;5;241m=\u001b[39m \u001b[38;5;28mself\u001b[39m\u001b[38;5;241m.\u001b[39m_maybe_define_function(args, kwargs)\n\u001b[0;32m-> 2453\u001b[0m \u001b[38;5;28;01mreturn\u001b[39;00m \u001b[43mgraph_function\u001b[49m\u001b[38;5;241;43m.\u001b[39;49m\u001b[43m_call_flat\u001b[49m\u001b[43m(\u001b[49m\n\u001b[1;32m   2454\u001b[0m \u001b[43m    \u001b[49m\u001b[43mfiltered_flat_args\u001b[49m\u001b[43m,\u001b[49m\u001b[43m \u001b[49m\u001b[43mcaptured_inputs\u001b[49m\u001b[38;5;241;43m=\u001b[39;49m\u001b[43mgraph_function\u001b[49m\u001b[38;5;241;43m.\u001b[39;49m\u001b[43mcaptured_inputs\u001b[49m\u001b[43m)\u001b[49m\n",
      "File \u001b[0;32m~/.local/lib/python3.8/site-packages/tensorflow/python/eager/function.py:1860\u001b[0m, in \u001b[0;36mConcreteFunction._call_flat\u001b[0;34m(self, args, captured_inputs, cancellation_manager)\u001b[0m\n\u001b[1;32m   1856\u001b[0m possible_gradient_type \u001b[38;5;241m=\u001b[39m gradients_util\u001b[38;5;241m.\u001b[39mPossibleTapeGradientTypes(args)\n\u001b[1;32m   1857\u001b[0m \u001b[38;5;28;01mif\u001b[39;00m (possible_gradient_type \u001b[38;5;241m==\u001b[39m gradients_util\u001b[38;5;241m.\u001b[39mPOSSIBLE_GRADIENT_TYPES_NONE\n\u001b[1;32m   1858\u001b[0m     \u001b[38;5;129;01mand\u001b[39;00m executing_eagerly):\n\u001b[1;32m   1859\u001b[0m   \u001b[38;5;66;03m# No tape is watching; skip to running the function.\u001b[39;00m\n\u001b[0;32m-> 1860\u001b[0m   \u001b[38;5;28;01mreturn\u001b[39;00m \u001b[38;5;28mself\u001b[39m\u001b[38;5;241m.\u001b[39m_build_call_outputs(\u001b[38;5;28;43mself\u001b[39;49m\u001b[38;5;241;43m.\u001b[39;49m\u001b[43m_inference_function\u001b[49m\u001b[38;5;241;43m.\u001b[39;49m\u001b[43mcall\u001b[49m\u001b[43m(\u001b[49m\n\u001b[1;32m   1861\u001b[0m \u001b[43m      \u001b[49m\u001b[43mctx\u001b[49m\u001b[43m,\u001b[49m\u001b[43m \u001b[49m\u001b[43margs\u001b[49m\u001b[43m,\u001b[49m\u001b[43m \u001b[49m\u001b[43mcancellation_manager\u001b[49m\u001b[38;5;241;43m=\u001b[39;49m\u001b[43mcancellation_manager\u001b[49m\u001b[43m)\u001b[49m)\n\u001b[1;32m   1862\u001b[0m forward_backward \u001b[38;5;241m=\u001b[39m \u001b[38;5;28mself\u001b[39m\u001b[38;5;241m.\u001b[39m_select_forward_and_backward_functions(\n\u001b[1;32m   1863\u001b[0m     args,\n\u001b[1;32m   1864\u001b[0m     possible_gradient_type,\n\u001b[1;32m   1865\u001b[0m     executing_eagerly)\n\u001b[1;32m   1866\u001b[0m forward_function, args_with_tangents \u001b[38;5;241m=\u001b[39m forward_backward\u001b[38;5;241m.\u001b[39mforward()\n",
      "File \u001b[0;32m~/.local/lib/python3.8/site-packages/tensorflow/python/eager/function.py:497\u001b[0m, in \u001b[0;36m_EagerDefinedFunction.call\u001b[0;34m(self, ctx, args, cancellation_manager)\u001b[0m\n\u001b[1;32m    495\u001b[0m \u001b[38;5;28;01mwith\u001b[39;00m _InterpolateFunctionError(\u001b[38;5;28mself\u001b[39m):\n\u001b[1;32m    496\u001b[0m   \u001b[38;5;28;01mif\u001b[39;00m cancellation_manager \u001b[38;5;129;01mis\u001b[39;00m \u001b[38;5;28;01mNone\u001b[39;00m:\n\u001b[0;32m--> 497\u001b[0m     outputs \u001b[38;5;241m=\u001b[39m \u001b[43mexecute\u001b[49m\u001b[38;5;241;43m.\u001b[39;49m\u001b[43mexecute\u001b[49m\u001b[43m(\u001b[49m\n\u001b[1;32m    498\u001b[0m \u001b[43m        \u001b[49m\u001b[38;5;28;43mstr\u001b[39;49m\u001b[43m(\u001b[49m\u001b[38;5;28;43mself\u001b[39;49m\u001b[38;5;241;43m.\u001b[39;49m\u001b[43msignature\u001b[49m\u001b[38;5;241;43m.\u001b[39;49m\u001b[43mname\u001b[49m\u001b[43m)\u001b[49m\u001b[43m,\u001b[49m\n\u001b[1;32m    499\u001b[0m \u001b[43m        \u001b[49m\u001b[43mnum_outputs\u001b[49m\u001b[38;5;241;43m=\u001b[39;49m\u001b[38;5;28;43mself\u001b[39;49m\u001b[38;5;241;43m.\u001b[39;49m\u001b[43m_num_outputs\u001b[49m\u001b[43m,\u001b[49m\n\u001b[1;32m    500\u001b[0m \u001b[43m        \u001b[49m\u001b[43minputs\u001b[49m\u001b[38;5;241;43m=\u001b[39;49m\u001b[43margs\u001b[49m\u001b[43m,\u001b[49m\n\u001b[1;32m    501\u001b[0m \u001b[43m        \u001b[49m\u001b[43mattrs\u001b[49m\u001b[38;5;241;43m=\u001b[39;49m\u001b[43mattrs\u001b[49m\u001b[43m,\u001b[49m\n\u001b[1;32m    502\u001b[0m \u001b[43m        \u001b[49m\u001b[43mctx\u001b[49m\u001b[38;5;241;43m=\u001b[39;49m\u001b[43mctx\u001b[49m\u001b[43m)\u001b[49m\n\u001b[1;32m    503\u001b[0m   \u001b[38;5;28;01melse\u001b[39;00m:\n\u001b[1;32m    504\u001b[0m     outputs \u001b[38;5;241m=\u001b[39m execute\u001b[38;5;241m.\u001b[39mexecute_with_cancellation(\n\u001b[1;32m    505\u001b[0m         \u001b[38;5;28mstr\u001b[39m(\u001b[38;5;28mself\u001b[39m\u001b[38;5;241m.\u001b[39msignature\u001b[38;5;241m.\u001b[39mname),\n\u001b[1;32m    506\u001b[0m         num_outputs\u001b[38;5;241m=\u001b[39m\u001b[38;5;28mself\u001b[39m\u001b[38;5;241m.\u001b[39m_num_outputs,\n\u001b[0;32m   (...)\u001b[0m\n\u001b[1;32m    509\u001b[0m         ctx\u001b[38;5;241m=\u001b[39mctx,\n\u001b[1;32m    510\u001b[0m         cancellation_manager\u001b[38;5;241m=\u001b[39mcancellation_manager)\n",
      "File \u001b[0;32m~/.local/lib/python3.8/site-packages/tensorflow/python/eager/execute.py:54\u001b[0m, in \u001b[0;36mquick_execute\u001b[0;34m(op_name, num_outputs, inputs, attrs, ctx, name)\u001b[0m\n\u001b[1;32m     52\u001b[0m \u001b[38;5;28;01mtry\u001b[39;00m:\n\u001b[1;32m     53\u001b[0m   ctx\u001b[38;5;241m.\u001b[39mensure_initialized()\n\u001b[0;32m---> 54\u001b[0m   tensors \u001b[38;5;241m=\u001b[39m \u001b[43mpywrap_tfe\u001b[49m\u001b[38;5;241;43m.\u001b[39;49m\u001b[43mTFE_Py_Execute\u001b[49m\u001b[43m(\u001b[49m\u001b[43mctx\u001b[49m\u001b[38;5;241;43m.\u001b[39;49m\u001b[43m_handle\u001b[49m\u001b[43m,\u001b[49m\u001b[43m \u001b[49m\u001b[43mdevice_name\u001b[49m\u001b[43m,\u001b[49m\u001b[43m \u001b[49m\u001b[43mop_name\u001b[49m\u001b[43m,\u001b[49m\n\u001b[1;32m     55\u001b[0m \u001b[43m                                      \u001b[49m\u001b[43minputs\u001b[49m\u001b[43m,\u001b[49m\u001b[43m \u001b[49m\u001b[43mattrs\u001b[49m\u001b[43m,\u001b[49m\u001b[43m \u001b[49m\u001b[43mnum_outputs\u001b[49m\u001b[43m)\u001b[49m\n\u001b[1;32m     56\u001b[0m \u001b[38;5;28;01mexcept\u001b[39;00m core\u001b[38;5;241m.\u001b[39m_NotOkStatusException \u001b[38;5;28;01mas\u001b[39;00m e:\n\u001b[1;32m     57\u001b[0m   \u001b[38;5;28;01mif\u001b[39;00m name \u001b[38;5;129;01mis\u001b[39;00m \u001b[38;5;129;01mnot\u001b[39;00m \u001b[38;5;28;01mNone\u001b[39;00m:\n",
      "\u001b[0;31mKeyboardInterrupt\u001b[0m: "
     ]
    }
   ],
   "source": [
    "reduce_lr = ReduceLROnPlateau(monitor='val_loss', factor=0.2, patience=1, min_lr=0.0001) # patience 1, min_lr 0.00005\n",
    "stop_early = EarlyStopping(monitor='val_loss', patience=2)\n",
    "\n",
    "tuner_32_new = BayesianOptimization(\n",
    "    hypermodel=build_model,\n",
    "    objective='val_accuracy',\n",
    "    max_trials=30,\n",
    "    project_name='batch_32_new'\n",
    ")\n",
    "\n",
    "history_32_new = tuner_32_new.search(train_X, train_label, batch_size=32, epochs=20, validation_data=(valid_X, valid_label), callbacks=[reduce_lr, stop_early])"
   ]
  },
  {
   "cell_type": "raw",
   "id": "4a429b68-0aaf-455d-a777-044a7733e808",
   "metadata": {},
   "source": [
    "Trial 6 Complete [00h 57m 07s]\n",
    "val_accuracy: 0.9836549758911133\n",
    "\n",
    "Best val_accuracy So Far: 0.9872981309890747\n",
    "Total elapsed time: 02h 06m 17s\n",
    "\n",
    "Search: Running Trial #7\n",
    "\n",
    "Value             |Best Value So Far |Hyperparameter\n",
    "5                 |5                 |dense_layer_count\n",
    "32                |64                |dense_layer_neurons\n",
    "linear            |sigmoid           |dense_layer_activation\n",
    "1                 |1                 |conv_layer_count\n",
    "relu              |relu              |conv_layer_activation\n",
    "1                 |1                 |conv_kernel_split\n",
    "3                 |3                 |conv_kernel_size\n",
    "5                 |2                 |conv_stride\n",
    "16                |48                |conv_kernel_count\n",
    "Adam              |Adam              |optimizer\n",
    "1                 |1                 |conv_dropout\n",
    "1                 |1                 |dense_dropout\n",
    "\n",
    "\n",
    "Value             |Best Value So Far |Hyperparameter\n",
    "1                 |1                 |dense_layer_count\n",
    "64                |96                |dense_layer_neurons\n",
    "relu              |relu              |dense_layer_activation\n",
    "4                 |1                 |conv_layer_count\n",
    "relu              |relu              |conv_layer_activation\n",
    "1                 |1                 |conv_kernel_split\n",
    "7                 |7                 |conv_kernel_size\n",
    "1                 |1                 |conv_stride\n",
    "16                |16                |conv_kernel_count\n",
    "Adam              |Adam              |optimizer\n",
    "1                 |1                 |conv_dropout\n",
    "1                 |1                 |dense_dropout"
   ]
  },
  {
   "cell_type": "code",
   "execution_count": 14,
   "id": "4d12c611-8adc-4901-83da-9a330a089aca",
   "metadata": {},
   "outputs": [],
   "source": [
    "#Settings\n",
    "\n",
    "# batch 64\n",
    "# epoch 1\n",
    "# conv linear\n",
    "\n",
    "batch_size = 32\n",
    "epochs = 20\n",
    "num_classes = 2\n",
    "activation = 'relu'\n",
    "activation_conv = 'relu' #LeakyReLU\n",
    "layer_count = 1\n",
    "num_neurons = 96\n",
    "\n",
    "#for epochs in range(1, 7):\n",
    "    #print(f'+++++ EPOCHS: {epochs} +++++')\n",
    "#Define model structure\n",
    "model = Sequential()\n",
    "\n",
    "#model.add(data_augmentation_new)\n",
    "model.add(Conv2D(16, kernel_size=(7, 1),activation=activation_conv,input_shape=(IMG_SIZE,IMG_SIZE,1),padding='same'))\n",
    "model.add(Conv2D(16, (1, 7), activation=activation_conv,padding='same'))\n",
    "model.add(MaxPooling2D(pool_size=(2, 2),padding='same'))\n",
    "\n",
    "model.add(Dropout(0.2))\n",
    "#model.add(Conv2D(128, (3, 3), activation='linear',padding='same'))                 \n",
    "#model.add(MaxPooling2D(pool_size=(2, 2),padding='same'))\n",
    "model.add(Flatten())\n",
    "\n",
    "model.add(Dense(num_neurons, activation=activation))\n",
    "#model.add(Dense(64, activation=activation))\n",
    "#model.add(Dense(64, activation=activation))\n",
    "#model.add(Dense(128, activation='linear'))\n",
    "#model.add(Dense(128, activation='linear'))\n",
    "\n",
    "# classifier\n",
    "model.add(Dense(num_classes, activation='softmax'))\n",
    "\n",
    "model.compile(loss=tf.keras.metrics.categorical_crossentropy, optimizer=\"adam\", metrics=['accuracy'])"
   ]
  },
  {
   "cell_type": "code",
   "execution_count": 15,
   "id": "c5fbb843-e46d-40ca-a1cf-a86e141cf424",
   "metadata": {},
   "outputs": [
    {
     "name": "stdout",
     "output_type": "stream",
     "text": [
      "Epoch 1/20\n",
      "12342/12342 [==============================] - 208s 17ms/step - loss: 0.0950 - accuracy: 0.9681 - val_loss: 0.0615 - val_accuracy: 0.9795\n",
      "Epoch 2/20\n",
      "12342/12342 [==============================] - 208s 17ms/step - loss: 0.0470 - accuracy: 0.9860 - val_loss: 0.0348 - val_accuracy: 0.9883\n",
      "Epoch 3/20\n",
      "12342/12342 [==============================] - 209s 17ms/step - loss: 0.0343 - accuracy: 0.9895 - val_loss: 0.0229 - val_accuracy: 0.9936\n",
      "Epoch 4/20\n",
      "12342/12342 [==============================] - 211s 17ms/step - loss: 0.0270 - accuracy: 0.9917 - val_loss: 0.0263 - val_accuracy: 0.9930\n",
      "Epoch 5/20\n",
      "12342/12342 [==============================] - 207s 17ms/step - loss: 0.0156 - accuracy: 0.9951 - val_loss: 0.0166 - val_accuracy: 0.9955\n",
      "Epoch 6/20\n",
      "12342/12342 [==============================] - 205s 17ms/step - loss: 0.0138 - accuracy: 0.9957 - val_loss: 0.0176 - val_accuracy: 0.9958\n",
      "Epoch 7/20\n",
      "12342/12342 [==============================] - 208s 17ms/step - loss: 0.0117 - accuracy: 0.9963 - val_loss: 0.0152 - val_accuracy: 0.9964\n",
      "Epoch 8/20\n",
      "12342/12342 [==============================] - 210s 17ms/step - loss: 0.0111 - accuracy: 0.9966 - val_loss: 0.0140 - val_accuracy: 0.9966\n",
      "Epoch 9/20\n",
      "12342/12342 [==============================] - 215s 17ms/step - loss: 0.0105 - accuracy: 0.9968 - val_loss: 0.0137 - val_accuracy: 0.9966\n",
      "Epoch 10/20\n",
      "12342/12342 [==============================] - 211s 17ms/step - loss: 0.0103 - accuracy: 0.9969 - val_loss: 0.0145 - val_accuracy: 0.9968\n",
      "Epoch 11/20\n",
      "12342/12342 [==============================] - 211s 17ms/step - loss: 0.0097 - accuracy: 0.9971 - val_loss: 0.0154 - val_accuracy: 0.9968\n"
     ]
    }
   ],
   "source": [
    "reduce_lr = ReduceLROnPlateau(monitor='val_loss', factor=0.2, patience=1, min_lr=0.0001) # patience 1, min_lr 0.00005\n",
    "stop_early = EarlyStopping(monitor='val_loss', patience=2)\n",
    "\n",
    "history = model.fit(\n",
    "    train_X, \n",
    "    train_label, \n",
    "    batch_size=batch_size,\n",
    "    epochs=epochs,\n",
    "    verbose=1,\n",
    "    validation_data=(valid_X, valid_label),\n",
    "    callbacks=[reduce_lr, stop_early]\n",
    ")"
   ]
  },
  {
   "cell_type": "code",
   "execution_count": 16,
   "id": "0dbdc68e-2ce4-462e-8d98-5e5ba337ca0f",
   "metadata": {},
   "outputs": [
    {
     "name": "stderr",
     "output_type": "stream",
     "text": [
      "WARNING:absl:Found untraced functions such as conv2d_8_layer_call_fn, conv2d_8_layer_call_and_return_conditional_losses, _jit_compiled_convolution_op, conv2d_9_layer_call_fn, conv2d_9_layer_call_and_return_conditional_losses while saving (showing 5 of 14). These functions will not be directly callable after loading.\n"
     ]
    },
    {
     "name": "stdout",
     "output_type": "stream",
     "text": [
      "INFO:tensorflow:Assets written to: model_optimized_1/assets\n"
     ]
    },
    {
     "name": "stderr",
     "output_type": "stream",
     "text": [
      "INFO:tensorflow:Assets written to: model_optimized_1/assets\n"
     ]
    }
   ],
   "source": [
    "MODEL_NAME = 'model_optimized_1'\n",
    "\n",
    "if MODEL_NAME in next(os.walk('.'))[1]:\n",
    "    print('Warning: There already exists a model called \"{}\"'.format(MODEL_NAME))\n",
    "    print('Make sure you want to overwrite it before it gets saved!')\n",
    "else:\n",
    "    model.save(MODEL_NAME)"
   ]
  },
  {
   "cell_type": "markdown",
   "id": "660be36f-b1c0-448f-a099-260deb7a16e8",
   "metadata": {},
   "source": [
    "\n",
    "---------------------------------------------\n"
   ]
  },
  {
   "cell_type": "code",
   "execution_count": 246,
   "id": "a8788401-170f-4ca8-8245-620c1cfa7da0",
   "metadata": {},
   "outputs": [],
   "source": [
    "model = keras.models.load_model('model_new_projector_4')\n"
   ]
  },
  {
   "cell_type": "code",
   "execution_count": 248,
   "id": "63dde092-d74e-46cf-8e5c-20baad434499",
   "metadata": {},
   "outputs": [
    {
     "name": "stdout",
     "output_type": "stream",
     "text": [
      "1/1 [==============================] - 0s 12ms/step\n",
      "[[0. 1.]]\n",
      "1/1 [==============================] - 0s 11ms/step\n",
      "[[0. 1.]]\n",
      "1/1 [==============================] - 0s 10ms/step\n",
      "[[0. 1.]]\n",
      "1/1 [==============================] - 0s 11ms/step\n",
      "[[0. 1.]]\n",
      "--\n",
      "1/1 [==============================] - 0s 11ms/step\n",
      "[[0. 1.]]\n",
      "1/1 [==============================] - 0s 14ms/step\n",
      "[[0. 1.]]\n",
      "1/1 [==============================] - 0s 11ms/step\n",
      "[[0. 1.]]\n",
      "1/1 [==============================] - 0s 10ms/step\n",
      "[[0. 1.]]\n",
      "--\n",
      "1/1 [==============================] - 0s 11ms/step\n",
      "[[0. 1.]]\n",
      "1/1 [==============================] - 0s 11ms/step\n",
      "[[0. 1.]]\n",
      "1/1 [==============================] - 0s 10ms/step\n",
      "[[0. 1.]]\n",
      "1/1 [==============================] - 0s 11ms/step\n",
      "[[0. 1.]]\n",
      "--\n",
      "1/1 [==============================] - 0s 11ms/step\n",
      "[[0. 1.]]\n",
      "1/1 [==============================] - 0s 10ms/step\n",
      "[[0. 1.]]\n",
      "1/1 [==============================] - 0s 10ms/step\n",
      "[[0. 1.]]\n",
      "1/1 [==============================] - 0s 14ms/step\n",
      "[[0. 1.]]\n",
      "--\n",
      "1/1 [==============================] - 0s 10ms/step\n",
      "[[0. 1.]]\n",
      "1/1 [==============================] - 0s 10ms/step\n",
      "[[0. 1.]]\n",
      "1/1 [==============================] - 0s 12ms/step\n",
      "[[0. 1.]]\n",
      "1/1 [==============================] - 0s 11ms/step\n",
      "[[0. 1.]]\n",
      "--\n"
     ]
    },
    {
     "data": {
      "image/png": "[encoded data removed]",
      "text/plain": [
       "<Figure size 1152x1152 with 41 Axes>"
      ]
     },
     "metadata": {
      "needs_background": "light"
     },
     "output_type": "display_data"
    }
   ],
   "source": [
    "ROWS = 4\n",
    "COLUMS = 5\n",
    "\n",
    "\n",
    "image_list = []\n",
    "for i in range(ROWS*COLUMS):\n",
    "    image_list.append(random.sample(images_draw, 1)[0])\n",
    "\n",
    "\n",
    "for i, image in enumerate(image_list):\n",
    "    prediction = model.predict(image.reshape(-1, IMG_SIZE, IMG_SIZE, 1))\n",
    "    print(prediction)\n",
    "    if (i + 1) % 4 == 0:\n",
    "        print('--')\n",
    "    \n",
    "\n",
    "fig = plt.figure(figsize=(16, 16))\n",
    "plt.title('Examples for DRAW')\n",
    "plt.axis('off')\n",
    "grid = ImageGrid(fig, 111,  # similar to subplot(111)\n",
    "                 nrows_ncols=(COLUMS, ROWS),  # creates 2x2 grid of axes\n",
    "                 axes_pad=0.1,  # pad between axes in inch.\n",
    "                 )\n",
    "\n",
    "for ax, im in zip(grid, image_list):\n",
    "    # Iterating over the grid returns the Axes.\n",
    "    ax.imshow(im, 'gray')"
   ]
  },
  {
   "cell_type": "code",
   "execution_count": null,
   "id": "cb594d69-561a-4c81-b2ba-6fef3c049f6b",
   "metadata": {},
   "outputs": [],
   "source": [
    "import cv2\n",
    "import os\n",
    "import random\n",
    "from matplotlib import pyplot as plt\n",
    "\n",
    "STATES = ['draw', 'hover', 'undefined']\n",
    "\n",
    "MODEL_PATH = 'model_new_projector_4'\n",
    "keras.backend.clear_session()\n",
    "#keras_lite_model = LiteModel.from_keras_model(keras.models.load_model(MODEL_PATH))\n",
    "keras_lite_model = keras.models.load_model(MODEL_PATH)\n",
    "print(os.getcwd())\n",
    "draw_path = '../out3/2022-08-02/draw_1_400_18/'\n",
    "image_paths_draw = os.listdir(draw_path)\n",
    "hover_path = 'out3/2022-08-02/hover_close_1_400_18/'\n",
    "image_paths_hover = os.listdir(hover_path)\n",
    "correct = 0\n",
    "num_draw = 0\n",
    "correct_draw = 0\n",
    "num_hover = 0\n",
    "correct_hover = 0\n",
    "brightnesses = []\n",
    "\n",
    "draw_path_temp = []\n",
    "for filename in image_paths_draw:\n",
    "    if '681_597' not in filename:\n",
    "        draw_path_temp.append(filename)\n",
    "    else:\n",
    "        print('Oh no')\n",
    "\n",
    "image_paths_draw = draw_path_temp\n",
    "\n",
    "too_dark = 0\n",
    "for image in image_paths_draw:\n",
    "    img = cv2.imread(draw_path + random.sample(image_paths_draw, 1)[0], cv2.IMREAD_GRAYSCALE)\n",
    "    brightnesses.append(np.max(img))\n",
    "    if np.max(img) < 50:\n",
    "        too_dark +=1\n",
    "\n",
    "print('TOO DARK:', too_dark/len(image_paths_draw))\n",
    "\n",
    "for i in range(1000):\n",
    "    condition = 'hover' if int(random.random() * 1000) % 2 == 0 else 'draw'\n",
    "    # condition = 'draw'\n",
    "    if condition == 'draw':\n",
    "        num_draw += 1\n",
    "        img = cv2.imread(draw_path + random.sample(image_paths_draw, 1)[0], cv2.IMREAD_GRAYSCALE)\n",
    "        # print('Max', np.max(img))\n",
    "    else:\n",
    "        num_hover += 1\n",
    "        img = cv2.imread(hover_path + random.sample(image_paths_hover, 1)[0], cv2.IMREAD_GRAYSCALE)\n",
    "    #cv2.imshow('test', img)\n",
    "    #cv2.waitKey(0)\n",
    "    img = img.reshape(-1, 48, 48, 1)\n",
    "    print(condition)\n",
    "    prediction = keras_lite_model.predict(img)\n",
    "    print(prediction)\n",
    "    state = STATES[np.argmax(prediction)]\n",
    "    if condition == state:\n",
    "        if condition == 'draw':\n",
    "            correct_draw += 1\n",
    "        if condition == 'hover':\n",
    "            correct_hover += 1\n",
    "        correct +=1\n",
    "    # print(condition, state)\n",
    "print('----')\n",
    "print('Correct total:', correct, '%')\n",
    "print('Correct Draw:', correct_draw, ' / ', num_draw) #int((correct_draw/num_draw)*100), '%')\n",
    "print('Correct Hover:', correct_hover, ' / ', num_hover)  # int((correct_draw/num_draw)*100), '%')\n",
    "plt.boxplot(brightnesses)#, np.ones(len(brightnesses), np.uint8))\n",
    "plt.scatter(np.ones(len(brightnesses), np.uint8), brightnesses, alpha=0.2)\n",
    "plt.show()\n"
   ]
  }
 ],
 "metadata": {
  "kernelspec": {
   "display_name": "Python 3 (ipykernel)",
   "language": "python",
   "name": "python3"
  },
  "language_info": {
   "codemirror_mode": {
    "name": "ipython",
    "version": 3
   },
   "file_extension": ".py",
   "mimetype": "text/x-python",
   "name": "python",
   "nbconvert_exporter": "python",
   "pygments_lexer": "ipython3",
   "version": "3.8.10"
  }
 },
 "nbformat": 4,
 "nbformat_minor": 5
}
