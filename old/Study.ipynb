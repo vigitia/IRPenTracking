{
 "cells": [
  {
   "cell_type": "code",
   "execution_count": 1,
   "id": "4b6e49b1",
   "metadata": {},
   "outputs": [],
   "source": [
    "import numpy as np\n",
    "import matplotlib.pyplot as plt\n",
    "import seaborn as sns"
   ]
  },
  {
   "cell_type": "code",
   "execution_count": 2,
   "id": "f70bacd1",
   "metadata": {},
   "outputs": [],
   "source": [
    "p1_start = [\n",
    "    [1,1,1,1,1,1,0.5,1,0,0,0,0,0],\n",
    "    [1,1,1,1,1,1,1,1,0.5,0,0,0,0],\n",
    "    [1,1,1,1,1,1,1,0,1,0,0,0,0.5],\n",
    "    [1,1,1,1,1,1,1,0,0.5,0,0.5,0,0.5],\n",
    "]\n",
    "\n",
    "p1_end = [\n",
    "    [0.5,1,1,1,1,1,0.5,0,1,1,0.5,0,0],\n",
    "    [1,1,1,1,1,1,1,0,1,1,0.5,0,0],\n",
    "    [1,1,1,1,1,1,1,1,1,1,0.5,0,0.5],\n",
    "    [1,1,1,1,1,1,1,1,1,0,0.5,0,0.5],\n",
    "]\n",
    "\n",
    "p2_start = [\n",
    "    [0,0,1,1,1,1,1,1,1,1,1,1,1],\n",
    "    [0,1,1,1,1,1,1,1,1,1,1,1,1],\n",
    "    [0,1,1,1,1,1,1,1,1,1,1,1,1],\n",
    "    [0,1,1,1,1,1,1,1,1,1,1,1,1]\n",
    "]\n",
    "\n",
    "p2_end = [\n",
    "    [0,1,1,1,1,1,1,1,1,1,1,1,1],\n",
    "    [0,1,1,1,1,1,1,1,1,1,1,1,1],\n",
    "    [0.5,0,1,1,1,1,1,1,1,1,1,1,1],\n",
    "    [0.5,1,1,1,1,1,1,1,1,1,1,1,1]\n",
    "]\n",
    "\n",
    "p3_start = [\n",
    "    [0.5,0,1,1,1,1,1,1,1,1,1,1,1],\n",
    "    [0,0,0,1,1,1,1,1,1,1,1,1,1],\n",
    "    [0,0,0,0,0,1,1,1,1,1,1,1,1],\n",
    "    [0,0,0,0,0,0,0,1,1,1,1,1,1]\n",
    "]\n",
    "\n",
    "p3_end = [\n",
    "    [0.5,1,1,1,1,1,1,1,1,1,1,1,1],\n",
    "    [0,0,0,1,1,1,1,1,1,1,1,1,1],\n",
    "    [0,0,0,0,0,1,1,1,1,1,1,1,1],\n",
    "    [0,0,0,0,0,0,0,1,1,1,1,1,1]\n",
    "]\n",
    "\n",
    "p4_start = [\n",
    "    [1,1,1,1,1,1,1,1,1,1,1,1,1],\n",
    "    [0.5,1,0,1,1,1,1,1,1,1,1,1,1],\n",
    "    [1,1,1,1,1,1,1,1,1,1,1,1,1],\n",
    "    [0.5,0,0.5,1,1,1,1,1,1,1,1,1,1]\n",
    "]\n",
    "\n",
    "p4_end = [\n",
    "    [0.5,1,1,1,0.5,1,1,1,1,1,1,1,1],\n",
    "    [0.5,1,1,1,1,1,1,1,1,1,1,1,1],\n",
    "    [0.5,1,1,1,1,1,1,1,1,1,1,1,1],\n",
    "    [0.5,0,1,1,1,1,1,1,1,1,1,1,1]\n",
    "]\n",
    "\n",
    "p5_start = [\n",
    "    [0.5,0.5,1,1,1,1,1,1,1,1,1,1,0],\n",
    "    [0,0.5,1,1,1,1,1,1,1,1,1,1,0.5],\n",
    "    [0,0.5,1,1,1,1,1,1,1,1,1,1,0.5],\n",
    "    [0.5,1,1,1,1,1,1,1,1,1,1,1,0.5]\n",
    "]\n",
    "\n",
    "p5_end = [\n",
    "    [0,0,0,0,0.5,1,1,1,1,1,1,1,0],\n",
    "    [0,0,0,0,0.5,1,1,1,1,1,1,1,0],\n",
    "    [0,0,0,0,0.5,1,1,1,1,1,1,1,0.5],\n",
    "    [0,0,1,1,0.5,1,1,1,1,1,1,1,1]\n",
    "]\n",
    "\n",
    "p6_start = [\n",
    "    [1,1,1,0.5,1,1,0.5,1,0.5,0,0,0,0],\n",
    "    [1,1,1,0.5,0,0,0,0,0.5,0,0,0,0],\n",
    "    [1,1,1,0.5,1,0,1,0,0,0,0,0,0],\n",
    "    [1,1,1,0.5,0,0,0.5,1,0.5,0,0,0,0]\n",
    "]\n",
    "\n",
    "p6_end = [\n",
    "    [1,1,1,1,1,1,1,1,1,1,1,1,0],\n",
    "    [1,1,1,1,1,1,1,1,1,1,1,1,0.5],\n",
    "    [1,1,1,1,1,1,1,1,1,1,1,1,0.5],\n",
    "    [1,1,1,1,1,1,1,1,1,1,0.5,1,0.5]\n",
    "]\n",
    "\n",
    "p7_start = [\n",
    "    [1,1,1,1,1,1,0.5,0,0,0,0.5,0,0],\n",
    "    [1,1,1,1,1,1,1,1,1,1,0,0,0],\n",
    "    [1,1,1,1,1,1,1,1,1,1,0.5,1,0.5],\n",
    "    [1,1,1,1,1,1,1,1,1,1,0.5,1,1],\n",
    "]\n",
    "\n",
    "p7_end = [\n",
    "    [1,1,1,1,1,1,0.5,0,0.5,0,1,1,0.5],\n",
    "    [1,1,1,1,1,1,1,1,1,1,1,1,0],\n",
    "    [1,1,1,1,1,1,1,1,1,1,0.5,1,0],\n",
    "    [1,1,1,1,1,1,1,1,1,1,0.5,1,0]\n",
    "]\n"
   ]
  },
  {
   "cell_type": "code",
   "execution_count": 3,
   "id": "27397d8d",
   "metadata": {},
   "outputs": [
    {
     "name": "stdout",
     "output_type": "stream",
     "text": [
      "13\n",
      "13\n",
      "13\n",
      "13\n"
     ]
    }
   ],
   "source": [
    "for row in p7_start:\n",
    "    print(len(row))"
   ]
  },
  {
   "cell_type": "code",
   "execution_count": 4,
   "id": "49c84754-2809-4b07-a88c-ff6c575e5f8b",
   "metadata": {},
   "outputs": [],
   "source": [
    "all_start = np.matrix(p1_start) + np.matrix(p2_start) + np.matrix(p3_start) + np.matrix(p4_start) + np.matrix(p5_start) + np.matrix(p6_start) + np.matrix(p7_start)\n",
    "all_end = np.matrix(p1_end) + np.matrix(p2_end) + np.matrix(p3_end) + np.matrix(p4_end) + np.matrix(p5_end) + np.matrix(p6_end) + np.matrix(p7_end)"
   ]
  },
  {
   "cell_type": "code",
   "execution_count": 37,
   "id": "caffa41a-8df2-4863-b55e-f3814250c28e",
   "metadata": {},
   "outputs": [],
   "source": [
    "right_start = np.matrix(p2_start) + np.matrix(p3_start) + np.matrix(p4_start) + np.matrix(p5_start)\n",
    "right_end = np.matrix(p2_end) + np.matrix(p3_end) + np.matrix(p4_end) + np.matrix(p5_end)\n",
    "\n",
    "left_start = np.matrix(p1_start) + np.matrix(p6_start) + np.matrix(p7_start)\n",
    "left_end = np.matrix(p1_end) + np.matrix(p6_end) + np.matrix(p7_end)\n",
    "\n",
    "right_all = right_start + right_end\n",
    "left_all = left_start + left_end"
   ]
  },
  {
   "cell_type": "code",
   "execution_count": 38,
   "id": "b52524a8",
   "metadata": {},
   "outputs": [
    {
     "name": "stdout",
     "output_type": "stream",
     "text": [
      "P1: Start: 0.6346153846153846; End: 0.75\n",
      "P2: Start: 0.9038461538461539; End: 0.9230769230769231\n",
      "P3: Start: 0.6826923076923077; End: 0.7019230769230769\n",
      "P4: Start: 0.9326923076923077; End: 0.9326923076923077\n",
      "P5: Start: 0.8653846153846154; End: 0.6442307692307693\n",
      "P6: Start: 0.4326923076923077; End: 0.9423076923076923\n",
      "P7: Start: 0.7980769230769231; End: 0.8557692307692307\n",
      "All Start: 0.75\n",
      "All End: 0.8214285714285714\n"
     ]
    }
   ],
   "source": [
    "print('P1: Start: {}; End: {}'.format(np.mean(p1_start), np.mean(p1_end)))\n",
    "print('P2: Start: {}; End: {}'.format(np.mean(p2_start), np.mean(p2_end)))\n",
    "print('P3: Start: {}; End: {}'.format(np.mean(p3_start), np.mean(p3_end)))\n",
    "print('P4: Start: {}; End: {}'.format(np.mean(p4_start), np.mean(p4_end)))\n",
    "print('P5: Start: {}; End: {}'.format(np.mean(p5_start), np.mean(p5_end)))\n",
    "print('P6: Start: {}; End: {}'.format(np.mean(p6_start), np.mean(p6_end)))\n",
    "print('P7: Start: {}; End: {}'.format(np.mean(p7_start), np.mean(p7_end)))\n",
    "\n",
    "NUM_PARTICIPANTS = 7\n",
    "\n",
    "print('All Start:', np.mean(all_start)/NUM_PARTICIPANTS)\n",
    "print('All End:', np.mean(all_end)/NUM_PARTICIPANTS)"
   ]
  },
  {
   "cell_type": "code",
   "execution_count": 7,
   "id": "c30f8a39",
   "metadata": {},
   "outputs": [
    {
     "data": {
      "image/png": "[encoded data removed]",
      "text/plain": [
       "<Figure size 432x288 with 1 Axes>"
      ]
     },
     "metadata": {},
     "output_type": "display_data"
    }
   ],
   "source": [
    "# fig, ax = plt.subplots(figsize=(16, 9))\n",
    "ax = sns.heatmap(p1_start, cbar=False, xticklabels=False, yticklabels=False, cmap=\"Greys_r\")"
   ]
  },
  {
   "cell_type": "code",
   "execution_count": 8,
   "id": "e024715a",
   "metadata": {},
   "outputs": [
    {
     "data": {
      "image/png": "[encoded data removed]",
      "text/plain": [
       "<Figure size 432x288 with 1 Axes>"
      ]
     },
     "metadata": {},
     "output_type": "display_data"
    }
   ],
   "source": [
    "ax = sns.heatmap(p1_end, cbar=False, xticklabels=False, yticklabels=False, cmap=\"Greys_r\")"
   ]
  },
  {
   "cell_type": "code",
   "execution_count": 9,
   "id": "20b194ce",
   "metadata": {},
   "outputs": [
    {
     "data": {
      "image/png": "[encoded data removed]",
      "text/plain": [
       "<Figure size 432x288 with 1 Axes>"
      ]
     },
     "metadata": {},
     "output_type": "display_data"
    }
   ],
   "source": [
    "ax = sns.heatmap(p2_start, cbar=False, xticklabels=False, yticklabels=False, cmap=\"Greys_r\")"
   ]
  },
  {
   "cell_type": "code",
   "execution_count": 10,
   "id": "6fe5b50a-048e-4c58-8d7d-82f52d19a6d6",
   "metadata": {},
   "outputs": [
    {
     "data": {
      "image/png": "[encoded data removed]",
      "text/plain": [
       "<Figure size 432x288 with 1 Axes>"
      ]
     },
     "metadata": {},
     "output_type": "display_data"
    }
   ],
   "source": [
    "ax = sns.heatmap(p2_end, cbar=False, xticklabels=False, yticklabels=False, cmap=\"Greys_r\")"
   ]
  },
  {
   "cell_type": "code",
   "execution_count": 11,
   "id": "1fa487a8-644c-4a33-b74b-d74f2acf2aae",
   "metadata": {},
   "outputs": [
    {
     "data": {
      "image/png": "[encoded data removed]",
      "text/plain": [
       "<Figure size 432x288 with 1 Axes>"
      ]
     },
     "metadata": {},
     "output_type": "display_data"
    }
   ],
   "source": [
    "ax = sns.heatmap(p3_start, cbar=False, xticklabels=False, yticklabels=False, cmap=\"Greys_r\")"
   ]
  },
  {
   "cell_type": "code",
   "execution_count": 12,
   "id": "a5056285-a193-4a0b-ba40-6ebbd580317c",
   "metadata": {},
   "outputs": [
    {
     "data": {
      "image/png": "[encoded data removed]",
      "text/plain": [
       "<Figure size 432x288 with 1 Axes>"
      ]
     },
     "metadata": {},
     "output_type": "display_data"
    }
   ],
   "source": [
    "ax = sns.heatmap(p3_end, cbar=False, xticklabels=False, yticklabels=False, cmap=\"Greys_r\")"
   ]
  },
  {
   "cell_type": "code",
   "execution_count": 13,
   "id": "14083b66-bbdc-4bc7-a2dc-e3d31007a5c9",
   "metadata": {},
   "outputs": [
    {
     "data": {
      "image/png": "[encoded data removed]",
      "text/plain": [
       "<Figure size 432x288 with 1 Axes>"
      ]
     },
     "metadata": {},
     "output_type": "display_data"
    }
   ],
   "source": [
    "ax = sns.heatmap(p4_start, cbar=False, xticklabels=False, yticklabels=False, cmap=\"Greys_r\")"
   ]
  },
  {
   "cell_type": "code",
   "execution_count": 14,
   "id": "a0d0574a-1f7d-4ac5-b237-d46ab83f8fdb",
   "metadata": {},
   "outputs": [
    {
     "data": {
      "image/png": "[encoded data removed]",
      "text/plain": [
       "<Figure size 432x288 with 1 Axes>"
      ]
     },
     "metadata": {},
     "output_type": "display_data"
    }
   ],
   "source": [
    "ax = sns.heatmap(p4_end, cbar=False, xticklabels=False, yticklabels=False, cmap=\"Greys_r\")"
   ]
  },
  {
   "cell_type": "code",
   "execution_count": 15,
   "id": "d97ea0a2-5d81-450c-90fa-6b82cea21ed9",
   "metadata": {},
   "outputs": [
    {
     "data": {
      "image/png": "[encoded data removed]",
      "text/plain": [
       "<Figure size 432x288 with 1 Axes>"
      ]
     },
     "metadata": {},
     "output_type": "display_data"
    }
   ],
   "source": [
    "ax = sns.heatmap(p5_start, cbar=False, xticklabels=False, yticklabels=False, cmap=\"Greys_r\")"
   ]
  },
  {
   "cell_type": "code",
   "execution_count": 16,
   "id": "6d45186c-2587-49cf-8cfa-9ff6f4a11196",
   "metadata": {},
   "outputs": [
    {
     "data": {
      "image/png": "[encoded data removed]",
      "text/plain": [
       "<Figure size 432x288 with 1 Axes>"
      ]
     },
     "metadata": {},
     "output_type": "display_data"
    }
   ],
   "source": [
    "ax = sns.heatmap(p5_end, cbar=False, xticklabels=False, yticklabels=False, cmap=\"Greys_r\")"
   ]
  },
  {
   "cell_type": "code",
   "execution_count": 17,
   "id": "7b1a8e7d-f3f2-4b09-a2ae-d1f28d878e21",
   "metadata": {},
   "outputs": [
    {
     "data": {
      "image/png": "[encoded data removed]",
      "text/plain": [
       "<Figure size 432x288 with 1 Axes>"
      ]
     },
     "metadata": {},
     "output_type": "display_data"
    }
   ],
   "source": [
    "ax = sns.heatmap(all_start, cbar=False, xticklabels=False, yticklabels=False, cmap=\"Greys_r\", annot=True)\n"
   ]
  },
  {
   "cell_type": "code",
   "execution_count": 18,
   "id": "8c381e6e-fb9a-4265-9638-36efed7ac5db",
   "metadata": {},
   "outputs": [
    {
     "data": {
      "image/png": "[encoded data removed]",
      "text/plain": [
       "<Figure size 432x288 with 1 Axes>"
      ]
     },
     "metadata": {},
     "output_type": "display_data"
    }
   ],
   "source": [
    "ax = sns.heatmap(all_end, cbar=False, xticklabels=False, yticklabels=False, cmap=\"Greys_r\", annot=True)"
   ]
  },
  {
   "cell_type": "code",
   "execution_count": 19,
   "id": "89ef177c-d7fa-4264-ab1f-f7d41fce1d30",
   "metadata": {},
   "outputs": [
    {
     "data": {
      "text/plain": [
       "<AxesSubplot:>"
      ]
     },
     "execution_count": 19,
     "metadata": {},
     "output_type": "execute_result"
    },
    {
     "data": {
      "image/png": "[encoded data removed]",
      "text/plain": [
       "<Figure size 1440x504 with 4 Axes>"
      ]
     },
     "metadata": {},
     "output_type": "display_data"
    }
   ],
   "source": [
    "fig, axes = plt.subplots(2, 2, figsize=(20, 7))\n",
    "\n",
    "plt.tight_layout()\n",
    "\n",
    "annot = False\n",
    "color = \"Blues_r\"\n",
    "\n",
    "sns.heatmap(left_start, cbar=False, xticklabels=False, yticklabels=False, cmap=color, annot=annot, ax=axes[0][0])\n",
    "sns.heatmap(left_end, cbar=False, xticklabels=False, yticklabels=False, cmap=color, annot=annot, ax=axes[1][0])\n",
    "sns.heatmap(right_start, cbar=False, xticklabels=False, yticklabels=False, cmap=color, annot=annot, ax=axes[0][1])\n",
    "sns.heatmap(right_end, cbar=False, xticklabels=False, yticklabels=False, cmap=color, annot=annot, ax=axes[1][1])\n",
    "\n"
   ]
  },
  {
   "cell_type": "code",
   "execution_count": 32,
   "id": "f1f3939f-fe30-451d-b6e6-cda06f990cbb",
   "metadata": {},
   "outputs": [
    {
     "name": "stdout",
     "output_type": "stream",
     "text": [
      "All tasks, left vs right\n"
     ]
    },
    {
     "data": {
      "image/png": "[encoded data removed]",
      "text/plain": [
       "<Figure size 1584x288 with 2 Axes>"
      ]
     },
     "metadata": {},
     "output_type": "display_data"
    }
   ],
   "source": [
    "print('All tasks, left vs right')\n",
    "\n",
    "fig, axes = plt.subplots(1, 2, figsize=(22, 4))\n",
    "\n",
    "plt.tight_layout()\n",
    "\n",
    "annot = False\n",
    "color = \"Reds_r\"\n",
    "\n",
    "sns.heatmap(left_all, cbar=False, xticklabels=False, yticklabels=False, cmap=color, annot=annot, ax=axes[0])\n",
    "sns.heatmap(right_all, cbar=False, xticklabels=False, yticklabels=False, cmap=color, annot=annot, ax=axes[1])\n",
    "\n",
    "plt.savefig('results_red.svg')"
   ]
  },
  {
   "cell_type": "code",
   "execution_count": null,
   "id": "522cc16d-a9e2-4a49-8a45-70927a13e75a",
   "metadata": {},
   "outputs": [],
   "source": []
  }
 ],
 "metadata": {
  "kernelspec": {
   "display_name": "Python 3 (ipykernel)",
   "language": "python",
   "name": "python3"
  },
  "language_info": {
   "codemirror_mode": {
    "name": "ipython",
    "version": 3
   },
   "file_extension": ".py",
   "mimetype": "text/x-python",
   "name": "python",
   "nbconvert_exporter": "python",
   "pygments_lexer": "ipython3",
   "version": "3.8.10"
  }
 },
 "nbformat": 4,
 "nbformat_minor": 5
}
