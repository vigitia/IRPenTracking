{
 "cells": [
  {
   "cell_type": "code",
   "execution_count": 11,
   "id": "4b6e49b1",
   "metadata": {},
   "outputs": [],
   "source": [
    "import numpy as np\n",
    "import matplotlib.pyplot as plt\n",
    "import seaborn as sns"
   ]
  },
  {
   "cell_type": "code",
   "execution_count": 36,
   "id": "f70bacd1",
   "metadata": {},
   "outputs": [],
   "source": [
    "p1_start = [\n",
    "    [1,1,1,1,1,1,0.5,1,0,0,0,0,0],\n",
    "    [1,1,1,1,1,1,1,1,0.5,0,0,0,0],\n",
    "    [1,1,1,1,1,1,1,0,1,0,0,0,0.5],\n",
    "    [1,1,1,1,1,1,1,0,0.5,0,0.5,0,0.5],\n",
    "]\n",
    "\n",
    "p1_end = [\n",
    "    [0.5,1,1,1,1,1,0.5,0,1,1,0.5,0,0],\n",
    "    [1,1,1,1,1,1,1,0,1,1,0.5,0,0],\n",
    "    [1,1,1,1,1,1,1,1,1,1,0.5,0,0.5],\n",
    "    [1,1,1,1,1,1,1,1,1,0,0.5,0,0.5],\n",
    "]\n",
    "\n",
    "p2_start = [\n",
    "    [0,0,1,1,1,1,1,1,1,1,1,1,1],\n",
    "    [0,1,1,1,1,1,1,1,1,1,1,1,1],\n",
    "    [0,1,1,1,1,1,1,1,1,1,1,1,1],\n",
    "    [0,1,1,1,1,1,1,1,1,1,1,1,1]\n",
    "]\n",
    "\n",
    "p2_end = [\n",
    "    [0,1,1,1,1,1,1,1,1,1,1,1,1],\n",
    "    [0,1,1,1,1,1,1,1,1,1,1,1,1],\n",
    "    [0.5,0,1,1,1,1,1,1,1,1,1,1,1],\n",
    "    [0.5,1,1,1,1,1,1,1,1,1,1,1,1]\n",
    "]\n",
    "\n",
    "p3_start = [\n",
    "    [0.5,0,1,1,1,1,1,1,1,1,1,1,1],\n",
    "    [0,0,0,1,1,1,1,1,1,1,1,1,1],\n",
    "    [0,0,0,0,0,1,1,1,1,1,1,1,1],\n",
    "    [0,0,0,0,0,0,0,1,1,1,1,1,1]\n",
    "]\n",
    "\n",
    "p3_end = [\n",
    "    [0.5,1,1,1,1,1,1,1,1,1,1,1,1],\n",
    "    [0,0,0,1,1,1,1,1,1,1,1,1,1],\n",
    "    [0,0,0,0,0,1,1,1,1,1,1,1,1],\n",
    "    [0,0,0,0,0,0,0,1,1,1,1,1,1]\n",
    "]\n",
    "\n",
    "p4_start = [\n",
    "    [],\n",
    "    [],\n",
    "    [],\n",
    "    []\n",
    "]\n",
    "\n",
    "p4_end = [\n",
    "    [],\n",
    "    [],\n",
    "    [],\n",
    "    []\n",
    "]\n",
    "\n",
    "p5_start = [\n",
    "    [],\n",
    "    [],\n",
    "    [],\n",
    "    []\n",
    "]\n",
    "\n",
    "p5_end = [\n",
    "    [],\n",
    "    [],\n",
    "    [],\n",
    "    []\n",
    "]\n",
    "\n",
    "p6_start = [\n",
    "    [],\n",
    "    [],\n",
    "    [],\n",
    "    []\n",
    "]\n",
    "\n",
    "p6_end = [\n",
    "    [],\n",
    "    [],\n",
    "    [],\n",
    "    []\n",
    "]"
   ]
  },
  {
   "cell_type": "code",
   "execution_count": 37,
   "id": "27397d8d",
   "metadata": {},
   "outputs": [
    {
     "name": "stdout",
     "output_type": "stream",
     "text": [
      "13\n",
      "13\n",
      "13\n",
      "13\n"
     ]
    }
   ],
   "source": [
    "for row in p3_end:\n",
    "    print(len(row))"
   ]
  },
  {
   "cell_type": "code",
   "execution_count": 38,
   "id": "b52524a8",
   "metadata": {},
   "outputs": [
    {
     "name": "stdout",
     "output_type": "stream",
     "text": [
      "P1: Start: 0.6346153846153846; End: 0.75\n",
      "P2: Start: 0.9038461538461539; End: 0.9230769230769231\n",
      "P3: Start: 0.6826923076923077; End: 0.7019230769230769\n",
      "P4: Start: nan; End: nan\n",
      "P5: Start: nan; End: nan\n",
      "P6: Start: nan; End: nan\n"
     ]
    }
   ],
   "source": [
    "print('P1: Start: {}; End: {}'.format(np.mean(p1_start), np.mean(p1_end)))\n",
    "print('P2: Start: {}; End: {}'.format(np.mean(p2_start), np.mean(p2_end)))\n",
    "print('P3: Start: {}; End: {}'.format(np.mean(p3_start), np.mean(p3_end)))\n",
    "print('P4: Start: {}; End: {}'.format(np.mean(p4_start), np.mean(p4_end)))\n",
    "print('P5: Start: {}; End: {}'.format(np.mean(p5_start), np.mean(p5_end)))\n",
    "print('P6: Start: {}; End: {}'.format(np.mean(p6_start), np.mean(p6_end)))"
   ]
  },
  {
   "cell_type": "code",
   "execution_count": 40,
   "id": "175f7fb5",
   "metadata": {},
   "outputs": [
    {
     "data": {
      "text/plain": [
       "0.75"
      ]
     },
     "execution_count": 40,
     "metadata": {},
     "output_type": "execute_result"
    }
   ],
   "source": [
    "np.mean(p1_end)\n",
    "np.mean(p2_end)"
   ]
  },
  {
   "cell_type": "code",
   "execution_count": 32,
   "id": "c30f8a39",
   "metadata": {},
   "outputs": [
    {
     "data": {
      "image/png": "[encoded data removed]",
      "text/plain": [
       "<Figure size 432x288 with 1 Axes>"
      ]
     },
     "metadata": {},
     "output_type": "display_data"
    }
   ],
   "source": [
    "# fig, ax = plt.subplots(figsize=(16, 9))\n",
    "ax = sns.heatmap(p1_start, cbar=False, xticklabels=False, yticklabels=False, cmap=\"Greys_r\")"
   ]
  },
  {
   "cell_type": "code",
   "execution_count": 28,
   "id": "e024715a",
   "metadata": {},
   "outputs": [
    {
     "data": {
      "image/png": "[encoded data removed]",
      "text/plain": [
       "<Figure size 432x288 with 1 Axes>"
      ]
     },
     "metadata": {},
     "output_type": "display_data"
    }
   ],
   "source": [
    "ax = sns.heatmap(p1_end, cbar=False, xticklabels=False, yticklabels=False, cmap=\"Greys_r\")"
   ]
  },
  {
   "cell_type": "code",
   "execution_count": 30,
   "id": "20b194ce",
   "metadata": {},
   "outputs": [
    {
     "data": {
      "image/png": "[encoded data removed]",
      "text/plain": [
       "<Figure size 432x288 with 1 Axes>"
      ]
     },
     "metadata": {},
     "output_type": "display_data"
    }
   ],
   "source": [
    "ax = sns.heatmap(p2_start, cbar=False, xticklabels=False, yticklabels=False, cmap=\"Greys_r\")"
   ]
  },
  {
   "cell_type": "code",
   "execution_count": 31,
   "id": "6fe5b50a-048e-4c58-8d7d-82f52d19a6d6",
   "metadata": {},
   "outputs": [
    {
     "data": {
      "image/png": "[encoded data removed]",
      "text/plain": [
       "<Figure size 432x288 with 1 Axes>"
      ]
     },
     "metadata": {},
     "output_type": "display_data"
    }
   ],
   "source": [
    "ax = sns.heatmap(p2_end, cbar=False, xticklabels=False, yticklabels=False, cmap=\"Greys_r\")"
   ]
  },
  {
   "cell_type": "code",
   "execution_count": 39,
   "id": "1fa487a8-644c-4a33-b74b-d74f2acf2aae",
   "metadata": {},
   "outputs": [
    {
     "data": {
      "image/png": "[encoded data removed]",
      "text/plain": [
       "<Figure size 432x288 with 1 Axes>"
      ]
     },
     "metadata": {},
     "output_type": "display_data"
    }
   ],
   "source": [
    "ax = sns.heatmap(p3_start, cbar=False, xticklabels=False, yticklabels=False, cmap=\"Greys_r\")"
   ]
  },
  {
   "cell_type": "code",
   "execution_count": 40,
   "id": "a5056285-a193-4a0b-ba40-6ebbd580317c",
   "metadata": {},
   "outputs": [
    {
     "data": {
      "image/png": "[encoded data removed]",
      "text/plain": [
       "<Figure size 432x288 with 1 Axes>"
      ]
     },
     "metadata": {},
     "output_type": "display_data"
    }
   ],
   "source": [
    "ax = sns.heatmap(p3_end, cbar=False, xticklabels=False, yticklabels=False, cmap=\"Greys_r\")"
   ]
  },
  {
   "cell_type": "code",
   "execution_count": null,
   "id": "14083b66-bbdc-4bc7-a2dc-e3d31007a5c9",
   "metadata": {},
   "outputs": [],
   "source": []
  }
 ],
 "metadata": {
  "kernelspec": {
   "display_name": "Python 3 (ipykernel)",
   "language": "python",
   "name": "python3"
  },
  "language_info": {
   "codemirror_mode": {
    "name": "ipython",
    "version": 3
   },
   "file_extension": ".py",
   "mimetype": "text/x-python",
   "name": "python",
   "nbconvert_exporter": "python",
   "pygments_lexer": "ipython3",
   "version": "3.8.10"
  }
 },
 "nbformat": 4,
 "nbformat_minor": 5
}
